{
 "cells": [
  {
   "cell_type": "markdown",
   "metadata": {},
   "source": [
    "# Project - EDA with Pandas Using the Boston Housing Data\n",
    "\n",
    "## Introduction\n",
    "\n",
    "In this section, you've learned a lot about importing, cleaning up, analyzing (using descriptive statistics) and visualizing data. In this more free-form project, you'll get a chance to practice all of these skills with the Boston Housing dataset, which contains housing values in the suburbs of Boston. The Boston housing data is commonly used by aspiring Data Scientists.\n",
    "\n",
    "## Objectives\n",
    "\n",
    "You will be able to:\n",
    "\n",
    "* Perform a full exploratory data analysis process to gain insight about a dataset \n",
    "\n",
    "## Goals\n",
    "\n",
    "Use your data munging and visualization skills to conduct an exploratory analysis of the dataset below. At a minimum, this should include:\n",
    "\n",
    "* Loading the data (which is stored in the file `'train.csv'`) \n",
    "* Use built-in Python functions to explore measures of centrality and dispersion for at least 3 variables\n",
    "* Create *meaningful* subsets of the data using selection operations like `.loc`, `.iloc`, or related operations.   Explain why you used the chosen subsets and do this for three possible 2-way splits. State how you think the two measures of centrality and/or dispersion might be different for each subset of the data. Examples of potential splits:\n",
    "    - Create two new DataFrames based on your existing data, where one contains all the properties next to the Charles river, and the other one contains properties that aren't \n",
    "    - Create two new DataFrames based on a certain split for crime rate \n",
    "* Next, use histograms and scatter plots to see whether you observe differences for the subsets of the data. Make sure to use subplots so it is easy to compare the relationships.\n",
    "\n",
    "## Variable Descriptions\n",
    "\n",
    "This DataFrame contains the following columns:\n",
    "\n",
    "- `crim`: per capita crime rate by town  \n",
    "- `zn`: proportion of residential land zoned for lots over 25,000 sq.ft  \n",
    "- `indus`: proportion of non-retail business acres per town   \n",
    "- `chas`: Charles River dummy variable (= 1 if tract bounds river; 0 otherwise)  \n",
    "- `nox`: nitrogen oxide concentration (parts per 10 million)   \n",
    "- `rm`: average number of rooms per dwelling   \n",
    "- `age`: proportion of owner-occupied units built prior to 1940  \n",
    "- `dis`: weighted mean of distances to five Boston employment centers   \n",
    "- `rad`: index of accessibility to radial highways   \n",
    "- `tax`: full-value property-tax rate per \\$10,000   \n",
    "- `ptratio`: pupil-teacher ratio by town    \n",
    "- `b`: 1000(Bk - 0.63)^2 where Bk is the proportion of African American individuals by town   \n",
    "- `lstat`: lower status of the population (percent)   \n",
    "- `medv`: median value of owner-occupied homes in $10000s \n",
    "  \n",
    "    \n",
    "Source\n",
    "Harrison, D. and Rubinfeld, D.L. (1978) Hedonic prices and the demand for clean air. J. Environ. Economics and Management 5, 81–102.\n",
    "\n",
    "Belsley D.A., Kuh, E. and Welsch, R.E. (1980) Regression Diagnostics. Identifying Influential Data and Sources of Collinearity. New York: Wiley.\n"
   ]
  },
  {
   "cell_type": "code",
   "execution_count": 18,
   "metadata": {},
   "outputs": [],
   "source": [
    "# Def functions for correlation and covariance\n",
    "import pandas as pd\n",
    "import math\n",
    "from collections import Counter\n",
    "import matplotlib\n",
    "%matplotlib inline\n",
    "\n",
    "\n",
    "def mean_normalize(data):\n",
    "    mean = sum(data) / len(data)\n",
    "    normalized_mean = [x - mean for x in data]\n",
    "    return normalized_mean\n",
    "\n",
    "def dot_product(x, y):\n",
    "    return sum([tup[0]*tup[1] for tup in zip(x, y)])\n",
    "\n",
    "def covariance(var1, var2):\n",
    "    return dot_product(mean_normalize(var1), mean_normalize(var2)) / (len(var1) -1)\n",
    "\n",
    "def correlation(var1, var2):\n",
    "    var1_norm_mean = mean_normalize(var1)\n",
    "    var2_norm_mean = mean_normalize(var2)\n",
    "    var1_denom = sum([x**2 for x in var1_norm_mean])\n",
    "    var2_denom = sum([y**2 for y in var2_norm_mean])\n",
    "    return dot_product(var1_norm_mean, var2_norm_mean) / math.sqrt(var1_denom * var2_denom)\n",
    "\n",
    "def get_mean(data):\n",
    "    return sum(data) / len(data)\n",
    "\n",
    "def get_median(data):\n",
    "    data.sort()\n",
    "    if len(data) % 2 == 0:\n",
    "        first = len(data) / 2\n",
    "        second = first + 1\n",
    "        return (first + second) / 2\n",
    "    else:\n",
    "        index = len(data) // 2\n",
    "        return data[index]\n",
    "    \n",
    "def get_mode(data):\n",
    "    c = Counter(data)\n",
    "    return [x for x, v in c.items() if v == max(c.values())]"
   ]
  },
  {
   "cell_type": "code",
   "execution_count": 3,
   "metadata": {},
   "outputs": [],
   "source": [
    "# Loading the data (which is stored in the file 'train.csv')\n",
    "df = pd.read_csv('train.csv')"
   ]
  },
  {
   "cell_type": "code",
   "execution_count": 4,
   "metadata": {},
   "outputs": [
    {
     "name": "stdout",
     "output_type": "stream",
     "text": [
      "<class 'pandas.core.frame.DataFrame'>\n",
      "RangeIndex: 333 entries, 0 to 332\n",
      "Data columns (total 15 columns):\n",
      "ID         333 non-null int64\n",
      "crim       333 non-null float64\n",
      "zn         333 non-null float64\n",
      "indus      333 non-null float64\n",
      "chas       333 non-null int64\n",
      "nox        333 non-null float64\n",
      "rm         333 non-null float64\n",
      "age        333 non-null float64\n",
      "dis        333 non-null float64\n",
      "rad        333 non-null int64\n",
      "tax        333 non-null int64\n",
      "ptratio    333 non-null float64\n",
      "b          333 non-null float64\n",
      "lstat      333 non-null float64\n",
      "medv       333 non-null float64\n",
      "dtypes: float64(11), int64(4)\n",
      "memory usage: 39.1 KB\n"
     ]
    }
   ],
   "source": [
    "df.info()"
   ]
  },
  {
   "cell_type": "markdown",
   "metadata": {},
   "source": [
    "Use built-in Python functions to explore measures of centrality and dispersion for at least 3 variables"
   ]
  },
  {
   "cell_type": "code",
   "execution_count": 5,
   "metadata": {},
   "outputs": [
    {
     "name": "stdout",
     "output_type": "stream",
     "text": [
      "Mean: 18.448048048047994\n",
      "Median: 0.26169000000000003\n",
      "Mode: [0.01501]\n"
     ]
    }
   ],
   "source": [
    "# How are the ptratios distributed? \n",
    "# What is the mean, median and mode of ptratio?\n",
    "var_values = df.ptratio.values\n",
    "\n",
    "# ptratio mean\n",
    "print(f'Mean: {get_mean(var_values)}')\n",
    "\n",
    "# # ptratio median\n",
    "print(f'Median: {get_median(df.crim.values)}')\n",
    "\n",
    "# # ptratio mode\n",
    "print(f'Mode: {get_mode(df.crim.values)}') \n",
    "\n",
    "df.crim.plot(kind='hist');"
   ]
  },
  {
   "cell_type": "code",
   "execution_count": 6,
   "metadata": {},
   "outputs": [
    {
     "name": "stdout",
     "output_type": "stream",
     "text": [
      "Mean: 3.360341471471472\n",
      "Median: 0.26169000000000003\n",
      "Mode: [0.01501]\n"
     ]
    },
    {
     "data": {
      "image/png": "[encoded data removed]",
      "text/plain": [
       "<Figure size 432x288 with 1 Axes>"
      ]
     },
     "metadata": {
      "needs_background": "light"
     },
     "output_type": "display_data"
    }
   ],
   "source": [
    "# How is the crim var distributed? \n",
    "# What is the mean, median and mode of crim?\n",
    "var_values = df.crim.values\n",
    "\n",
    "# crim mean\n",
    "print(f'Mean: {get_mean(var_values)}')\n",
    "\n",
    "# # crim median\n",
    "print(f'Median: {get_median(df.crim.values)}')\n",
    "\n",
    "# # crim mode\n",
    "print(f'Mode: {get_mode(df.crim.values)}')\n",
    "\n",
    "df.crim.plot(kind='hist');"
   ]
  },
  {
   "cell_type": "code",
   "execution_count": 7,
   "metadata": {},
   "outputs": [
    {
     "name": "stdout",
     "output_type": "stream",
     "text": [
      "Mean: 68.22642642642641\n",
      "Median: 0.26169000000000003\n",
      "Mode: [0.01501]\n"
     ]
    },
    {
     "data": {
      "image/png": "[encoded data removed]",
      "text/plain": [
       "<Figure size 432x288 with 1 Axes>"
      ]
     },
     "metadata": {
      "needs_background": "light"
     },
     "output_type": "display_data"
    }
   ],
   "source": [
    "# How is the age var distributed? \n",
    "# What is the mean, median and mode of age?\n",
    "var_values = df.age.values\n",
    "\n",
    "# age mean\n",
    "print(f'Mean: {get_mean(var_values)}') # 3.360341471471472\n",
    "\n",
    "# # age median\n",
    "print(f'Median: {get_median(df.crim.values)}') # 0.26169000000000003\n",
    "\n",
    "# # age mode\n",
    "print(f'Mode: {get_mode(df.crim.values)}') # [0.01501]\n",
    "\n",
    "df.crim.plot(kind='hist');"
   ]
  },
  {
   "cell_type": "code",
   "execution_count": 8,
   "metadata": {},
   "outputs": [
    {
     "name": "stdout",
     "output_type": "stream",
     "text": [
      "Mean: 0.557144144144145\n",
      "Median: 0.26169000000000003\n",
      "Mode: [0.01501]\n"
     ]
    },
    {
     "data": {
      "image/png": "[encoded data removed]",
      "text/plain": [
       "<Figure size 432x288 with 1 Axes>"
      ]
     },
     "metadata": {
      "needs_background": "light"
     },
     "output_type": "display_data"
    }
   ],
   "source": [
    "# How is the nox var distributed? \n",
    "# What is the mean, median and mode of nox?\n",
    "var_values = df.nox.values\n",
    "\n",
    "# nox mean\n",
    "print(f'Mean: {get_mean(var_values)}') # 3.360341471471472\n",
    "\n",
    "# nox median\n",
    "print(f'Median: {get_median(df.crim.values)}') # 0.26169000000000003\n",
    "\n",
    "# nox mode\n",
    "print(f'Mode: {get_mode(df.crim.values)}') # [0.01501]\n",
    "\n",
    "df.nox.plot(kind='hist');"
   ]
  },
  {
   "cell_type": "code",
   "execution_count": 9,
   "metadata": {},
   "outputs": [
    {
     "name": "stdout",
     "output_type": "stream",
     "text": [
      "Mean: 11.29348348348346\n",
      "Median: 0.26169000000000003\n",
      "Mode: [0.01501]\n"
     ]
    },
    {
     "data": {
      "image/png": "[encoded data removed]",
      "text/plain": [
       "<Figure size 432x288 with 1 Axes>"
      ]
     },
     "metadata": {
      "needs_background": "light"
     },
     "output_type": "display_data"
    }
   ],
   "source": [
    "# How is the indus var distributed? \n",
    "# What is the mean, median and mode of nox?\n",
    "var_values = df.indus.values\n",
    "\n",
    "# indus mean\n",
    "print(f'Mean: {get_mean(var_values)}') # 3.360341471471472\n",
    "\n",
    "# indus median\n",
    "print(f'Median: {get_median(df.crim.values)}') # 0.26169000000000003\n",
    "\n",
    "# indus mode\n",
    "print(f'Mode: {get_mode(df.crim.values)}') # [0.01501]\n",
    "\n",
    "df.indus.plot(kind='hist');"
   ]
  },
  {
   "cell_type": "code",
   "execution_count": 10,
   "metadata": {},
   "outputs": [
    {
     "data": {
      "text/html": [
       "<div>\n",
       "<style scoped>\n",
       "    .dataframe tbody tr th:only-of-type {\n",
       "        vertical-align: middle;\n",
       "    }\n",
       "\n",
       "    .dataframe tbody tr th {\n",
       "        vertical-align: top;\n",
       "    }\n",
       "\n",
       "    .dataframe thead th {\n",
       "        text-align: right;\n",
       "    }\n",
       "</style>\n",
       "<table border=\"1\" class=\"dataframe\">\n",
       "  <thead>\n",
       "    <tr style=\"text-align: right;\">\n",
       "      <th></th>\n",
       "      <th>count</th>\n",
       "      <th>mean</th>\n",
       "      <th>std</th>\n",
       "      <th>min</th>\n",
       "      <th>25%</th>\n",
       "      <th>50%</th>\n",
       "      <th>75%</th>\n",
       "      <th>max</th>\n",
       "    </tr>\n",
       "  </thead>\n",
       "  <tbody>\n",
       "    <tr>\n",
       "      <td>ID</td>\n",
       "      <td>333.0</td>\n",
       "      <td>250.951952</td>\n",
       "      <td>147.859438</td>\n",
       "      <td>1.00000</td>\n",
       "      <td>123.00000</td>\n",
       "      <td>244.00000</td>\n",
       "      <td>377.00000</td>\n",
       "      <td>506.0000</td>\n",
       "    </tr>\n",
       "    <tr>\n",
       "      <td>crim</td>\n",
       "      <td>333.0</td>\n",
       "      <td>3.360341</td>\n",
       "      <td>7.352272</td>\n",
       "      <td>0.00632</td>\n",
       "      <td>0.07896</td>\n",
       "      <td>0.26169</td>\n",
       "      <td>3.67822</td>\n",
       "      <td>73.5341</td>\n",
       "    </tr>\n",
       "    <tr>\n",
       "      <td>zn</td>\n",
       "      <td>333.0</td>\n",
       "      <td>10.689189</td>\n",
       "      <td>22.674762</td>\n",
       "      <td>0.00000</td>\n",
       "      <td>0.00000</td>\n",
       "      <td>0.00000</td>\n",
       "      <td>12.50000</td>\n",
       "      <td>100.0000</td>\n",
       "    </tr>\n",
       "    <tr>\n",
       "      <td>indus</td>\n",
       "      <td>333.0</td>\n",
       "      <td>11.293483</td>\n",
       "      <td>6.998123</td>\n",
       "      <td>0.74000</td>\n",
       "      <td>5.13000</td>\n",
       "      <td>9.90000</td>\n",
       "      <td>18.10000</td>\n",
       "      <td>27.7400</td>\n",
       "    </tr>\n",
       "    <tr>\n",
       "      <td>chas</td>\n",
       "      <td>333.0</td>\n",
       "      <td>0.060060</td>\n",
       "      <td>0.237956</td>\n",
       "      <td>0.00000</td>\n",
       "      <td>0.00000</td>\n",
       "      <td>0.00000</td>\n",
       "      <td>0.00000</td>\n",
       "      <td>1.0000</td>\n",
       "    </tr>\n",
       "    <tr>\n",
       "      <td>nox</td>\n",
       "      <td>333.0</td>\n",
       "      <td>0.557144</td>\n",
       "      <td>0.114955</td>\n",
       "      <td>0.38500</td>\n",
       "      <td>0.45300</td>\n",
       "      <td>0.53800</td>\n",
       "      <td>0.63100</td>\n",
       "      <td>0.8710</td>\n",
       "    </tr>\n",
       "    <tr>\n",
       "      <td>rm</td>\n",
       "      <td>333.0</td>\n",
       "      <td>6.265619</td>\n",
       "      <td>0.703952</td>\n",
       "      <td>3.56100</td>\n",
       "      <td>5.88400</td>\n",
       "      <td>6.20200</td>\n",
       "      <td>6.59500</td>\n",
       "      <td>8.7250</td>\n",
       "    </tr>\n",
       "    <tr>\n",
       "      <td>age</td>\n",
       "      <td>333.0</td>\n",
       "      <td>68.226426</td>\n",
       "      <td>28.133344</td>\n",
       "      <td>6.00000</td>\n",
       "      <td>45.40000</td>\n",
       "      <td>76.70000</td>\n",
       "      <td>93.80000</td>\n",
       "      <td>100.0000</td>\n",
       "    </tr>\n",
       "    <tr>\n",
       "      <td>dis</td>\n",
       "      <td>333.0</td>\n",
       "      <td>3.709934</td>\n",
       "      <td>1.981123</td>\n",
       "      <td>1.12960</td>\n",
       "      <td>2.12240</td>\n",
       "      <td>3.09230</td>\n",
       "      <td>5.11670</td>\n",
       "      <td>10.7103</td>\n",
       "    </tr>\n",
       "    <tr>\n",
       "      <td>rad</td>\n",
       "      <td>333.0</td>\n",
       "      <td>9.633634</td>\n",
       "      <td>8.742174</td>\n",
       "      <td>1.00000</td>\n",
       "      <td>4.00000</td>\n",
       "      <td>5.00000</td>\n",
       "      <td>24.00000</td>\n",
       "      <td>24.0000</td>\n",
       "    </tr>\n",
       "    <tr>\n",
       "      <td>tax</td>\n",
       "      <td>333.0</td>\n",
       "      <td>409.279279</td>\n",
       "      <td>170.841988</td>\n",
       "      <td>188.00000</td>\n",
       "      <td>279.00000</td>\n",
       "      <td>330.00000</td>\n",
       "      <td>666.00000</td>\n",
       "      <td>711.0000</td>\n",
       "    </tr>\n",
       "    <tr>\n",
       "      <td>ptratio</td>\n",
       "      <td>333.0</td>\n",
       "      <td>18.448048</td>\n",
       "      <td>2.151821</td>\n",
       "      <td>12.60000</td>\n",
       "      <td>17.40000</td>\n",
       "      <td>19.00000</td>\n",
       "      <td>20.20000</td>\n",
       "      <td>21.2000</td>\n",
       "    </tr>\n",
       "    <tr>\n",
       "      <td>b</td>\n",
       "      <td>333.0</td>\n",
       "      <td>359.466096</td>\n",
       "      <td>86.584567</td>\n",
       "      <td>3.50000</td>\n",
       "      <td>376.73000</td>\n",
       "      <td>392.05000</td>\n",
       "      <td>396.24000</td>\n",
       "      <td>396.9000</td>\n",
       "    </tr>\n",
       "    <tr>\n",
       "      <td>lstat</td>\n",
       "      <td>333.0</td>\n",
       "      <td>12.515435</td>\n",
       "      <td>7.067781</td>\n",
       "      <td>1.73000</td>\n",
       "      <td>7.18000</td>\n",
       "      <td>10.97000</td>\n",
       "      <td>16.42000</td>\n",
       "      <td>37.9700</td>\n",
       "    </tr>\n",
       "    <tr>\n",
       "      <td>medv</td>\n",
       "      <td>333.0</td>\n",
       "      <td>22.768769</td>\n",
       "      <td>9.173468</td>\n",
       "      <td>5.00000</td>\n",
       "      <td>17.40000</td>\n",
       "      <td>21.60000</td>\n",
       "      <td>25.00000</td>\n",
       "      <td>50.0000</td>\n",
       "    </tr>\n",
       "  </tbody>\n",
       "</table>\n",
       "</div>"
      ],
      "text/plain": [
       "         count        mean         std        min        25%        50%  \\\n",
       "ID       333.0  250.951952  147.859438    1.00000  123.00000  244.00000   \n",
       "crim     333.0    3.360341    7.352272    0.00632    0.07896    0.26169   \n",
       "zn       333.0   10.689189   22.674762    0.00000    0.00000    0.00000   \n",
       "indus    333.0   11.293483    6.998123    0.74000    5.13000    9.90000   \n",
       "chas     333.0    0.060060    0.237956    0.00000    0.00000    0.00000   \n",
       "nox      333.0    0.557144    0.114955    0.38500    0.45300    0.53800   \n",
       "rm       333.0    6.265619    0.703952    3.56100    5.88400    6.20200   \n",
       "age      333.0   68.226426   28.133344    6.00000   45.40000   76.70000   \n",
       "dis      333.0    3.709934    1.981123    1.12960    2.12240    3.09230   \n",
       "rad      333.0    9.633634    8.742174    1.00000    4.00000    5.00000   \n",
       "tax      333.0  409.279279  170.841988  188.00000  279.00000  330.00000   \n",
       "ptratio  333.0   18.448048    2.151821   12.60000   17.40000   19.00000   \n",
       "b        333.0  359.466096   86.584567    3.50000  376.73000  392.05000   \n",
       "lstat    333.0   12.515435    7.067781    1.73000    7.18000   10.97000   \n",
       "medv     333.0   22.768769    9.173468    5.00000   17.40000   21.60000   \n",
       "\n",
       "               75%       max  \n",
       "ID       377.00000  506.0000  \n",
       "crim       3.67822   73.5341  \n",
       "zn        12.50000  100.0000  \n",
       "indus     18.10000   27.7400  \n",
       "chas       0.00000    1.0000  \n",
       "nox        0.63100    0.8710  \n",
       "rm         6.59500    8.7250  \n",
       "age       93.80000  100.0000  \n",
       "dis        5.11670   10.7103  \n",
       "rad       24.00000   24.0000  \n",
       "tax      666.00000  711.0000  \n",
       "ptratio   20.20000   21.2000  \n",
       "b        396.24000  396.9000  \n",
       "lstat     16.42000   37.9700  \n",
       "medv      25.00000   50.0000  "
      ]
     },
     "execution_count": 10,
     "metadata": {},
     "output_type": "execute_result"
    }
   ],
   "source": [
    "df.describe().T"
   ]
  },
  {
   "cell_type": "markdown",
   "metadata": {},
   "source": [
    "Create meaningful subsets of the data using selection operations like .loc, .iloc, or related operations."
   ]
  },
  {
   "cell_type": "code",
   "execution_count": 11,
   "metadata": {},
   "outputs": [
    {
     "data": {
      "text/html": [
       "<div>\n",
       "<style scoped>\n",
       "    .dataframe tbody tr th:only-of-type {\n",
       "        vertical-align: middle;\n",
       "    }\n",
       "\n",
       "    .dataframe tbody tr th {\n",
       "        vertical-align: top;\n",
       "    }\n",
       "\n",
       "    .dataframe thead th {\n",
       "        text-align: right;\n",
       "    }\n",
       "</style>\n",
       "<table border=\"1\" class=\"dataframe\">\n",
       "  <thead>\n",
       "    <tr style=\"text-align: right;\">\n",
       "      <th></th>\n",
       "      <th>ID</th>\n",
       "      <th>crim</th>\n",
       "      <th>zn</th>\n",
       "      <th>indus</th>\n",
       "      <th>chas</th>\n",
       "      <th>nox</th>\n",
       "      <th>rm</th>\n",
       "      <th>age</th>\n",
       "      <th>dis</th>\n",
       "      <th>rad</th>\n",
       "      <th>tax</th>\n",
       "      <th>ptratio</th>\n",
       "      <th>b</th>\n",
       "      <th>lstat</th>\n",
       "      <th>medv</th>\n",
       "    </tr>\n",
       "  </thead>\n",
       "  <tbody>\n",
       "    <tr>\n",
       "      <td>314</td>\n",
       "      <td>479</td>\n",
       "      <td>15.0234</td>\n",
       "      <td>0.0</td>\n",
       "      <td>18.1</td>\n",
       "      <td>0</td>\n",
       "      <td>0.614</td>\n",
       "      <td>6.185</td>\n",
       "      <td>96.7</td>\n",
       "      <td>2.1705</td>\n",
       "      <td>24</td>\n",
       "      <td>666</td>\n",
       "      <td>20.2</td>\n",
       "      <td>379.70</td>\n",
       "      <td>18.03</td>\n",
       "      <td>14.6</td>\n",
       "    </tr>\n",
       "    <tr>\n",
       "      <td>315</td>\n",
       "      <td>480</td>\n",
       "      <td>15.1772</td>\n",
       "      <td>0.0</td>\n",
       "      <td>18.1</td>\n",
       "      <td>0</td>\n",
       "      <td>0.614</td>\n",
       "      <td>6.229</td>\n",
       "      <td>88.0</td>\n",
       "      <td>1.9512</td>\n",
       "      <td>24</td>\n",
       "      <td>666</td>\n",
       "      <td>20.2</td>\n",
       "      <td>383.32</td>\n",
       "      <td>13.11</td>\n",
       "      <td>21.4</td>\n",
       "    </tr>\n",
       "    <tr>\n",
       "      <td>316</td>\n",
       "      <td>481</td>\n",
       "      <td>15.2880</td>\n",
       "      <td>0.0</td>\n",
       "      <td>18.1</td>\n",
       "      <td>0</td>\n",
       "      <td>0.532</td>\n",
       "      <td>6.242</td>\n",
       "      <td>64.7</td>\n",
       "      <td>3.4242</td>\n",
       "      <td>24</td>\n",
       "      <td>666</td>\n",
       "      <td>20.2</td>\n",
       "      <td>396.90</td>\n",
       "      <td>10.74</td>\n",
       "      <td>23.0</td>\n",
       "    </tr>\n",
       "    <tr>\n",
       "      <td>317</td>\n",
       "      <td>482</td>\n",
       "      <td>15.5757</td>\n",
       "      <td>0.0</td>\n",
       "      <td>18.1</td>\n",
       "      <td>0</td>\n",
       "      <td>0.532</td>\n",
       "      <td>6.750</td>\n",
       "      <td>74.9</td>\n",
       "      <td>3.3317</td>\n",
       "      <td>24</td>\n",
       "      <td>666</td>\n",
       "      <td>20.2</td>\n",
       "      <td>393.07</td>\n",
       "      <td>7.74</td>\n",
       "      <td>23.7</td>\n",
       "    </tr>\n",
       "    <tr>\n",
       "      <td>318</td>\n",
       "      <td>484</td>\n",
       "      <td>15.8603</td>\n",
       "      <td>0.0</td>\n",
       "      <td>18.1</td>\n",
       "      <td>0</td>\n",
       "      <td>0.532</td>\n",
       "      <td>5.762</td>\n",
       "      <td>40.3</td>\n",
       "      <td>4.0983</td>\n",
       "      <td>24</td>\n",
       "      <td>666</td>\n",
       "      <td>20.2</td>\n",
       "      <td>392.92</td>\n",
       "      <td>10.42</td>\n",
       "      <td>21.8</td>\n",
       "    </tr>\n",
       "  </tbody>\n",
       "</table>\n",
       "</div>"
      ],
      "text/plain": [
       "      ID     crim   zn  indus  chas    nox     rm   age     dis  rad  tax  \\\n",
       "314  479  15.0234  0.0   18.1     0  0.614  6.185  96.7  2.1705   24  666   \n",
       "315  480  15.1772  0.0   18.1     0  0.614  6.229  88.0  1.9512   24  666   \n",
       "316  481  15.2880  0.0   18.1     0  0.532  6.242  64.7  3.4242   24  666   \n",
       "317  482  15.5757  0.0   18.1     0  0.532  6.750  74.9  3.3317   24  666   \n",
       "318  484  15.8603  0.0   18.1     0  0.532  5.762  40.3  4.0983   24  666   \n",
       "\n",
       "     ptratio       b  lstat  medv  \n",
       "314     20.2  379.70  18.03  14.6  \n",
       "315     20.2  383.32  13.11  21.4  \n",
       "316     20.2  396.90  10.74  23.0  \n",
       "317     20.2  393.07   7.74  23.7  \n",
       "318     20.2  392.92  10.42  21.8  "
      ]
     },
     "execution_count": 11,
     "metadata": {},
     "output_type": "execute_result"
    }
   ],
   "source": [
    "crime_over_fifteen = df.loc[(df.crim > 15)]\n",
    "crime_over_fifteen.head()"
   ]
  },
  {
   "cell_type": "code",
   "execution_count": 47,
   "metadata": {},
   "outputs": [
    {
     "data": {
      "text/html": [
       "<div>\n",
       "<style scoped>\n",
       "    .dataframe tbody tr th:only-of-type {\n",
       "        vertical-align: middle;\n",
       "    }\n",
       "\n",
       "    .dataframe tbody tr th {\n",
       "        vertical-align: top;\n",
       "    }\n",
       "\n",
       "    .dataframe thead th {\n",
       "        text-align: right;\n",
       "    }\n",
       "</style>\n",
       "<table border=\"1\" class=\"dataframe\">\n",
       "  <thead>\n",
       "    <tr style=\"text-align: right;\">\n",
       "      <th></th>\n",
       "      <th>ID</th>\n",
       "      <th>crim</th>\n",
       "      <th>zn</th>\n",
       "      <th>indus</th>\n",
       "      <th>chas</th>\n",
       "      <th>nox</th>\n",
       "      <th>rm</th>\n",
       "      <th>age</th>\n",
       "      <th>dis</th>\n",
       "      <th>rad</th>\n",
       "      <th>tax</th>\n",
       "      <th>ptratio</th>\n",
       "      <th>b</th>\n",
       "      <th>lstat</th>\n",
       "      <th>medv</th>\n",
       "    </tr>\n",
       "  </thead>\n",
       "  <tbody>\n",
       "    <tr>\n",
       "      <td>314</td>\n",
       "      <td>479</td>\n",
       "      <td>15.0234</td>\n",
       "      <td>0.0</td>\n",
       "      <td>18.1</td>\n",
       "      <td>0</td>\n",
       "      <td>0.614</td>\n",
       "      <td>6.185</td>\n",
       "      <td>96.7</td>\n",
       "      <td>2.1705</td>\n",
       "      <td>24</td>\n",
       "      <td>666</td>\n",
       "      <td>20.2</td>\n",
       "      <td>379.70</td>\n",
       "      <td>18.03</td>\n",
       "      <td>14.6</td>\n",
       "    </tr>\n",
       "    <tr>\n",
       "      <td>315</td>\n",
       "      <td>480</td>\n",
       "      <td>15.1772</td>\n",
       "      <td>0.0</td>\n",
       "      <td>18.1</td>\n",
       "      <td>0</td>\n",
       "      <td>0.614</td>\n",
       "      <td>6.229</td>\n",
       "      <td>88.0</td>\n",
       "      <td>1.9512</td>\n",
       "      <td>24</td>\n",
       "      <td>666</td>\n",
       "      <td>20.2</td>\n",
       "      <td>383.32</td>\n",
       "      <td>13.11</td>\n",
       "      <td>21.4</td>\n",
       "    </tr>\n",
       "    <tr>\n",
       "      <td>316</td>\n",
       "      <td>481</td>\n",
       "      <td>15.2880</td>\n",
       "      <td>0.0</td>\n",
       "      <td>18.1</td>\n",
       "      <td>0</td>\n",
       "      <td>0.532</td>\n",
       "      <td>6.242</td>\n",
       "      <td>64.7</td>\n",
       "      <td>3.4242</td>\n",
       "      <td>24</td>\n",
       "      <td>666</td>\n",
       "      <td>20.2</td>\n",
       "      <td>396.90</td>\n",
       "      <td>10.74</td>\n",
       "      <td>23.0</td>\n",
       "    </tr>\n",
       "    <tr>\n",
       "      <td>317</td>\n",
       "      <td>482</td>\n",
       "      <td>15.5757</td>\n",
       "      <td>0.0</td>\n",
       "      <td>18.1</td>\n",
       "      <td>0</td>\n",
       "      <td>0.532</td>\n",
       "      <td>6.750</td>\n",
       "      <td>74.9</td>\n",
       "      <td>3.3317</td>\n",
       "      <td>24</td>\n",
       "      <td>666</td>\n",
       "      <td>20.2</td>\n",
       "      <td>393.07</td>\n",
       "      <td>7.74</td>\n",
       "      <td>23.7</td>\n",
       "    </tr>\n",
       "    <tr>\n",
       "      <td>318</td>\n",
       "      <td>484</td>\n",
       "      <td>15.8603</td>\n",
       "      <td>0.0</td>\n",
       "      <td>18.1</td>\n",
       "      <td>0</td>\n",
       "      <td>0.532</td>\n",
       "      <td>5.762</td>\n",
       "      <td>40.3</td>\n",
       "      <td>4.0983</td>\n",
       "      <td>24</td>\n",
       "      <td>666</td>\n",
       "      <td>20.2</td>\n",
       "      <td>392.92</td>\n",
       "      <td>10.42</td>\n",
       "      <td>21.8</td>\n",
       "    </tr>\n",
       "  </tbody>\n",
       "</table>\n",
       "</div>"
      ],
      "text/plain": [
       "      ID     crim   zn  indus  chas    nox     rm   age     dis  rad  tax  \\\n",
       "314  479  15.0234  0.0   18.1     0  0.614  6.185  96.7  2.1705   24  666   \n",
       "315  480  15.1772  0.0   18.1     0  0.614  6.229  88.0  1.9512   24  666   \n",
       "316  481  15.2880  0.0   18.1     0  0.532  6.242  64.7  3.4242   24  666   \n",
       "317  482  15.5757  0.0   18.1     0  0.532  6.750  74.9  3.3317   24  666   \n",
       "318  484  15.8603  0.0   18.1     0  0.532  5.762  40.3  4.0983   24  666   \n",
       "\n",
       "     ptratio       b  lstat  medv  \n",
       "314     20.2  379.70  18.03  14.6  \n",
       "315     20.2  383.32  13.11  21.4  \n",
       "316     20.2  396.90  10.74  23.0  \n",
       "317     20.2  393.07   7.74  23.7  \n",
       "318     20.2  392.92  10.42  21.8  "
      ]
     },
     "execution_count": 47,
     "metadata": {},
     "output_type": "execute_result"
    }
   ],
   "source": [
    "crime_under_fifteen = df.loc[df.crim >= 15]\n",
    "crime_under_fifteen.head()"
   ]
  },
  {
   "cell_type": "code",
   "execution_count": 48,
   "metadata": {},
   "outputs": [
    {
     "data": {
      "text/html": [
       "<div>\n",
       "<style scoped>\n",
       "    .dataframe tbody tr th:only-of-type {\n",
       "        vertical-align: middle;\n",
       "    }\n",
       "\n",
       "    .dataframe tbody tr th {\n",
       "        vertical-align: top;\n",
       "    }\n",
       "\n",
       "    .dataframe thead th {\n",
       "        text-align: right;\n",
       "    }\n",
       "</style>\n",
       "<table border=\"1\" class=\"dataframe\">\n",
       "  <thead>\n",
       "    <tr style=\"text-align: right;\">\n",
       "      <th></th>\n",
       "      <th>indus</th>\n",
       "      <th>nox</th>\n",
       "    </tr>\n",
       "  </thead>\n",
       "  <tbody>\n",
       "    <tr>\n",
       "      <td>0</td>\n",
       "      <td>2.31</td>\n",
       "      <td>0.538</td>\n",
       "    </tr>\n",
       "    <tr>\n",
       "      <td>1</td>\n",
       "      <td>7.07</td>\n",
       "      <td>0.469</td>\n",
       "    </tr>\n",
       "    <tr>\n",
       "      <td>2</td>\n",
       "      <td>2.18</td>\n",
       "      <td>0.458</td>\n",
       "    </tr>\n",
       "    <tr>\n",
       "      <td>3</td>\n",
       "      <td>2.18</td>\n",
       "      <td>0.458</td>\n",
       "    </tr>\n",
       "    <tr>\n",
       "      <td>4</td>\n",
       "      <td>7.87</td>\n",
       "      <td>0.524</td>\n",
       "    </tr>\n",
       "  </tbody>\n",
       "</table>\n",
       "</div>"
      ],
      "text/plain": [
       "   indus    nox\n",
       "0   2.31  0.538\n",
       "1   7.07  0.469\n",
       "2   2.18  0.458\n",
       "3   2.18  0.458\n",
       "4   7.87  0.524"
      ]
     },
     "execution_count": 48,
     "metadata": {},
     "output_type": "execute_result"
    }
   ],
   "source": [
    "indus_nox = df[['indus', 'nox']]\n",
    "indus_nox.head()"
   ]
  },
  {
   "cell_type": "code",
   "execution_count": 14,
   "metadata": {},
   "outputs": [
    {
     "data": {
      "image/png": "[encoded data removed]",
      "text/plain": [
       "<Figure size 432x288 with 1 Axes>"
      ]
     },
     "metadata": {
      "needs_background": "light"
     },
     "output_type": "display_data"
    }
   ],
   "source": [
    "indus_nox.plot.scatter('indus', 'nox');"
   ]
  },
  {
   "cell_type": "code",
   "execution_count": 15,
   "metadata": {},
   "outputs": [],
   "source": [
    "# from sklearn.preprocessing import StandardScaler\n",
    "# scaler = StandardScaler() \n",
    "# indus_nox_scaled = pd.DataFrame(scaler.fit_transform(indus_nox), columns=['indus', 'nox'])\n",
    "# indus_nox_scaled.plot.scatter('indus', 'nox');"
   ]
  },
  {
   "cell_type": "code",
   "execution_count": 21,
   "metadata": {},
   "outputs": [],
   "source": [
    "indus_nox_chas = df[['indus', 'nox', 'chas']]"
   ]
  },
  {
   "cell_type": "markdown",
   "metadata": {},
   "source": [
    "Explain why you used the chosen subsets and do this for three possible 2-way splits."
   ]
  },
  {
   "cell_type": "markdown",
   "metadata": {},
   "source": [
    "I created a subset of the data called crime_over_fifteen and crime_under_fifteen because I noticed that there were some cases where the crime was much higher than the median. By splitting them I can calculate and compare measures of centrality between the normal data v.s. the outlier data to begin to understand if there's a correlation between high crime rates and other variables in the data."
   ]
  },
  {
   "cell_type": "markdown",
   "metadata": {},
   "source": [
    "I also created a subset dataframe called indus_nox that has contains all rows for those two variables. Using a scatter plot I can see if there's is a correlation between highly industrial suburbs of Boston and nitrogen oxide levels."
   ]
  },
  {
   "cell_type": "markdown",
   "metadata": {},
   "source": [
    "By plotting the indus_nox_chas dataframe in a scatter_matrix, we see that proximity to the Charles River could indicate a correlation between nox and chas variables. Further analysis is needed. Let's compare the means of the subsets by_river and not_by_river:"
   ]
  },
  {
   "cell_type": "code",
   "execution_count": 46,
   "metadata": {},
   "outputs": [
    {
     "data": {
      "image/png": "[encoded data removed]",
      "text/plain": [
       "<Figure size 432x288 with 9 Axes>"
      ]
     },
     "metadata": {
      "needs_background": "light"
     },
     "output_type": "display_data"
    }
   ],
   "source": [
    "# State how you think the two measures of centrality and/or dispersion \n",
    "# might be different for each subset of the data.\n",
    "pd.plotting.scatter_matrix(indus_nox_chas);"
   ]
  },
  {
   "cell_type": "code",
   "execution_count": 38,
   "metadata": {},
   "outputs": [
    {
     "data": {
      "image/png": "[encoded data removed]",
      "text/plain": [
       "<Figure size 432x288 with 1 Axes>"
      ]
     },
     "metadata": {
      "needs_background": "light"
     },
     "output_type": "display_data"
    }
   ],
   "source": [
    "df.plot.scatter('chas', 'nox');"
   ]
  },
  {
   "cell_type": "code",
   "execution_count": 43,
   "metadata": {},
   "outputs": [
    {
     "data": {
      "text/plain": [
       "0.11495450830289299"
      ]
     },
     "execution_count": 43,
     "metadata": {},
     "output_type": "execute_result"
    }
   ],
   "source": [
    "by_river = df.loc[df.chas == 0]\n",
    "not_by_river = df.loc[df.chas == 1]\n",
    "nox_std_dev = df.nox.std()"
   ]
  },
  {
   "cell_type": "markdown",
   "metadata": {},
   "source": [
    "The mean of the nox where suburb borders the river:"
   ]
  },
  {
   "cell_type": "code",
   "execution_count": 40,
   "metadata": {},
   "outputs": [
    {
     "data": {
      "text/plain": [
       "0.5548150159744419"
      ]
     },
     "execution_count": 40,
     "metadata": {},
     "output_type": "execute_result"
    }
   ],
   "source": [
    "by_river.nox.mean()"
   ]
  },
  {
   "cell_type": "markdown",
   "metadata": {},
   "source": [
    "The mean of the nox where suburb **doesn't** border river:"
   ]
  },
  {
   "cell_type": "code",
   "execution_count": 41,
   "metadata": {},
   "outputs": [
    {
     "data": {
      "text/plain": [
       "0.5935949999999999"
      ]
     },
     "execution_count": 41,
     "metadata": {},
     "output_type": "execute_result"
    }
   ],
   "source": [
    "not_by_river.nox.mean()"
   ]
  },
  {
   "cell_type": "markdown",
   "metadata": {},
   "source": [
    "How many std_devs away from the mean are the cases where the suburb **doesn't** border the river?"
   ]
  },
  {
   "cell_type": "code",
   "execution_count": 45,
   "metadata": {},
   "outputs": [
    {
     "data": {
      "text/plain": [
       "0.33735070157819974"
      ]
     },
     "execution_count": 45,
     "metadata": {},
     "output_type": "execute_result"
    }
   ],
   "source": [
    "abs((by_river.nox.mean() - not_by_river.nox.mean()) / nox_std_dev)"
   ]
  },
  {
   "cell_type": "markdown",
   "metadata": {},
   "source": [
    "A difference of only .337 std_devs between cases where by_river and not_by_river indicates that chas variable does contribute to nox levels in suburbs but isn't a the only contributing factor."
   ]
  },
  {
   "cell_type": "markdown",
   "metadata": {},
   "source": [
    "## Summary\n",
    "\n",
    "Congratulations, you've completed your first \"free form\" exploratory data analysis of a popular dataset!"
   ]
  }
 ],
 "metadata": {
  "kernelspec": {
   "display_name": "Python 3",
   "language": "python",
   "name": "python3"
  },
  "language_info": {
   "codemirror_mode": {
    "name": "ipython",
    "version": 3
   },
   "file_extension": ".py",
   "mimetype": "text/x-python",
   "name": "python",
   "nbconvert_exporter": "python",
   "pygments_lexer": "ipython3",
   "version": "3.7.4"
  }
 },
 "nbformat": 4,
 "nbformat_minor": 2
}
