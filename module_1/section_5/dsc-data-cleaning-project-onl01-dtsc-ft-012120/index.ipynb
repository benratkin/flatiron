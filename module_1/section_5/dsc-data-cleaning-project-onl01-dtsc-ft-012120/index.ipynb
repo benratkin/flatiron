{
 "cells": [
  {
   "cell_type": "markdown",
   "metadata": {},
   "source": [
    "# Project - Data Cleaning\n",
    "\n",
    "## Introduction\n",
    "In this lab, we'll make use of everything we've learned about pandas, data cleaning, and exploratory data analysis. In order to complete this lab, you'll have to import, clean, combine, reshape, and visualize data to answer questions provided, as well as your own questions!\n",
    "\n",
    "## Objectives\n",
    "You will be able to:\n",
    "- Use different types of joins to merge DataFrames \n",
    "- Identify missing values in a dataframe using built-in methods \n",
    "- Evaluate and execute the best strategy for dealing with missing, duplicate, and erroneous values for a given dataset \n",
    "- Inspect data for duplicates or extraneous values and remove them \n",
    "\n",
    "\n",
    "## The dataset\n",
    "In this lab, we'll work with the comprehensive [Super Heroes Dataset](https://www.kaggle.com/claudiodavi/superhero-set/data), which can be found on Kaggle!\n",
    "\n",
    "\n",
    "## Getting Started\n",
    "\n",
    "In the cell below:\n",
    "\n",
    "* Import and alias pandas as `pd`\n",
    "* Import and alias numpy as `np`\n",
    "* Import and alias seaborn as `sns`\n",
    "* Import and alias matplotlib.pyplot as `plt`\n",
    "* Set matplotlib visualizations to display inline in the notebook"
   ]
  },
  {
   "cell_type": "code",
   "execution_count": 1,
   "metadata": {},
   "outputs": [],
   "source": [
    "import pandas as pd\n",
    "import numpy as np\n",
    "import seaborn as sns\n",
    "import matplotlib.pyplot as plt\n",
    "from itertools import combinations\n",
    "from collections import Counter\n",
    "%matplotlib inline"
   ]
  },
  {
   "cell_type": "markdown",
   "metadata": {},
   "source": [
    "For this lab, our dataset is split among two different sources -- `'heroes_information.csv'` and `'super_hero_powers.csv'`.\n",
    "\n",
    "Use pandas to read in each file and store them in DataFrames in the appropriate variables below. Then, display the `.head()` of each to ensure that everything loaded correctly.  "
   ]
  },
  {
   "cell_type": "code",
   "execution_count": 2,
   "metadata": {},
   "outputs": [],
   "source": [
    "heroes_df = pd.read_csv('heroes_information.csv')\n",
    "powers_df = pd.read_csv('super_hero_powers.csv')"
   ]
  },
  {
   "cell_type": "markdown",
   "metadata": {},
   "source": [
    "It looks as if the heroes information dataset contained an index column.  We did not specify that this dataset contained an index column, because we hadn't seen it yet. Pandas does not know how to tell apart an index column from any other data, so it stored it with the column name `Unnamed: 0`.  \n",
    "\n",
    "Our DataFrame provided row indices by default, so this column is not needed.  Drop it from the DataFrame in place in the cell below, and then display the head of `heroes_df` to ensure that it worked properly. "
   ]
  },
  {
   "cell_type": "code",
   "execution_count": 3,
   "metadata": {},
   "outputs": [],
   "source": [
    "heroes_df.drop(columns='Unnamed: 0', inplace=True)"
   ]
  },
  {
   "cell_type": "markdown",
   "metadata": {},
   "source": [
    "## Familiarize yourself with the dataset\n",
    "\n",
    "The first step in our Exploratory Data Analysis will be to get familiar with the data.  This step includes:\n",
    "\n",
    "* Understanding the dimensionality of your dataset\n",
    "* Investigating what type of data it contains, and the data types used to store it\n",
    "* Discovering how missing values are encoded, and how many there are\n",
    "* Getting a feel for what information it does and doesn't contain\n",
    "\n",
    "In the cell below, get the descriptive statistics of each DataFrame.  "
   ]
  },
  {
   "cell_type": "code",
   "execution_count": 4,
   "metadata": {},
   "outputs": [],
   "source": [
    "heroes_df.columns = [x.lower() for x in heroes_df.columns]\n",
    "powers_df.columns = [x.lower() for x in powers_df.columns]"
   ]
  },
  {
   "cell_type": "code",
   "execution_count": 5,
   "metadata": {},
   "outputs": [
    {
     "name": "stdout",
     "output_type": "stream",
     "text": [
      "<class 'pandas.core.frame.DataFrame'>\n",
      "RangeIndex: 667 entries, 0 to 666\n",
      "Columns: 168 entries, hero_names to omniscient\n",
      "dtypes: bool(167), object(1)\n",
      "memory usage: 114.1+ KB\n"
     ]
    }
   ],
   "source": [
    "powers_df.info()"
   ]
  },
  {
   "cell_type": "code",
   "execution_count": 6,
   "metadata": {},
   "outputs": [
    {
     "name": "stdout",
     "output_type": "stream",
     "text": [
      "hero_names\n",
      "agility\n",
      "accelerated healing\n",
      "lantern power ring\n",
      "dimensional awareness\n",
      "cold resistance\n",
      "durability\n",
      "stealth\n",
      "energy absorption\n",
      "flight\n",
      "danger sense\n",
      "underwater breathing\n",
      "marksmanship\n",
      "weapons master\n",
      "power augmentation\n",
      "animal attributes\n",
      "longevity\n",
      "intelligence\n",
      "super strength\n",
      "cryokinesis\n",
      "telepathy\n",
      "energy armor\n",
      "energy blasts\n",
      "duplication\n",
      "size changing\n",
      "density control\n",
      "stamina\n",
      "astral travel\n",
      "audio control\n",
      "dexterity\n",
      "omnitrix\n",
      "super speed\n",
      "possession\n",
      "animal oriented powers\n",
      "weapon-based powers\n",
      "electrokinesis\n",
      "darkforce manipulation\n",
      "death touch\n",
      "teleportation\n",
      "enhanced senses\n",
      "telekinesis\n",
      "energy beams\n",
      "magic\n",
      "hyperkinesis\n",
      "jump\n",
      "clairvoyance\n",
      "dimensional travel\n",
      "power sense\n",
      "shapeshifting\n",
      "peak human condition\n",
      "immortality\n",
      "camouflage\n",
      "element control\n",
      "phasing\n",
      "astral projection\n",
      "electrical transport\n",
      "fire control\n",
      "projection\n",
      "summoning\n",
      "enhanced memory\n",
      "reflexes\n",
      "invulnerability\n",
      "energy constructs\n",
      "force fields\n",
      "self-sustenance\n",
      "anti-gravity\n",
      "empathy\n",
      "power nullifier\n",
      "radiation control\n",
      "psionic powers\n",
      "elasticity\n",
      "substance secretion\n",
      "elemental transmogrification\n",
      "technopath/cyberpath\n",
      "photographic reflexes\n",
      "seismic power\n",
      "animation\n",
      "precognition\n",
      "mind control\n",
      "fire resistance\n",
      "power absorption\n",
      "enhanced hearing\n",
      "nova force\n",
      "insanity\n",
      "hypnokinesis\n",
      "animal control\n",
      "natural armor\n",
      "intangibility\n",
      "enhanced sight\n",
      "molecular manipulation\n",
      "heat generation\n",
      "adaptation\n",
      "gliding\n",
      "power suit\n",
      "mind blast\n",
      "probability manipulation\n",
      "gravity control\n",
      "regeneration\n",
      "light control\n",
      "echolocation\n",
      "levitation\n",
      "toxin and disease control\n",
      "banish\n",
      "energy manipulation\n",
      "heat resistance\n",
      "natural weapons\n",
      "time travel\n",
      "enhanced smell\n",
      "illusions\n",
      "thirstokinesis\n",
      "hair manipulation\n",
      "illumination\n",
      "omnipotent\n",
      "cloaking\n",
      "changing armor\n",
      "power cosmic\n",
      "biokinesis\n",
      "water control\n",
      "radiation immunity\n",
      "vision - telescopic\n",
      "toxin and disease resistance\n",
      "spatial awareness\n",
      "energy resistance\n",
      "telepathy resistance\n",
      "molecular combustion\n",
      "omnilingualism\n",
      "portal creation\n",
      "magnetism\n",
      "mind control resistance\n",
      "plant control\n",
      "sonar\n",
      "sonic scream\n",
      "time manipulation\n",
      "enhanced touch\n",
      "magic resistance\n",
      "invisibility\n",
      "sub-mariner\n",
      "radiation absorption\n",
      "intuitive aptitude\n",
      "vision - microscopic\n",
      "melting\n",
      "wind control\n",
      "super breath\n",
      "wallcrawling\n",
      "vision - night\n",
      "vision - infrared\n",
      "grim reaping\n",
      "matter absorption\n",
      "the force\n",
      "resurrection\n",
      "terrakinesis\n",
      "vision - heat\n",
      "vitakinesis\n",
      "radar sense\n",
      "qwardian power ring\n",
      "weather control\n",
      "vision - x-ray\n",
      "vision - thermal\n",
      "web creation\n",
      "reality warping\n",
      "odin force\n",
      "symbiote costume\n",
      "speed force\n",
      "phoenix force\n",
      "molecular dissipation\n",
      "vision - cryo\n",
      "omnipresent\n",
      "omniscient\n"
     ]
    }
   ],
   "source": [
    "for power in powers_df.columns:\n",
    "    print(power)"
   ]
  },
  {
   "cell_type": "code",
   "execution_count": 7,
   "metadata": {},
   "outputs": [
    {
     "name": "stdout",
     "output_type": "stream",
     "text": [
      "<class 'pandas.core.frame.DataFrame'>\n",
      "RangeIndex: 734 entries, 0 to 733\n",
      "Data columns (total 10 columns):\n",
      "name          734 non-null object\n",
      "gender        734 non-null object\n",
      "eye color     734 non-null object\n",
      "race          734 non-null object\n",
      "hair color    734 non-null object\n",
      "height        734 non-null float64\n",
      "publisher     719 non-null object\n",
      "skin color    734 non-null object\n",
      "alignment     734 non-null object\n",
      "weight        732 non-null float64\n",
      "dtypes: float64(2), object(8)\n",
      "memory usage: 57.5+ KB\n"
     ]
    }
   ],
   "source": [
    "heroes_df.info()"
   ]
  },
  {
   "cell_type": "code",
   "execution_count": 8,
   "metadata": {},
   "outputs": [],
   "source": [
    "for column in powers_df.columns:\n",
    "    if_na = getattr(powers_df, column).isna().any()\n",
    "    if if_na:\n",
    "        print(f'{column}: {if_na}')"
   ]
  },
  {
   "cell_type": "markdown",
   "metadata": {},
   "source": [
    "## Dealing with missing values\n",
    "\n",
    "Starting in the cell below, detect and deal with any missing values in either DataFrame. Then, explain your methodology for detecting and dealing with outliers in the markdown section below. Be sure to explain your strategy for dealing with missing values in numeric columns, as well as your strategy for dealing with missing values in non-numeric columns.  \n",
    "\n",
    "Note that if you need to add more cells to write code in, you can do this by:\n",
    "\n",
    "**1.** Highlighting a cell and then pressing `ESC` to enter command mode.  \n",
    "**2.** Press `A` to add a cell above the highlighted cell, or `B` to add a cell below the highlighted cell. \n",
    "\n",
    "Describe your strategy below this line:\n",
    "____________________________________________________________________________________________________________________________\n",
    "\n",
    "\n"
   ]
  },
  {
   "cell_type": "code",
   "execution_count": 9,
   "metadata": {
    "slideshow": {
     "slide_type": "slide"
    }
   },
   "outputs": [
    {
     "data": {
      "text/plain": [
       "Marvel Comics        388\n",
       "DC Comics            215\n",
       "NBC - Heroes          19\n",
       "Dark Horse Comics     18\n",
       "Image Comics          14\n",
       "George Lucas          14\n",
       "HarperCollins          6\n",
       "Star Trek              6\n",
       "SyFy                   5\n",
       "Team Epic TV           5\n",
       "IDW Publishing         4\n",
       "Icon Comics            4\n",
       "Shueisha               4\n",
       "ABC Studios            4\n",
       "Wildstorm              3\n",
       "Sony Pictures          2\n",
       "Microsoft              1\n",
       "J. R. R. Tolkien       1\n",
       "J. K. Rowling          1\n",
       "Universal Studios      1\n",
       "Titan Books            1\n",
       "Hanna-Barbera          1\n",
       "South Park             1\n",
       "Rebellion              1\n",
       "Name: publisher, dtype: int64"
      ]
     },
     "execution_count": 9,
     "metadata": {},
     "output_type": "execute_result"
    }
   ],
   "source": [
    "# heroes_df.publisher has Nans. What does that column look like?\n",
    "heroes_df.publisher.value_counts()"
   ]
  },
  {
   "cell_type": "code",
   "execution_count": 10,
   "metadata": {},
   "outputs": [
    {
     "data": {
      "text/html": [
       "<div>\n",
       "<style scoped>\n",
       "    .dataframe tbody tr th:only-of-type {\n",
       "        vertical-align: middle;\n",
       "    }\n",
       "\n",
       "    .dataframe tbody tr th {\n",
       "        vertical-align: top;\n",
       "    }\n",
       "\n",
       "    .dataframe thead th {\n",
       "        text-align: right;\n",
       "    }\n",
       "</style>\n",
       "<table border=\"1\" class=\"dataframe\">\n",
       "  <thead>\n",
       "    <tr style=\"text-align: right;\">\n",
       "      <th></th>\n",
       "      <th>name</th>\n",
       "      <th>gender</th>\n",
       "      <th>eye color</th>\n",
       "      <th>race</th>\n",
       "      <th>hair color</th>\n",
       "      <th>height</th>\n",
       "      <th>publisher</th>\n",
       "      <th>skin color</th>\n",
       "      <th>alignment</th>\n",
       "      <th>weight</th>\n",
       "    </tr>\n",
       "  </thead>\n",
       "  <tbody>\n",
       "    <tr>\n",
       "      <td>286</td>\n",
       "      <td>Godzilla</td>\n",
       "      <td>-</td>\n",
       "      <td>-</td>\n",
       "      <td>Kaiju</td>\n",
       "      <td>-</td>\n",
       "      <td>108.0</td>\n",
       "      <td>NaN</td>\n",
       "      <td>grey</td>\n",
       "      <td>bad</td>\n",
       "      <td>NaN</td>\n",
       "    </tr>\n",
       "    <tr>\n",
       "      <td>389</td>\n",
       "      <td>King Kong</td>\n",
       "      <td>Male</td>\n",
       "      <td>yellow</td>\n",
       "      <td>Animal</td>\n",
       "      <td>Black</td>\n",
       "      <td>30.5</td>\n",
       "      <td>NaN</td>\n",
       "      <td>-</td>\n",
       "      <td>good</td>\n",
       "      <td>NaN</td>\n",
       "    </tr>\n",
       "  </tbody>\n",
       "</table>\n",
       "</div>"
      ],
      "text/plain": [
       "          name gender eye color    race hair color  height publisher  \\\n",
       "286   Godzilla      -         -   Kaiju          -   108.0       NaN   \n",
       "389  King Kong   Male    yellow  Animal      Black    30.5       NaN   \n",
       "\n",
       "    skin color alignment  weight  \n",
       "286       grey       bad     NaN  \n",
       "389          -      good     NaN  "
      ]
     },
     "execution_count": 10,
     "metadata": {},
     "output_type": "execute_result"
    }
   ],
   "source": [
    "# heroes_df.weight has some nulls\n",
    "heroes_df.loc[heroes_df.weight.isna()]"
   ]
  },
  {
   "cell_type": "code",
   "execution_count": 11,
   "metadata": {},
   "outputs": [],
   "source": [
    "heroes_df.fillna(heroes_df.weight.median(), axis=0, inplace=True)"
   ]
  },
  {
   "cell_type": "code",
   "execution_count": 12,
   "metadata": {},
   "outputs": [
    {
     "name": "stdout",
     "output_type": "stream",
     "text": [
      "<class 'pandas.core.frame.DataFrame'>\n",
      "RangeIndex: 734 entries, 0 to 733\n",
      "Data columns (total 10 columns):\n",
      "name          734 non-null object\n",
      "gender        734 non-null object\n",
      "eye color     734 non-null object\n",
      "race          734 non-null object\n",
      "hair color    734 non-null object\n",
      "height        734 non-null float64\n",
      "publisher     734 non-null object\n",
      "skin color    734 non-null object\n",
      "alignment     734 non-null object\n",
      "weight        734 non-null float64\n",
      "dtypes: float64(2), object(8)\n",
      "memory usage: 57.5+ KB\n"
     ]
    }
   ],
   "source": [
    "heroes_df.info()"
   ]
  },
  {
   "cell_type": "code",
   "execution_count": 13,
   "metadata": {},
   "outputs": [
    {
     "name": "stdout",
     "output_type": "stream",
     "text": [
      "Column: name\n",
      " ['A-Bomb' 'Abe Sapien' 'Abin Sur' 'Abomination' 'Abraxas' 'Absorbing Man'\n",
      " 'Adam Monroe' 'Adam Strange' 'Agent 13' 'Agent Bob' 'Agent Zero'\n",
      " 'Air-Walker' 'Ajax' 'Alan Scott' 'Alex Mercer' 'Alex Woolsly'\n",
      " 'Alfred Pennyworth' 'Alien' 'Allan Quatermain' 'Amazo' 'Ammo'\n",
      " 'Ando Masahashi' 'Angel' 'Angel Dust' 'Angel Salvadore' 'Angela'\n",
      " 'Animal Man' 'Annihilus' 'Ant-Man' 'Ant-Man II' 'Anti-Monitor'\n",
      " 'Anti-Spawn' 'Anti-Venom' 'Apocalypse' 'Aquababy' 'Aqualad' 'Aquaman'\n",
      " 'Arachne' 'Archangel' 'Arclight' 'Ardina' 'Ares' 'Ariel' 'Armor'\n",
      " 'Arsenal' 'Astro Boy' 'Atlas' 'Atom' 'Atom Girl' 'Atom II' 'Atom III'\n",
      " 'Atom IV' 'Aurora' 'Azazel' 'Azrael' 'Aztar' 'Bane' 'Banshee' 'Bantam'\n",
      " 'Batgirl' 'Batgirl III' 'Batgirl IV' 'Batgirl V' 'Batgirl VI' 'Batman'\n",
      " 'Batman II' 'Battlestar' 'Batwoman V' 'Beak' 'Beast' 'Beast Boy' 'Beetle'\n",
      " 'Ben 10' 'Beta Ray Bill' 'Beyonder' 'Big Barda' 'Big Daddy' 'Big Man'\n",
      " 'Bill Harken' 'Billy Kincaid' 'Binary' 'Bionic Woman' 'Bird-Brain'\n",
      " 'Bird-Man' 'Bird-Man II' 'Birdman' 'Bishop' 'Bizarro' 'Black Abbott'\n",
      " 'Black Adam' 'Black Bolt' 'Black Canary' 'Black Cat' 'Black Flash'\n",
      " 'Black Goliath' 'Black Knight III' 'Black Lightning' 'Black Mamba'\n",
      " 'Black Manta' 'Black Panther' 'Black Widow' 'Black Widow II' 'Blackout'\n",
      " 'Blackwing' 'Blackwulf' 'Blade' 'Blaquesmith' 'Bling!' 'Blink' 'Blizzard'\n",
      " 'Blizzard II' 'Blob' 'Bloodaxe' 'Bloodhawk' 'Bloodwraith' 'Blue Beetle'\n",
      " 'Blue Beetle II' 'Blue Beetle III' 'Boba Fett' 'Bolt' 'Bomb Queen'\n",
      " 'Boom-Boom' 'Boomer' 'Booster Gold' 'Box' 'Box III' 'Box IV' 'Brainiac'\n",
      " 'Brainiac 5' 'Brother Voodoo' 'Brundlefly' 'Buffy' 'Bullseye' 'Bumblebee'\n",
      " 'Bumbleboy' 'Bushido' 'Cable' 'Callisto' 'Cameron Hicks' 'Cannonball'\n",
      " 'Captain America' 'Captain Atom' 'Captain Britain' 'Captain Cold'\n",
      " 'Captain Epic' 'Captain Hindsight' 'Captain Mar-vell' 'Captain Marvel'\n",
      " 'Captain Marvel II' 'Captain Midnight' 'Captain Planet'\n",
      " 'Captain Universe' 'Carnage' 'Cat' 'Cat II' 'Catwoman' 'Cecilia Reyes'\n",
      " 'Century' 'Cerebra' 'Chamber' 'Chameleon' 'Changeling' 'Cheetah'\n",
      " 'Cheetah II' 'Cheetah III' 'Chromos' 'Chuck Norris' 'Citizen Steel'\n",
      " 'Claire Bennet' 'Clea' 'Cloak' 'Clock King' 'Cogliostro' 'Colin Wagner'\n",
      " 'Colossal Boy' 'Colossus' 'Copycat' 'Corsair' 'Cottonmouth'\n",
      " 'Crimson Crusader' 'Crimson Dynamo' 'Crystal' 'Curse' 'Cy-Gor' 'Cyborg'\n",
      " 'Cyborg Superman' 'Cyclops' 'Cypher' 'Dagger' 'Danny Cooper'\n",
      " 'Daphne Powell' 'Daredevil' 'Darkhawk' 'Darkman' 'Darkseid' 'Darkside'\n",
      " 'Darkstar' 'Darth Maul' 'Darth Vader' 'Dash' 'Data' 'Dazzler' 'Deadman'\n",
      " 'Deadpool' 'Deadshot' 'Deathlok' 'Deathstroke' 'Demogoblin' 'Destroyer'\n",
      " 'Diamondback' 'DL Hawkins' 'Doc Samson' 'Doctor Doom' 'Doctor Doom II'\n",
      " 'Doctor Fate' 'Doctor Octopus' 'Doctor Strange' 'Domino' 'Donatello'\n",
      " 'Donna Troy' 'Doomsday' 'Doppelganger' 'Dormammu' 'Dr Manhattan'\n",
      " 'Drax the Destroyer' 'Ego' 'Elastigirl' 'Electro' 'Elektra' 'Elle Bishop'\n",
      " 'Elongated Man' 'Emma Frost' 'Enchantress' 'Energy' 'ERG-1' 'Ethan Hunt'\n",
      " 'Etrigan' 'Evil Deadpool' 'Evilhawk' 'Exodus' 'Fabian Cortez' 'Falcon'\n",
      " 'Fallen One II' 'Faora' 'Feral' 'Fighting Spirit' 'Fin Fang Foom'\n",
      " 'Firebird' 'Firelord' 'Firestar' 'Firestorm' 'Fixer' 'Flash'\n",
      " 'Flash Gordon' 'Flash II' 'Flash III' 'Flash IV' 'Forge'\n",
      " 'Franklin Richards' 'Franklin Storm' 'Frenzy' 'Frigga' 'Galactus'\n",
      " 'Gambit' 'Gamora' 'Garbage Man' 'Gary Bell' 'General Zod' 'Genesis'\n",
      " 'Ghost Rider' 'Ghost Rider II' 'Giant-Man' 'Giant-Man II' 'Giganta'\n",
      " 'Gladiator' 'Goblin Queen' 'Godzilla' 'Gog' 'Goku' 'Goliath' 'Goliath IV'\n",
      " 'Gorilla Grodd' 'Granny Goodness' 'Gravity' 'Greedo' 'Green Arrow'\n",
      " 'Green Goblin' 'Green Goblin II' 'Green Goblin III' 'Green Goblin IV'\n",
      " 'Groot' 'Guardian' 'Guy Gardner' 'Hal Jordan' 'Han Solo' 'Hancock'\n",
      " 'Harley Quinn' 'Harry Potter' 'Havok' 'Hawk' 'Hawkeye' 'Hawkeye II'\n",
      " 'Hawkgirl' 'Hawkman' 'Hawkwoman' 'Hawkwoman II' 'Hawkwoman III'\n",
      " 'Heat Wave' 'Hela' 'Hellboy' 'Hellcat' 'Hellstorm' 'Hercules'\n",
      " 'Hiro Nakamura' 'Hit-Girl' 'Hobgoblin' 'Hollow' 'Hope Summers'\n",
      " 'Howard the Duck' 'Hulk' 'Human Torch' 'Huntress' 'Husk' 'Hybrid'\n",
      " 'Hydro-Man' 'Hyperion' 'Iceman' 'Impulse' 'Indiana Jones' 'Indigo' 'Ink'\n",
      " 'Invisible Woman' 'Iron Fist' 'Iron Man' 'Iron Monger' 'Isis'\n",
      " 'Jack Bauer' 'Jack of Hearts' 'Jack-Jack' 'James Bond' 'James T. Kirk'\n",
      " 'Jar Jar Binks' 'Jason Bourne' 'Jean Grey' 'Jean-Luc Picard'\n",
      " 'Jennifer Kale' 'Jesse Quick' 'Jessica Cruz' 'Jessica Jones'\n",
      " 'Jessica Sanders' 'Jigsaw' 'Jim Powell' 'JJ Powell' 'Johann Krauss'\n",
      " 'John Constantine' 'John Stewart' 'John Wraith' 'Joker' 'Jolt' 'Jubilee'\n",
      " 'Judge Dredd' 'Juggernaut' 'Junkpile' 'Justice' 'Jyn Erso' 'K-2SO' 'Kang'\n",
      " 'Karate Kid' 'Kathryn Janeway' 'Katniss Everdeen' 'Kevin 11' 'Kick-Ass'\n",
      " 'Kid Flash' 'Kid Flash II' 'Killer Croc' 'Killer Frost' 'Kilowog'\n",
      " 'King Kong' 'King Shark' 'Kingpin' 'Klaw' 'Kool-Aid Man' 'Kraven II'\n",
      " 'Kraven the Hunter' 'Krypto' 'Kyle Rayner' 'Kylo Ren' 'Lady Bullseye'\n",
      " 'Lady Deathstrike' 'Leader' 'Leech' 'Legion' 'Leonardo' 'Lex Luthor'\n",
      " 'Light Lass' 'Lightning Lad' 'Lightning Lord' 'Living Brain'\n",
      " 'Living Tribunal' 'Liz Sherman' 'Lizard' 'Lobo' 'Loki' 'Longshot'\n",
      " 'Luke Cage' 'Luke Campbell' 'Luke Skywalker' 'Luna' 'Lyja' 'Mach-IV'\n",
      " 'Machine Man' 'Magneto' 'Magog' 'Magus' 'Man of Miracles' 'Man-Bat'\n",
      " 'Man-Thing' 'Man-Wolf' 'Mandarin' 'Mantis' 'Martian Manhunter'\n",
      " 'Marvel Girl' 'Master Brood' 'Master Chief' 'Match' 'Matt Parkman'\n",
      " 'Maverick' 'Maxima' 'Maya Herrera' 'Medusa' 'Meltdown' 'Mephisto' 'Mera'\n",
      " 'Metallo' 'Metamorpho' 'Meteorite' 'Metron' 'Micah Sanders'\n",
      " 'Michelangelo' 'Micro Lad' 'Mimic' 'Minna Murray' 'Misfit' 'Miss Martian'\n",
      " 'Mister Fantastic' 'Mister Freeze' 'Mister Knife' 'Mister Mxyzptlk'\n",
      " 'Mister Sinister' 'Mister Zsasz' 'Mockingbird' 'MODOK' 'Mogo'\n",
      " 'Mohinder Suresh' 'Moloch' 'Molten Man' 'Monarch' 'Monica Dawson'\n",
      " 'Moon Knight' 'Moonstone' 'Morlun' 'Morph' 'Moses Magnum' 'Mr Immortal'\n",
      " 'Mr Incredible' 'Ms Marvel II' 'Multiple Man' 'Mysterio' 'Mystique'\n",
      " 'Namor' 'Namora' 'Namorita' 'Naruto Uzumaki' 'Nathan Petrelli' 'Nebula'\n",
      " 'Negasonic Teenage Warhead' 'Nick Fury' 'Nightcrawler' 'Nightwing'\n",
      " 'Niki Sanders' 'Nina Theroux' 'Nite Owl II' 'Northstar' 'Nova' 'Odin'\n",
      " 'Offspring' 'Omega Red' 'Omniscient' 'One Punch Man' 'One-Above-All'\n",
      " 'Onslaught' 'Oracle' 'Osiris' 'Overtkill' 'Ozymandias' 'Parademon'\n",
      " 'Paul Blart' 'Penance' 'Penance I' 'Penance II' 'Penguin'\n",
      " 'Peter Petrelli' 'Phantom' 'Phantom Girl' 'Phoenix' 'Plantman'\n",
      " 'Plastic Lad' 'Plastic Man' 'Plastique' 'Poison Ivy' 'Polaris'\n",
      " 'Power Girl' 'Power Man' 'Predator' 'Professor X' 'Professor Zoom'\n",
      " 'Proto-Goblin' 'Psylocke' 'Punisher' 'Purple Man' 'Pyro' 'Q' 'Quantum'\n",
      " 'Question' 'Quicksilver' 'Quill' \"Ra's Al Ghul\" 'Rachel Pirzad' 'Rambo'\n",
      " 'Raphael' 'Raven' 'Ray' 'Razor-Fist II' 'Red Arrow' 'Red Hood' 'Red Hulk'\n",
      " 'Red Mist' 'Red Robin' 'Red Skull' 'Red Tornado' 'Redeemer II'\n",
      " 'Redeemer III' 'Renata Soliz' 'Rey' 'Rhino' 'Rick Flag' 'Riddler'\n",
      " 'Rip Hunter' 'Ripcord' 'Robin' 'Robin II' 'Robin III' 'Robin V'\n",
      " 'Robin VI' 'Rocket Raccoon' 'Rogue' 'Ronin' 'Rorschach' 'Sabretooth'\n",
      " 'Sage' 'Sandman' 'Sasquatch' 'Sauron' 'Savage Dragon' 'Scarecrow'\n",
      " 'Scarlet Spider' 'Scarlet Spider II' 'Scarlet Witch' 'Scorpia' 'Scorpion'\n",
      " 'Sebastian Shaw' 'Sentry' 'Shadow King' 'Shadow Lass' 'Shadowcat'\n",
      " 'Shang-Chi' 'Shatterstar' 'She-Hulk' 'She-Thing' 'Shocker' 'Shriek'\n",
      " 'Shrinking Violet' 'Sif' 'Silk' 'Silk Spectre' 'Silk Spectre II'\n",
      " 'Silver Surfer' 'Silverclaw' 'Simon Baz' 'Sinestro' 'Siren' 'Siren II'\n",
      " 'Siryn' 'Skaar' 'Snake-Eyes' 'Snowbird' 'Sobek' 'Solomon Grundy'\n",
      " 'Songbird' 'Space Ghost' 'Spawn' 'Spectre' 'Speedball' 'Speedy'\n",
      " 'Spider-Carnage' 'Spider-Girl' 'Spider-Gwen' 'Spider-Man' 'Spider-Woman'\n",
      " 'Spider-Woman II' 'Spider-Woman III' 'Spider-Woman IV' 'Spock' 'Spyke'\n",
      " 'Stacy X' 'Star-Lord' 'Stardust' 'Starfire' 'Stargirl' 'Static' 'Steel'\n",
      " 'Stephanie Powell' 'Steppenwolf' 'Storm' 'Stormtrooper' 'Sunspot'\n",
      " 'Superboy' 'Superboy-Prime' 'Supergirl' 'Superman' 'Swamp Thing' 'Swarm'\n",
      " 'Sylar' 'Synch' 'T-1000' 'T-800' 'T-850' 'T-X' 'Taskmaster' 'Tempest'\n",
      " 'Thanos' 'The Cape' 'The Comedian' 'Thing' 'Thor' 'Thor Girl'\n",
      " 'Thunderbird' 'Thunderbird II' 'Thunderbird III' 'Thunderstrike'\n",
      " 'Thundra' 'Tiger Shark' 'Tigra' 'Tinkerer' 'Titan' 'Toad' 'Toxin'\n",
      " 'Tracy Strauss' 'Trickster' 'Trigon' 'Triplicate Girl' 'Triton'\n",
      " 'Two-Face' 'Ultragirl' 'Ultron' 'Utgard-Loki' 'Vagabond' 'Valerie Hart'\n",
      " 'Valkyrie' 'Vanisher' 'Vegeta' 'Venom' 'Venom II' 'Venom III' 'Venompool'\n",
      " 'Vertigo II' 'Vibe' 'Vindicator' 'Violator' 'Violet Parr' 'Vision'\n",
      " 'Vision II' 'Vixen' 'Vulcan' 'Vulture' 'Walrus' 'War Machine' 'Warbird'\n",
      " 'Warlock' 'Warp' 'Warpath' 'Wasp' 'Watcher' 'Weapon XI' 'White Canary'\n",
      " 'White Queen' 'Wildfire' 'Winter Soldier' 'Wiz Kid' 'Wolfsbane'\n",
      " 'Wolverine' 'Wonder Girl' 'Wonder Man' 'Wonder Woman' 'Wondra'\n",
      " 'Wyatt Wingfoot' 'X-23' 'X-Man' 'Yellow Claw' 'Yellowjacket'\n",
      " 'Yellowjacket II' 'Ymir' 'Yoda' 'Zatanna' 'Zoom']\n",
      "\n",
      "\n",
      "Column: gender\n",
      " ['Male' 'Female' '-']\n",
      "\n",
      "\n",
      "Column: eye color\n",
      " ['yellow' 'blue' 'green' 'brown' '-' 'red' 'violet' 'white' 'purple'\n",
      " 'black' 'grey' 'silver' 'yellow / red' 'yellow (without irises)' 'gold'\n",
      " 'blue / white' 'hazel' 'green / blue' 'white / red' 'indigo' 'amber'\n",
      " 'yellow / blue' 'bown']\n",
      "\n",
      "\n",
      "Column: race\n",
      " ['Human' 'Icthyo Sapien' 'Ungaran' 'Human / Radiation' 'Cosmic Entity' '-'\n",
      " 'Cyborg' 'Xenomorph XX121' 'Android' 'Vampire' 'Mutant' 'God / Eternal'\n",
      " 'Symbiote' 'Atlantean' 'Alien' 'Neyaphem' 'New God' 'Alpha' 'Bizarro'\n",
      " 'Inhuman' 'Metahuman' 'Demon' 'Human / Clone' 'Human-Kree'\n",
      " 'Dathomirian Zabrak' 'Amazon' 'Human / Cosmic' 'Human / Altered'\n",
      " 'Kryptonian' 'Kakarantharaian' 'Zen-Whoberian' 'Strontian' 'Kaiju'\n",
      " 'Saiyan' 'Gorilla' 'Rodian' 'Flora Colossus' 'Human-Vuldarian'\n",
      " 'Asgardian' 'Demi-God' 'Eternal' 'Gungan' 'Bolovaxian' 'Animal'\n",
      " 'Czarnian' 'Martian' 'Spartoi' 'Planet' 'Luphomoid' 'Parademon' 'Yautja'\n",
      " 'Maiar' 'Clone' 'Talokite' 'Korugaran' 'Zombie' 'Human-Vulcan'\n",
      " 'Human-Spartoi' 'Tamaranean' 'Frost Giant' 'Mutant / Clone'\n",
      " \"Yoda's species\"]\n",
      "\n",
      "\n",
      "Column: hair color\n",
      " ['No Hair' 'Black' 'Blond' 'Brown' '-' 'White' 'Purple' 'Orange' 'Pink'\n",
      " 'Red' 'Auburn' 'Strawberry Blond' 'black' 'Blue' 'Green' 'Magenta'\n",
      " 'Brown / Black' 'Brown / White' 'blond' 'Silver' 'Red / Grey' 'Grey'\n",
      " 'Orange / White' 'Yellow' 'Brownn' 'Gold' 'Red / Orange' 'Indigo'\n",
      " 'Red / White' 'Black / Blue']\n",
      "\n",
      "\n",
      "Column: height\n",
      " [203.  191.  185.  -99.  193.  173.  178.  188.  180.  244.  257.  183.\n",
      " 165.  163.  211.   61.  229.  213.  175.  198.  168.  170.  201.  218.\n",
      "  30.5 196.  157.  226.  267.  122.  975.  142.  876.   62.5 108.  701.\n",
      " 259.   79.  155.   71.  287.  234.   64.  366.  206.  305.  297.  137.\n",
      " 279.   15.2 140.  160.  304.8  66. ]\n",
      "\n",
      "\n",
      "Column: publisher\n",
      " ['Marvel Comics' 'Dark Horse Comics' 'DC Comics' 'NBC - Heroes'\n",
      " 'Wildstorm' 'Image Comics' 62.0 'Icon Comics' 'SyFy' 'Hanna-Barbera'\n",
      " 'George Lucas' 'Team Epic TV' 'South Park' 'HarperCollins' 'ABC Studios'\n",
      " 'Universal Studios' 'Star Trek' 'IDW Publishing' 'Shueisha'\n",
      " 'Sony Pictures' 'J. K. Rowling' 'Titan Books' 'Rebellion' 'Microsoft'\n",
      " 'J. R. R. Tolkien']\n",
      "\n",
      "\n",
      "Column: skin color\n",
      " ['-' 'blue' 'red' 'black' 'grey' 'gold' 'green' 'white' 'pink' 'silver'\n",
      " 'red / black' 'yellow' 'purple' 'orange / white' 'gray' 'blue-white'\n",
      " 'orange']\n",
      "\n",
      "\n",
      "Column: alignment\n",
      " ['good' 'bad' '-' 'neutral']\n",
      "\n",
      "\n",
      "Column: weight\n",
      " [441.  65.  90. -99. 122.  88.  61.  81. 104. 108.  72. 169. 173. 101.\n",
      "  68.  57.  54.  83.  86. 358. 135. 106. 146.  63.  98. 270.  59.  50.\n",
      " 126.  67. 180.  77.  52.  95.  79. 133. 181. 216.  71. 124. 155. 113.\n",
      "  58.  92.  97.  56. 230. 495.  55. 110.  99. 158.  74. 116.  62. 170.\n",
      "  70.  78. 225. 817.  27.  91. 178. 383. 171. 187. 132.  89. 412. 306.\n",
      "  80. 203.  96.  18.  45. 167.  16. 630. 268. 115.   4.  48. 119. 207.\n",
      " 191.   2.  14.  49. 855. 356. 324. 360. 288. 236.  36. 140. 128. 338.\n",
      " 248. 125.  85. 293.  69. 405. 117.  87. 234. 320.  38.  25. 900. 310.\n",
      " 149. 315. 153. 437. 131.  47. 176. 198. 443. 143.  76.  82. 105. 331.\n",
      " 214.  73. 334.  41. 162.  39. 473.  51.  17.]\n",
      "\n",
      "\n"
     ]
    }
   ],
   "source": [
    "for column in heroes_df.columns:\n",
    "    print(f'Column: {column}\\n {getattr(heroes_df, column).unique()}\\n\\n')"
   ]
  },
  {
   "cell_type": "markdown",
   "metadata": {},
   "source": [
    "eye_color has a value called 'bown' which needs to become 'brown'.\n",
    "\n",
    "gender has a '-' value. It's okay if it stays that way. It's a valid category.\n",
    "\n",
    "hair_color has 'Brownn' value.\n",
    "\n",
    "Many columns use an inconsistent delimiter for combination features like skin_color (i.e. blue-white and orange/white). Gonna leave this one for now.\n",
    "\n",
    "weight and height columns have values that are nonsensical (-99.0 for each)"
   ]
  },
  {
   "cell_type": "code",
   "execution_count": 14,
   "metadata": {},
   "outputs": [
    {
     "data": {
      "text/plain": [
       "0.3228882833787466"
      ]
     },
     "execution_count": 14,
     "metadata": {},
     "output_type": "execute_result"
    }
   ],
   "source": [
    "# how many weights are negative. 30% are negative numbers.\n",
    "len(heroes_df.loc[heroes_df.weight < 0]) / len(heroes_df)"
   ]
  },
  {
   "cell_type": "code",
   "execution_count": 15,
   "metadata": {},
   "outputs": [
    {
     "data": {
      "text/plain": [
       "0.2956403269754768"
      ]
     },
     "execution_count": 15,
     "metadata": {},
     "output_type": "execute_result"
    }
   ],
   "source": [
    "len(heroes_df.loc[heroes_df.height < 0]) / len(heroes_df)"
   ]
  },
  {
   "cell_type": "markdown",
   "metadata": {},
   "source": [
    "If I set the weights and heights to the median, I'll lose sight of the variance of the data. What is the variance? Is it significant?"
   ]
  },
  {
   "cell_type": "code",
   "execution_count": 16,
   "metadata": {},
   "outputs": [
    {
     "data": {
      "image/png": "[encoded data removed]",
      "text/plain": [
       "<Figure size 432x288 with 1 Axes>"
      ]
     },
     "metadata": {
      "needs_background": "light"
     },
     "output_type": "display_data"
    }
   ],
   "source": [
    "plt.xlabel('weight')\n",
    "heroes_df.weight.plot(kind='hist', bins=20);"
   ]
  },
  {
   "cell_type": "code",
   "execution_count": 17,
   "metadata": {},
   "outputs": [
    {
     "data": {
      "image/png": "[encoded data removed]",
      "text/plain": [
       "<Figure size 432x288 with 1 Axes>"
      ]
     },
     "metadata": {
      "needs_background": "light"
     },
     "output_type": "display_data"
    }
   ],
   "source": [
    "heroes_df.height.plot(kind='hist', bins=10);"
   ]
  },
  {
   "cell_type": "markdown",
   "metadata": {},
   "source": [
    "It's possible that if the weights and heights that are set to -99 are all human I can assume that they won't be outlier data like the aliens in the dataset. Unfortunately, they aren't. Only 47/237 observations are human."
   ]
  },
  {
   "cell_type": "code",
   "execution_count": 18,
   "metadata": {},
   "outputs": [
    {
     "data": {
      "text/plain": [
       "-                     135\n",
       "Human                  47\n",
       "Mutant                 12\n",
       "God / Eternal          12\n",
       "Alpha                   5\n",
       "Cosmic Entity           3\n",
       "Symbiote                2\n",
       "Android                 2\n",
       "Cyborg                  2\n",
       "Animal                  2\n",
       "Kryptonian              2\n",
       "Gungan                  1\n",
       "Vampire                 1\n",
       "Rodian                  1\n",
       "Alien                   1\n",
       "Human / Altered         1\n",
       "Human / Cosmic          1\n",
       "Parademon               1\n",
       "Maiar                   1\n",
       "Dathomirian Zabrak      1\n",
       "Spartoi                 1\n",
       "Frost Giant             1\n",
       "Planet                  1\n",
       "Human / Clone           1\n",
       "Name: race, dtype: int64"
      ]
     },
     "execution_count": 18,
     "metadata": {},
     "output_type": "execute_result"
    }
   ],
   "source": [
    "heroes_df.loc[(heroes_df.weight == -99)].race.value_counts()"
   ]
  },
  {
   "cell_type": "code",
   "execution_count": 19,
   "metadata": {},
   "outputs": [
    {
     "data": {
      "image/png": "[encoded data removed]",
      "text/plain": [
       "<Figure size 432x288 with 1 Axes>"
      ]
     },
     "metadata": {
      "needs_background": "light"
     },
     "output_type": "display_data"
    }
   ],
   "source": [
    "heroes_df.loc[heroes_df.race == 'Human'][['weight', 'height']].plot(kind='hist', bins=20);"
   ]
  },
  {
   "cell_type": "code",
   "execution_count": 20,
   "metadata": {},
   "outputs": [
    {
     "data": {
      "text/html": [
       "<div>\n",
       "<style scoped>\n",
       "    .dataframe tbody tr th:only-of-type {\n",
       "        vertical-align: middle;\n",
       "    }\n",
       "\n",
       "    .dataframe tbody tr th {\n",
       "        vertical-align: top;\n",
       "    }\n",
       "\n",
       "    .dataframe thead th {\n",
       "        text-align: right;\n",
       "    }\n",
       "</style>\n",
       "<table border=\"1\" class=\"dataframe\">\n",
       "  <thead>\n",
       "    <tr style=\"text-align: right;\">\n",
       "      <th></th>\n",
       "      <th>name</th>\n",
       "      <th>gender</th>\n",
       "      <th>eye color</th>\n",
       "      <th>race</th>\n",
       "      <th>hair color</th>\n",
       "      <th>height</th>\n",
       "      <th>publisher</th>\n",
       "      <th>skin color</th>\n",
       "      <th>alignment</th>\n",
       "      <th>weight</th>\n",
       "    </tr>\n",
       "  </thead>\n",
       "  <tbody>\n",
       "    <tr>\n",
       "      <td>0</td>\n",
       "      <td>A-Bomb</td>\n",
       "      <td>Male</td>\n",
       "      <td>yellow</td>\n",
       "      <td>Human</td>\n",
       "      <td>No Hair</td>\n",
       "      <td>203.0</td>\n",
       "      <td>Marvel Comics</td>\n",
       "      <td>-</td>\n",
       "      <td>good</td>\n",
       "      <td>441.0</td>\n",
       "    </tr>\n",
       "    <tr>\n",
       "      <td>119</td>\n",
       "      <td>Bloodaxe</td>\n",
       "      <td>Female</td>\n",
       "      <td>blue</td>\n",
       "      <td>Human</td>\n",
       "      <td>Brown</td>\n",
       "      <td>218.0</td>\n",
       "      <td>Marvel Comics</td>\n",
       "      <td>-</td>\n",
       "      <td>bad</td>\n",
       "      <td>495.0</td>\n",
       "    </tr>\n",
       "    <tr>\n",
       "      <td>373</td>\n",
       "      <td>Juggernaut</td>\n",
       "      <td>Male</td>\n",
       "      <td>blue</td>\n",
       "      <td>Human</td>\n",
       "      <td>Red</td>\n",
       "      <td>287.0</td>\n",
       "      <td>Marvel Comics</td>\n",
       "      <td>-</td>\n",
       "      <td>neutral</td>\n",
       "      <td>855.0</td>\n",
       "    </tr>\n",
       "    <tr>\n",
       "      <td>583</td>\n",
       "      <td>Scorpion</td>\n",
       "      <td>Male</td>\n",
       "      <td>brown</td>\n",
       "      <td>Human</td>\n",
       "      <td>Brown</td>\n",
       "      <td>211.0</td>\n",
       "      <td>Marvel Comics</td>\n",
       "      <td>-</td>\n",
       "      <td>bad</td>\n",
       "      <td>310.0</td>\n",
       "    </tr>\n",
       "    <tr>\n",
       "      <td>591</td>\n",
       "      <td>She-Hulk</td>\n",
       "      <td>Female</td>\n",
       "      <td>green</td>\n",
       "      <td>Human</td>\n",
       "      <td>Green</td>\n",
       "      <td>201.0</td>\n",
       "      <td>Marvel Comics</td>\n",
       "      <td>-</td>\n",
       "      <td>good</td>\n",
       "      <td>315.0</td>\n",
       "    </tr>\n",
       "  </tbody>\n",
       "</table>\n",
       "</div>"
      ],
      "text/plain": [
       "           name  gender eye color   race hair color  height      publisher  \\\n",
       "0        A-Bomb    Male    yellow  Human    No Hair   203.0  Marvel Comics   \n",
       "119    Bloodaxe  Female      blue  Human      Brown   218.0  Marvel Comics   \n",
       "373  Juggernaut    Male      blue  Human        Red   287.0  Marvel Comics   \n",
       "583    Scorpion    Male     brown  Human      Brown   211.0  Marvel Comics   \n",
       "591    She-Hulk  Female     green  Human      Green   201.0  Marvel Comics   \n",
       "\n",
       "    skin color alignment  weight  \n",
       "0            -      good   441.0  \n",
       "119          -       bad   495.0  \n",
       "373          -   neutral   855.0  \n",
       "583          -       bad   310.0  \n",
       "591          -      good   315.0  "
      ]
     },
     "execution_count": 20,
     "metadata": {},
     "output_type": "execute_result"
    }
   ],
   "source": [
    "# Which humans weigh over 300 pounds\n",
    "heroes_df.loc[(heroes_df.weight > 300) & (heroes_df.race == 'Human')]"
   ]
  },
  {
   "cell_type": "markdown",
   "metadata": {},
   "source": [
    "I initially wanted to see if the majority of the -99 weight and height values were attached to humans because humans' weights generally fall into a normal distribution. I could have used the mean or median of those values with a little more confidence than just imputing the median. Unfortunately, we're dealing with superheroes and any generalizations abou \"human\" weight distributions don't hold, as evidenced by the weights of some humans close to 500 pounds."
   ]
  },
  {
   "cell_type": "code",
   "execution_count": 21,
   "metadata": {},
   "outputs": [],
   "source": [
    "heroes_df['eye color'].replace('bown', 'brown', inplace=True)"
   ]
  },
  {
   "cell_type": "code",
   "execution_count": 22,
   "metadata": {},
   "outputs": [],
   "source": [
    "heroes_df['hair color'].replace('brownn', 'brown', inplace=True)"
   ]
  },
  {
   "cell_type": "code",
   "execution_count": 23,
   "metadata": {},
   "outputs": [
    {
     "data": {
      "text/plain": [
       "81.0"
      ]
     },
     "execution_count": 23,
     "metadata": {},
     "output_type": "execute_result"
    }
   ],
   "source": [
    "clean_weight_med = heroes_df.loc[heroes_df.weight > 0].weight.median()\n",
    "clean_weight_med"
   ]
  },
  {
   "cell_type": "code",
   "execution_count": 24,
   "metadata": {},
   "outputs": [
    {
     "data": {
      "text/plain": [
       "183.0"
      ]
     },
     "execution_count": 24,
     "metadata": {},
     "output_type": "execute_result"
    }
   ],
   "source": [
    "clean_height_med = heroes_df.loc[heroes_df.height > 0].height.median()\n",
    "clean_height_med"
   ]
  },
  {
   "cell_type": "code",
   "execution_count": 25,
   "metadata": {},
   "outputs": [],
   "source": [
    "# heroes_df.replace(heroes_df.loc[heroes_df.weight < 0].weight, heroes_df.weight.mean(), inplace=True)\n",
    "\n",
    "\n",
    "heroes_df.weight = heroes_df.weight.map(lambda x: x if x > 0 else clean_weight_med)\n",
    "heroes_df.height = heroes_df.height.map(lambda x: x if x > 0 else clean_height_med)\n",
    "\n",
    "# heroes_df.loc[heroes_df.weight < 0] = clean_weight_med\n",
    "# heroes_df.loc[heroes_df.height < 0] = clean_height_med\n",
    "# heroes_df.head()"
   ]
  },
  {
   "cell_type": "markdown",
   "metadata": {},
   "source": [
    "## Joining, Grouping, and Aggregating\n",
    "\n",
    "In the cell below, join the two DataFrames.  Think about which sort of join you should use, as well as which columns you should join on.  Rename columns and manipulate as needed.  \n",
    "\n",
    "**_HINT:_** Consider the possibility that the columns you choose to join on contain duplicate entries. If that is the case, devise a strategy to deal with the duplicates.\n",
    "\n",
    "**_HINT:_** If the join throws an error message, consider setting the column you want to join on as the index for each DataFrame.  "
   ]
  },
  {
   "cell_type": "code",
   "execution_count": 26,
   "metadata": {},
   "outputs": [
    {
     "data": {
      "text/html": [
       "<div>\n",
       "<style scoped>\n",
       "    .dataframe tbody tr th:only-of-type {\n",
       "        vertical-align: middle;\n",
       "    }\n",
       "\n",
       "    .dataframe tbody tr th {\n",
       "        vertical-align: top;\n",
       "    }\n",
       "\n",
       "    .dataframe thead th {\n",
       "        text-align: right;\n",
       "    }\n",
       "</style>\n",
       "<table border=\"1\" class=\"dataframe\">\n",
       "  <thead>\n",
       "    <tr style=\"text-align: right;\">\n",
       "      <th></th>\n",
       "      <th>gender</th>\n",
       "      <th>eye color</th>\n",
       "      <th>race</th>\n",
       "      <th>hair color</th>\n",
       "      <th>height</th>\n",
       "      <th>publisher</th>\n",
       "      <th>skin color</th>\n",
       "      <th>alignment</th>\n",
       "      <th>weight</th>\n",
       "    </tr>\n",
       "    <tr>\n",
       "      <th>name</th>\n",
       "      <th></th>\n",
       "      <th></th>\n",
       "      <th></th>\n",
       "      <th></th>\n",
       "      <th></th>\n",
       "      <th></th>\n",
       "      <th></th>\n",
       "      <th></th>\n",
       "      <th></th>\n",
       "    </tr>\n",
       "  </thead>\n",
       "  <tbody>\n",
       "    <tr>\n",
       "      <td>A-Bomb</td>\n",
       "      <td>Male</td>\n",
       "      <td>yellow</td>\n",
       "      <td>Human</td>\n",
       "      <td>No Hair</td>\n",
       "      <td>203.0</td>\n",
       "      <td>Marvel Comics</td>\n",
       "      <td>-</td>\n",
       "      <td>good</td>\n",
       "      <td>441.0</td>\n",
       "    </tr>\n",
       "    <tr>\n",
       "      <td>Abe Sapien</td>\n",
       "      <td>Male</td>\n",
       "      <td>blue</td>\n",
       "      <td>Icthyo Sapien</td>\n",
       "      <td>No Hair</td>\n",
       "      <td>191.0</td>\n",
       "      <td>Dark Horse Comics</td>\n",
       "      <td>blue</td>\n",
       "      <td>good</td>\n",
       "      <td>65.0</td>\n",
       "    </tr>\n",
       "    <tr>\n",
       "      <td>Abin Sur</td>\n",
       "      <td>Male</td>\n",
       "      <td>blue</td>\n",
       "      <td>Ungaran</td>\n",
       "      <td>No Hair</td>\n",
       "      <td>185.0</td>\n",
       "      <td>DC Comics</td>\n",
       "      <td>red</td>\n",
       "      <td>good</td>\n",
       "      <td>90.0</td>\n",
       "    </tr>\n",
       "    <tr>\n",
       "      <td>Abomination</td>\n",
       "      <td>Male</td>\n",
       "      <td>green</td>\n",
       "      <td>Human / Radiation</td>\n",
       "      <td>No Hair</td>\n",
       "      <td>203.0</td>\n",
       "      <td>Marvel Comics</td>\n",
       "      <td>-</td>\n",
       "      <td>bad</td>\n",
       "      <td>441.0</td>\n",
       "    </tr>\n",
       "    <tr>\n",
       "      <td>Abraxas</td>\n",
       "      <td>Male</td>\n",
       "      <td>blue</td>\n",
       "      <td>Cosmic Entity</td>\n",
       "      <td>Black</td>\n",
       "      <td>183.0</td>\n",
       "      <td>Marvel Comics</td>\n",
       "      <td>-</td>\n",
       "      <td>bad</td>\n",
       "      <td>81.0</td>\n",
       "    </tr>\n",
       "    <tr>\n",
       "      <td>...</td>\n",
       "      <td>...</td>\n",
       "      <td>...</td>\n",
       "      <td>...</td>\n",
       "      <td>...</td>\n",
       "      <td>...</td>\n",
       "      <td>...</td>\n",
       "      <td>...</td>\n",
       "      <td>...</td>\n",
       "      <td>...</td>\n",
       "    </tr>\n",
       "    <tr>\n",
       "      <td>Yellowjacket II</td>\n",
       "      <td>Female</td>\n",
       "      <td>blue</td>\n",
       "      <td>Human</td>\n",
       "      <td>Strawberry Blond</td>\n",
       "      <td>165.0</td>\n",
       "      <td>Marvel Comics</td>\n",
       "      <td>-</td>\n",
       "      <td>good</td>\n",
       "      <td>52.0</td>\n",
       "    </tr>\n",
       "    <tr>\n",
       "      <td>Ymir</td>\n",
       "      <td>Male</td>\n",
       "      <td>white</td>\n",
       "      <td>Frost Giant</td>\n",
       "      <td>No Hair</td>\n",
       "      <td>304.8</td>\n",
       "      <td>Marvel Comics</td>\n",
       "      <td>white</td>\n",
       "      <td>good</td>\n",
       "      <td>81.0</td>\n",
       "    </tr>\n",
       "    <tr>\n",
       "      <td>Yoda</td>\n",
       "      <td>Male</td>\n",
       "      <td>brown</td>\n",
       "      <td>Yoda's species</td>\n",
       "      <td>White</td>\n",
       "      <td>66.0</td>\n",
       "      <td>George Lucas</td>\n",
       "      <td>green</td>\n",
       "      <td>good</td>\n",
       "      <td>17.0</td>\n",
       "    </tr>\n",
       "    <tr>\n",
       "      <td>Zatanna</td>\n",
       "      <td>Female</td>\n",
       "      <td>blue</td>\n",
       "      <td>Human</td>\n",
       "      <td>Black</td>\n",
       "      <td>170.0</td>\n",
       "      <td>DC Comics</td>\n",
       "      <td>-</td>\n",
       "      <td>good</td>\n",
       "      <td>57.0</td>\n",
       "    </tr>\n",
       "    <tr>\n",
       "      <td>Zoom</td>\n",
       "      <td>Male</td>\n",
       "      <td>red</td>\n",
       "      <td>-</td>\n",
       "      <td>Brown</td>\n",
       "      <td>185.0</td>\n",
       "      <td>DC Comics</td>\n",
       "      <td>-</td>\n",
       "      <td>bad</td>\n",
       "      <td>81.0</td>\n",
       "    </tr>\n",
       "  </tbody>\n",
       "</table>\n",
       "<p>734 rows × 9 columns</p>\n",
       "</div>"
      ],
      "text/plain": [
       "                 gender eye color               race        hair color  \\\n",
       "name                                                                     \n",
       "A-Bomb             Male    yellow              Human           No Hair   \n",
       "Abe Sapien         Male      blue      Icthyo Sapien           No Hair   \n",
       "Abin Sur           Male      blue            Ungaran           No Hair   \n",
       "Abomination        Male     green  Human / Radiation           No Hair   \n",
       "Abraxas            Male      blue      Cosmic Entity             Black   \n",
       "...                 ...       ...                ...               ...   \n",
       "Yellowjacket II  Female      blue              Human  Strawberry Blond   \n",
       "Ymir               Male     white        Frost Giant           No Hair   \n",
       "Yoda               Male     brown     Yoda's species             White   \n",
       "Zatanna          Female      blue              Human             Black   \n",
       "Zoom               Male       red                  -             Brown   \n",
       "\n",
       "                 height          publisher skin color alignment  weight  \n",
       "name                                                                     \n",
       "A-Bomb            203.0      Marvel Comics          -      good   441.0  \n",
       "Abe Sapien        191.0  Dark Horse Comics       blue      good    65.0  \n",
       "Abin Sur          185.0          DC Comics        red      good    90.0  \n",
       "Abomination       203.0      Marvel Comics          -       bad   441.0  \n",
       "Abraxas           183.0      Marvel Comics          -       bad    81.0  \n",
       "...                 ...                ...        ...       ...     ...  \n",
       "Yellowjacket II   165.0      Marvel Comics          -      good    52.0  \n",
       "Ymir              304.8      Marvel Comics      white      good    81.0  \n",
       "Yoda               66.0       George Lucas      green      good    17.0  \n",
       "Zatanna           170.0          DC Comics          -      good    57.0  \n",
       "Zoom              185.0          DC Comics          -       bad    81.0  \n",
       "\n",
       "[734 rows x 9 columns]"
      ]
     },
     "execution_count": 26,
     "metadata": {},
     "output_type": "execute_result"
    }
   ],
   "source": [
    "heroes_df.set_index('name')"
   ]
  },
  {
   "cell_type": "code",
   "execution_count": 27,
   "metadata": {},
   "outputs": [
    {
     "data": {
      "text/html": [
       "<div>\n",
       "<style scoped>\n",
       "    .dataframe tbody tr th:only-of-type {\n",
       "        vertical-align: middle;\n",
       "    }\n",
       "\n",
       "    .dataframe tbody tr th {\n",
       "        vertical-align: top;\n",
       "    }\n",
       "\n",
       "    .dataframe thead th {\n",
       "        text-align: right;\n",
       "    }\n",
       "</style>\n",
       "<table border=\"1\" class=\"dataframe\">\n",
       "  <thead>\n",
       "    <tr style=\"text-align: right;\">\n",
       "      <th></th>\n",
       "      <th>agility</th>\n",
       "      <th>accelerated healing</th>\n",
       "      <th>lantern power ring</th>\n",
       "      <th>dimensional awareness</th>\n",
       "      <th>cold resistance</th>\n",
       "      <th>durability</th>\n",
       "      <th>stealth</th>\n",
       "      <th>energy absorption</th>\n",
       "      <th>flight</th>\n",
       "      <th>danger sense</th>\n",
       "      <th>...</th>\n",
       "      <th>web creation</th>\n",
       "      <th>reality warping</th>\n",
       "      <th>odin force</th>\n",
       "      <th>symbiote costume</th>\n",
       "      <th>speed force</th>\n",
       "      <th>phoenix force</th>\n",
       "      <th>molecular dissipation</th>\n",
       "      <th>vision - cryo</th>\n",
       "      <th>omnipresent</th>\n",
       "      <th>omniscient</th>\n",
       "    </tr>\n",
       "    <tr>\n",
       "      <th>hero_names</th>\n",
       "      <th></th>\n",
       "      <th></th>\n",
       "      <th></th>\n",
       "      <th></th>\n",
       "      <th></th>\n",
       "      <th></th>\n",
       "      <th></th>\n",
       "      <th></th>\n",
       "      <th></th>\n",
       "      <th></th>\n",
       "      <th></th>\n",
       "      <th></th>\n",
       "      <th></th>\n",
       "      <th></th>\n",
       "      <th></th>\n",
       "      <th></th>\n",
       "      <th></th>\n",
       "      <th></th>\n",
       "      <th></th>\n",
       "      <th></th>\n",
       "      <th></th>\n",
       "    </tr>\n",
       "  </thead>\n",
       "  <tbody>\n",
       "    <tr>\n",
       "      <td>3-D Man</td>\n",
       "      <td>True</td>\n",
       "      <td>False</td>\n",
       "      <td>False</td>\n",
       "      <td>False</td>\n",
       "      <td>False</td>\n",
       "      <td>False</td>\n",
       "      <td>False</td>\n",
       "      <td>False</td>\n",
       "      <td>False</td>\n",
       "      <td>False</td>\n",
       "      <td>...</td>\n",
       "      <td>False</td>\n",
       "      <td>False</td>\n",
       "      <td>False</td>\n",
       "      <td>False</td>\n",
       "      <td>False</td>\n",
       "      <td>False</td>\n",
       "      <td>False</td>\n",
       "      <td>False</td>\n",
       "      <td>False</td>\n",
       "      <td>False</td>\n",
       "    </tr>\n",
       "    <tr>\n",
       "      <td>A-Bomb</td>\n",
       "      <td>False</td>\n",
       "      <td>True</td>\n",
       "      <td>False</td>\n",
       "      <td>False</td>\n",
       "      <td>False</td>\n",
       "      <td>True</td>\n",
       "      <td>False</td>\n",
       "      <td>False</td>\n",
       "      <td>False</td>\n",
       "      <td>False</td>\n",
       "      <td>...</td>\n",
       "      <td>False</td>\n",
       "      <td>False</td>\n",
       "      <td>False</td>\n",
       "      <td>False</td>\n",
       "      <td>False</td>\n",
       "      <td>False</td>\n",
       "      <td>False</td>\n",
       "      <td>False</td>\n",
       "      <td>False</td>\n",
       "      <td>False</td>\n",
       "    </tr>\n",
       "    <tr>\n",
       "      <td>Abe Sapien</td>\n",
       "      <td>True</td>\n",
       "      <td>True</td>\n",
       "      <td>False</td>\n",
       "      <td>False</td>\n",
       "      <td>True</td>\n",
       "      <td>True</td>\n",
       "      <td>False</td>\n",
       "      <td>False</td>\n",
       "      <td>False</td>\n",
       "      <td>False</td>\n",
       "      <td>...</td>\n",
       "      <td>False</td>\n",
       "      <td>False</td>\n",
       "      <td>False</td>\n",
       "      <td>False</td>\n",
       "      <td>False</td>\n",
       "      <td>False</td>\n",
       "      <td>False</td>\n",
       "      <td>False</td>\n",
       "      <td>False</td>\n",
       "      <td>False</td>\n",
       "    </tr>\n",
       "    <tr>\n",
       "      <td>Abin Sur</td>\n",
       "      <td>False</td>\n",
       "      <td>False</td>\n",
       "      <td>True</td>\n",
       "      <td>False</td>\n",
       "      <td>False</td>\n",
       "      <td>False</td>\n",
       "      <td>False</td>\n",
       "      <td>False</td>\n",
       "      <td>False</td>\n",
       "      <td>False</td>\n",
       "      <td>...</td>\n",
       "      <td>False</td>\n",
       "      <td>False</td>\n",
       "      <td>False</td>\n",
       "      <td>False</td>\n",
       "      <td>False</td>\n",
       "      <td>False</td>\n",
       "      <td>False</td>\n",
       "      <td>False</td>\n",
       "      <td>False</td>\n",
       "      <td>False</td>\n",
       "    </tr>\n",
       "    <tr>\n",
       "      <td>Abomination</td>\n",
       "      <td>False</td>\n",
       "      <td>True</td>\n",
       "      <td>False</td>\n",
       "      <td>False</td>\n",
       "      <td>False</td>\n",
       "      <td>False</td>\n",
       "      <td>False</td>\n",
       "      <td>False</td>\n",
       "      <td>False</td>\n",
       "      <td>False</td>\n",
       "      <td>...</td>\n",
       "      <td>False</td>\n",
       "      <td>False</td>\n",
       "      <td>False</td>\n",
       "      <td>False</td>\n",
       "      <td>False</td>\n",
       "      <td>False</td>\n",
       "      <td>False</td>\n",
       "      <td>False</td>\n",
       "      <td>False</td>\n",
       "      <td>False</td>\n",
       "    </tr>\n",
       "    <tr>\n",
       "      <td>...</td>\n",
       "      <td>...</td>\n",
       "      <td>...</td>\n",
       "      <td>...</td>\n",
       "      <td>...</td>\n",
       "      <td>...</td>\n",
       "      <td>...</td>\n",
       "      <td>...</td>\n",
       "      <td>...</td>\n",
       "      <td>...</td>\n",
       "      <td>...</td>\n",
       "      <td>...</td>\n",
       "      <td>...</td>\n",
       "      <td>...</td>\n",
       "      <td>...</td>\n",
       "      <td>...</td>\n",
       "      <td>...</td>\n",
       "      <td>...</td>\n",
       "      <td>...</td>\n",
       "      <td>...</td>\n",
       "      <td>...</td>\n",
       "      <td>...</td>\n",
       "    </tr>\n",
       "    <tr>\n",
       "      <td>Yellowjacket II</td>\n",
       "      <td>False</td>\n",
       "      <td>False</td>\n",
       "      <td>False</td>\n",
       "      <td>False</td>\n",
       "      <td>False</td>\n",
       "      <td>False</td>\n",
       "      <td>False</td>\n",
       "      <td>False</td>\n",
       "      <td>True</td>\n",
       "      <td>False</td>\n",
       "      <td>...</td>\n",
       "      <td>False</td>\n",
       "      <td>False</td>\n",
       "      <td>False</td>\n",
       "      <td>False</td>\n",
       "      <td>False</td>\n",
       "      <td>False</td>\n",
       "      <td>False</td>\n",
       "      <td>False</td>\n",
       "      <td>False</td>\n",
       "      <td>False</td>\n",
       "    </tr>\n",
       "    <tr>\n",
       "      <td>Ymir</td>\n",
       "      <td>False</td>\n",
       "      <td>False</td>\n",
       "      <td>False</td>\n",
       "      <td>False</td>\n",
       "      <td>True</td>\n",
       "      <td>True</td>\n",
       "      <td>False</td>\n",
       "      <td>False</td>\n",
       "      <td>False</td>\n",
       "      <td>False</td>\n",
       "      <td>...</td>\n",
       "      <td>False</td>\n",
       "      <td>False</td>\n",
       "      <td>False</td>\n",
       "      <td>False</td>\n",
       "      <td>False</td>\n",
       "      <td>False</td>\n",
       "      <td>False</td>\n",
       "      <td>False</td>\n",
       "      <td>False</td>\n",
       "      <td>False</td>\n",
       "    </tr>\n",
       "    <tr>\n",
       "      <td>Yoda</td>\n",
       "      <td>True</td>\n",
       "      <td>False</td>\n",
       "      <td>False</td>\n",
       "      <td>False</td>\n",
       "      <td>False</td>\n",
       "      <td>False</td>\n",
       "      <td>True</td>\n",
       "      <td>False</td>\n",
       "      <td>False</td>\n",
       "      <td>True</td>\n",
       "      <td>...</td>\n",
       "      <td>False</td>\n",
       "      <td>False</td>\n",
       "      <td>False</td>\n",
       "      <td>False</td>\n",
       "      <td>False</td>\n",
       "      <td>False</td>\n",
       "      <td>False</td>\n",
       "      <td>False</td>\n",
       "      <td>False</td>\n",
       "      <td>False</td>\n",
       "    </tr>\n",
       "    <tr>\n",
       "      <td>Zatanna</td>\n",
       "      <td>False</td>\n",
       "      <td>False</td>\n",
       "      <td>False</td>\n",
       "      <td>False</td>\n",
       "      <td>False</td>\n",
       "      <td>False</td>\n",
       "      <td>False</td>\n",
       "      <td>False</td>\n",
       "      <td>False</td>\n",
       "      <td>False</td>\n",
       "      <td>...</td>\n",
       "      <td>False</td>\n",
       "      <td>False</td>\n",
       "      <td>False</td>\n",
       "      <td>False</td>\n",
       "      <td>False</td>\n",
       "      <td>False</td>\n",
       "      <td>False</td>\n",
       "      <td>False</td>\n",
       "      <td>False</td>\n",
       "      <td>False</td>\n",
       "    </tr>\n",
       "    <tr>\n",
       "      <td>Zoom</td>\n",
       "      <td>False</td>\n",
       "      <td>False</td>\n",
       "      <td>False</td>\n",
       "      <td>False</td>\n",
       "      <td>False</td>\n",
       "      <td>False</td>\n",
       "      <td>False</td>\n",
       "      <td>False</td>\n",
       "      <td>False</td>\n",
       "      <td>False</td>\n",
       "      <td>...</td>\n",
       "      <td>False</td>\n",
       "      <td>False</td>\n",
       "      <td>False</td>\n",
       "      <td>False</td>\n",
       "      <td>False</td>\n",
       "      <td>False</td>\n",
       "      <td>False</td>\n",
       "      <td>False</td>\n",
       "      <td>False</td>\n",
       "      <td>False</td>\n",
       "    </tr>\n",
       "  </tbody>\n",
       "</table>\n",
       "<p>667 rows × 167 columns</p>\n",
       "</div>"
      ],
      "text/plain": [
       "                 agility  accelerated healing  lantern power ring  \\\n",
       "hero_names                                                          \n",
       "3-D Man             True                False               False   \n",
       "A-Bomb             False                 True               False   \n",
       "Abe Sapien          True                 True               False   \n",
       "Abin Sur           False                False                True   \n",
       "Abomination        False                 True               False   \n",
       "...                  ...                  ...                 ...   \n",
       "Yellowjacket II    False                False               False   \n",
       "Ymir               False                False               False   \n",
       "Yoda                True                False               False   \n",
       "Zatanna            False                False               False   \n",
       "Zoom               False                False               False   \n",
       "\n",
       "                 dimensional awareness  cold resistance  durability  stealth  \\\n",
       "hero_names                                                                     \n",
       "3-D Man                          False            False       False    False   \n",
       "A-Bomb                           False            False        True    False   \n",
       "Abe Sapien                       False             True        True    False   \n",
       "Abin Sur                         False            False       False    False   \n",
       "Abomination                      False            False       False    False   \n",
       "...                                ...              ...         ...      ...   \n",
       "Yellowjacket II                  False            False       False    False   \n",
       "Ymir                             False             True        True    False   \n",
       "Yoda                             False            False       False     True   \n",
       "Zatanna                          False            False       False    False   \n",
       "Zoom                             False            False       False    False   \n",
       "\n",
       "                 energy absorption  flight  danger sense  ...  web creation  \\\n",
       "hero_names                                                ...                 \n",
       "3-D Man                      False   False         False  ...         False   \n",
       "A-Bomb                       False   False         False  ...         False   \n",
       "Abe Sapien                   False   False         False  ...         False   \n",
       "Abin Sur                     False   False         False  ...         False   \n",
       "Abomination                  False   False         False  ...         False   \n",
       "...                            ...     ...           ...  ...           ...   \n",
       "Yellowjacket II              False    True         False  ...         False   \n",
       "Ymir                         False   False         False  ...         False   \n",
       "Yoda                         False   False          True  ...         False   \n",
       "Zatanna                      False   False         False  ...         False   \n",
       "Zoom                         False   False         False  ...         False   \n",
       "\n",
       "                 reality warping  odin force  symbiote costume  speed force  \\\n",
       "hero_names                                                                    \n",
       "3-D Man                    False       False             False        False   \n",
       "A-Bomb                     False       False             False        False   \n",
       "Abe Sapien                 False       False             False        False   \n",
       "Abin Sur                   False       False             False        False   \n",
       "Abomination                False       False             False        False   \n",
       "...                          ...         ...               ...          ...   \n",
       "Yellowjacket II            False       False             False        False   \n",
       "Ymir                       False       False             False        False   \n",
       "Yoda                       False       False             False        False   \n",
       "Zatanna                    False       False             False        False   \n",
       "Zoom                       False       False             False        False   \n",
       "\n",
       "                 phoenix force  molecular dissipation  vision - cryo  \\\n",
       "hero_names                                                             \n",
       "3-D Man                  False                  False          False   \n",
       "A-Bomb                   False                  False          False   \n",
       "Abe Sapien               False                  False          False   \n",
       "Abin Sur                 False                  False          False   \n",
       "Abomination              False                  False          False   \n",
       "...                        ...                    ...            ...   \n",
       "Yellowjacket II          False                  False          False   \n",
       "Ymir                     False                  False          False   \n",
       "Yoda                     False                  False          False   \n",
       "Zatanna                  False                  False          False   \n",
       "Zoom                     False                  False          False   \n",
       "\n",
       "                 omnipresent  omniscient  \n",
       "hero_names                                \n",
       "3-D Man                False       False  \n",
       "A-Bomb                 False       False  \n",
       "Abe Sapien             False       False  \n",
       "Abin Sur               False       False  \n",
       "Abomination            False       False  \n",
       "...                      ...         ...  \n",
       "Yellowjacket II        False       False  \n",
       "Ymir                   False       False  \n",
       "Yoda                   False       False  \n",
       "Zatanna                False       False  \n",
       "Zoom                   False       False  \n",
       "\n",
       "[667 rows x 167 columns]"
      ]
     },
     "execution_count": 27,
     "metadata": {},
     "output_type": "execute_result"
    }
   ],
   "source": [
    "powers_df.set_index('hero_names')"
   ]
  },
  {
   "cell_type": "code",
   "execution_count": 28,
   "metadata": {},
   "outputs": [],
   "source": [
    "heroes_dedup = heroes_df.drop_duplicates(subset='name')"
   ]
  },
  {
   "cell_type": "code",
   "execution_count": 29,
   "metadata": {},
   "outputs": [],
   "source": [
    "joined = heroes_dedup.join(powers_df, how='left')"
   ]
  },
  {
   "cell_type": "markdown",
   "metadata": {},
   "source": [
    "In the cell below, subset male and female heroes into different dataframes.  Create a scatterplot of the height and weight of each hero, with weight as the y-axis.  Plot both the male and female heroes subset into each dataframe, and make the color for each point in the scatterplot correspond to the gender of the superhero."
   ]
  },
  {
   "cell_type": "code",
   "execution_count": 30,
   "metadata": {},
   "outputs": [],
   "source": [
    "male_female_heroes = heroes_dedup.loc[(heroes_df.gender == 'Male') | (heroes_df.gender == 'Female')]"
   ]
  },
  {
   "cell_type": "code",
   "execution_count": 31,
   "metadata": {},
   "outputs": [
    {
     "data": {
      "image/png": "[encoded data removed]",
      "text/plain": [
       "<Figure size 432x288 with 1 Axes>"
      ]
     },
     "metadata": {
      "needs_background": "light"
     },
     "output_type": "display_data"
    }
   ],
   "source": [
    "g = sns.scatterplot(x='height', y='weight',\n",
    "              hue='gender',\n",
    "              data=male_female_heroes);"
   ]
  },
  {
   "cell_type": "markdown",
   "metadata": {},
   "source": [
    "## Some Initial Investigation\n",
    "\n",
    "Next, slice the DataFrame as needed and visualize the distribution of heights and weights by gender.  You should have 4 total plots.  \n",
    "\n",
    "In the cell below:\n",
    "\n",
    "* Slice the DataFrame into separate DataFrames by gender\n",
    "* Complete the `show_distplot()` function.  This helper function should take in a DataFrame, a string containing the gender we want to visualize, and the column name we want to visualize by gender. The function should display a distplot visualization from seaborn of the column/gender combination.  \n",
    "\n",
    "Hint: Don't forget to check the [seaborn documentation for distplot](https://seaborn.pydata.org/generated/seaborn.distplot.html) if you have questions about how to use it correctly! "
   ]
  },
  {
   "cell_type": "code",
   "execution_count": 32,
   "metadata": {},
   "outputs": [],
   "source": [
    "def show_distplot(dataframe, gender, column_name):\n",
    "    df = dataframe.loc[getattr(dataframe, 'gender') == gender]\n",
    "    sns.distplot(getattr(df, column_name))"
   ]
  },
  {
   "cell_type": "code",
   "execution_count": 33,
   "metadata": {},
   "outputs": [
    {
     "data": {
      "image/png": "[encoded data removed]",
      "text/plain": [
       "<Figure size 432x288 with 1 Axes>"
      ]
     },
     "metadata": {
      "needs_background": "light"
     },
     "output_type": "display_data"
    }
   ],
   "source": [
    "# Male Height\n",
    "show_distplot(heroes_df, 'Male', 'height')\n",
    "# sns.distplot(heroes_df.gender)"
   ]
  },
  {
   "cell_type": "code",
   "execution_count": 34,
   "metadata": {},
   "outputs": [
    {
     "data": {
      "image/png": "[encoded data removed]",
      "text/plain": [
       "<Figure size 432x288 with 1 Axes>"
      ]
     },
     "metadata": {
      "needs_background": "light"
     },
     "output_type": "display_data"
    }
   ],
   "source": [
    "# Male Weight\n",
    "show_distplot(heroes_df, 'Male', 'weight')"
   ]
  },
  {
   "cell_type": "code",
   "execution_count": 35,
   "metadata": {},
   "outputs": [
    {
     "data": {
      "image/png": "[encoded data removed]",
      "text/plain": [
       "<Figure size 432x288 with 1 Axes>"
      ]
     },
     "metadata": {
      "needs_background": "light"
     },
     "output_type": "display_data"
    }
   ],
   "source": [
    "# Female Height\n",
    "show_distplot(heroes_df, 'Female', 'height')"
   ]
  },
  {
   "cell_type": "code",
   "execution_count": 36,
   "metadata": {},
   "outputs": [
    {
     "data": {
      "image/png": "[encoded data removed]",
      "text/plain": [
       "<Figure size 432x288 with 1 Axes>"
      ]
     },
     "metadata": {
      "needs_background": "light"
     },
     "output_type": "display_data"
    }
   ],
   "source": [
    "# Female Weight\n",
    "show_distplot(heroes_df, 'Female', 'weight')"
   ]
  },
  {
   "cell_type": "markdown",
   "metadata": {},
   "source": [
    "Discuss your findings from the plots above, with respect to the distribution of height and weight by gender.  Your explanation should include a discussion of any relevant summary statistics, including mean, median, mode, and the overall shape of each distribution.  \n",
    "\n",
    "Write your answer below this line:\n",
    "____________________________________________________________________________________________________________________________\n",
    "\n"
   ]
  },
  {
   "cell_type": "markdown",
   "metadata": {},
   "source": [
    "### Sample Question: Most Common Powers\n",
    "\n",
    "The rest of this notebook will be left to you to investigate the dataset by formulating your own questions, and then seeking answers using pandas and numpy.  Every answer should include some sort of visualization, when appropriate. Before moving on to formulating your own questions, use the dataset to answer the following questions about superhero powers:\n",
    "\n",
    "* What are the 5 most common powers overall?\n",
    "* What are the 5 most common powers in the Marvel Universe?\n",
    "* What are the 5 most common powers in the DC Universe?"
   ]
  },
  {
   "cell_type": "code",
   "execution_count": 37,
   "metadata": {},
   "outputs": [
    {
     "data": {
      "text/plain": [
       "super strength    360\n",
       "stamina           289\n",
       "durability        257\n",
       "super speed       249\n",
       "agility           242\n",
       "dtype: int64"
      ]
     },
     "execution_count": 37,
     "metadata": {},
     "output_type": "execute_result"
    }
   ],
   "source": [
    "powers_df.applymap(lambda x: 1 if x is True else 0).agg('sum', axis=0).sort_values(ascending=False).head()"
   ]
  },
  {
   "cell_type": "code",
   "execution_count": 38,
   "metadata": {},
   "outputs": [
    {
     "name": "stdout",
     "output_type": "stream",
     "text": [
      "<class 'pandas.core.frame.DataFrame'>\n",
      "Int64Index: 715 entries, 0 to 733\n",
      "Data columns (total 178 columns):\n",
      "name                            object\n",
      "gender                          object\n",
      "eye color                       object\n",
      "race                            object\n",
      "hair color                      object\n",
      "height                          float64\n",
      "publisher                       object\n",
      "skin color                      object\n",
      "alignment                       object\n",
      "weight                          float64\n",
      "hero_names                      object\n",
      "agility                         object\n",
      "accelerated healing             object\n",
      "lantern power ring              object\n",
      "dimensional awareness           object\n",
      "cold resistance                 object\n",
      "durability                      object\n",
      "stealth                         object\n",
      "energy absorption               object\n",
      "flight                          object\n",
      "danger sense                    object\n",
      "underwater breathing            object\n",
      "marksmanship                    object\n",
      "weapons master                  object\n",
      "power augmentation              object\n",
      "animal attributes               object\n",
      "longevity                       object\n",
      "intelligence                    object\n",
      "super strength                  object\n",
      "cryokinesis                     object\n",
      "telepathy                       object\n",
      "energy armor                    object\n",
      "energy blasts                   object\n",
      "duplication                     object\n",
      "size changing                   object\n",
      "density control                 object\n",
      "stamina                         object\n",
      "astral travel                   object\n",
      "audio control                   object\n",
      "dexterity                       object\n",
      "omnitrix                        object\n",
      "super speed                     object\n",
      "possession                      object\n",
      "animal oriented powers          object\n",
      "weapon-based powers             object\n",
      "electrokinesis                  object\n",
      "darkforce manipulation          object\n",
      "death touch                     object\n",
      "teleportation                   object\n",
      "enhanced senses                 object\n",
      "telekinesis                     object\n",
      "energy beams                    object\n",
      "magic                           object\n",
      "hyperkinesis                    object\n",
      "jump                            object\n",
      "clairvoyance                    object\n",
      "dimensional travel              object\n",
      "power sense                     object\n",
      "shapeshifting                   object\n",
      "peak human condition            object\n",
      "immortality                     object\n",
      "camouflage                      object\n",
      "element control                 object\n",
      "phasing                         object\n",
      "astral projection               object\n",
      "electrical transport            object\n",
      "fire control                    object\n",
      "projection                      object\n",
      "summoning                       object\n",
      "enhanced memory                 object\n",
      "reflexes                        object\n",
      "invulnerability                 object\n",
      "energy constructs               object\n",
      "force fields                    object\n",
      "self-sustenance                 object\n",
      "anti-gravity                    object\n",
      "empathy                         object\n",
      "power nullifier                 object\n",
      "radiation control               object\n",
      "psionic powers                  object\n",
      "elasticity                      object\n",
      "substance secretion             object\n",
      "elemental transmogrification    object\n",
      "technopath/cyberpath            object\n",
      "photographic reflexes           object\n",
      "seismic power                   object\n",
      "animation                       object\n",
      "precognition                    object\n",
      "mind control                    object\n",
      "fire resistance                 object\n",
      "power absorption                object\n",
      "enhanced hearing                object\n",
      "nova force                      object\n",
      "insanity                        object\n",
      "hypnokinesis                    object\n",
      "animal control                  object\n",
      "natural armor                   object\n",
      "intangibility                   object\n",
      "enhanced sight                  object\n",
      "molecular manipulation          object\n",
      "heat generation                 object\n",
      "adaptation                      object\n",
      "gliding                         object\n",
      "power suit                      object\n",
      "mind blast                      object\n",
      "probability manipulation        object\n",
      "gravity control                 object\n",
      "regeneration                    object\n",
      "light control                   object\n",
      "echolocation                    object\n",
      "levitation                      object\n",
      "toxin and disease control       object\n",
      "banish                          object\n",
      "energy manipulation             object\n",
      "heat resistance                 object\n",
      "natural weapons                 object\n",
      "time travel                     object\n",
      "enhanced smell                  object\n",
      "illusions                       object\n",
      "thirstokinesis                  object\n",
      "hair manipulation               object\n",
      "illumination                    object\n",
      "omnipotent                      object\n",
      "cloaking                        object\n",
      "changing armor                  object\n",
      "power cosmic                    object\n",
      "biokinesis                      object\n",
      "water control                   object\n",
      "radiation immunity              object\n",
      "vision - telescopic             object\n",
      "toxin and disease resistance    object\n",
      "spatial awareness               object\n",
      "energy resistance               object\n",
      "telepathy resistance            object\n",
      "molecular combustion            object\n",
      "omnilingualism                  object\n",
      "portal creation                 object\n",
      "magnetism                       object\n",
      "mind control resistance         object\n",
      "plant control                   object\n",
      "sonar                           object\n",
      "sonic scream                    object\n",
      "time manipulation               object\n",
      "enhanced touch                  object\n",
      "magic resistance                object\n",
      "invisibility                    object\n",
      "sub-mariner                     object\n",
      "radiation absorption            object\n",
      "intuitive aptitude              object\n",
      "vision - microscopic            object\n",
      "melting                         object\n",
      "wind control                    object\n",
      "super breath                    object\n",
      "wallcrawling                    object\n",
      "vision - night                  object\n",
      "vision - infrared               object\n",
      "grim reaping                    object\n",
      "matter absorption               object\n",
      "the force                       object\n",
      "resurrection                    object\n",
      "terrakinesis                    object\n",
      "vision - heat                   object\n",
      "vitakinesis                     object\n",
      "radar sense                     object\n",
      "qwardian power ring             object\n",
      "weather control                 object\n",
      "vision - x-ray                  object\n",
      "vision - thermal                object\n",
      "web creation                    object\n",
      "reality warping                 object\n",
      "odin force                      object\n",
      "symbiote costume                object\n",
      "speed force                     object\n",
      "phoenix force                   object\n",
      "molecular dissipation           object\n",
      "vision - cryo                   object\n",
      "omnipresent                     object\n",
      "omniscient                      object\n",
      "dtypes: float64(2), object(176)\n",
      "memory usage: 1019.9+ KB\n"
     ]
    }
   ],
   "source": [
    "joined.info(verbose=True)"
   ]
  },
  {
   "cell_type": "code",
   "execution_count": 39,
   "metadata": {},
   "outputs": [
    {
     "data": {
      "text/plain": [
       "<matplotlib.axes._subplots.AxesSubplot at 0x7fb9aa8ff090>"
      ]
     },
     "execution_count": 39,
     "metadata": {},
     "output_type": "execute_result"
    },
    {
     "data": {
      "image/png": "[encoded data removed]",
      "text/plain": [
       "<Figure size 432x288 with 1 Axes>"
      ]
     },
     "metadata": {
      "needs_background": "light"
     },
     "output_type": "display_data"
    }
   ],
   "source": [
    "marvel_powers = joined.loc[joined.publisher == 'Marvel Comics']\n",
    "marvel_powers.applymap(lambda x: 1 if x is True else 0).agg('sum', axis=0).sort_values(ascending=False).head(5).plot(kind='bar')\n"
   ]
  },
  {
   "cell_type": "code",
   "execution_count": 40,
   "metadata": {},
   "outputs": [
    {
     "data": {
      "text/plain": [
       "array(['Marvel Comics', 'Dark Horse Comics', 'DC Comics', 'NBC - Heroes',\n",
       "       'Wildstorm', 'Image Comics', 62.0, 'Icon Comics', 'SyFy',\n",
       "       'Hanna-Barbera', 'George Lucas', 'Team Epic TV', 'South Park',\n",
       "       'HarperCollins', 'ABC Studios', 'Universal Studios', 'Star Trek',\n",
       "       'IDW Publishing', 'Shueisha', 'Sony Pictures', 'J. K. Rowling',\n",
       "       'Titan Books', 'Rebellion', 'Microsoft', 'J. R. R. Tolkien'],\n",
       "      dtype=object)"
      ]
     },
     "execution_count": 40,
     "metadata": {},
     "output_type": "execute_result"
    }
   ],
   "source": [
    "joined.publisher.unique()"
   ]
  },
  {
   "cell_type": "code",
   "execution_count": 41,
   "metadata": {},
   "outputs": [
    {
     "data": {
      "text/plain": [
       "<matplotlib.axes._subplots.AxesSubplot at 0x7fb9aaa13b90>"
      ]
     },
     "execution_count": 41,
     "metadata": {},
     "output_type": "execute_result"
    },
    {
     "data": {
      "image/png": "[encoded data removed]",
      "text/plain": [
       "<Figure size 432x288 with 1 Axes>"
      ]
     },
     "metadata": {
      "needs_background": "light"
     },
     "output_type": "display_data"
    }
   ],
   "source": [
    "dc_powers = joined.loc[joined.publisher == 'DC Comics']\n",
    "dc_powers.applymap(lambda x: 1 if x is True else 0).agg('sum', axis=0).sort_values(ascending=False).head().plot(kind='bar')"
   ]
  },
  {
   "cell_type": "markdown",
   "metadata": {},
   "source": [
    "Analyze the results you found above to answer the following question:\n",
    "\n",
    "How do the top 5 powers in the Marvel and DC universes compare?  Are they similar, or are there significant differences? How do they compare to the overall trends in the entire Superheroes dataset?\n",
    "\n",
    "Write your answer below this line:\n",
    "____________________________________________________________________________________________________________________________\n",
    "\n",
    "\n",
    "### Your Own Investigation\n",
    "\n",
    "For the remainder of this lab, you'll be focusing on coming up with and answering your own question, just like we did above.  Your question should not be overly simple, and should require both descriptive statistics and data visualization to answer.  In case you're unsure of what questions to ask, some sample questions have been provided below.\n",
    "\n",
    "Pick one of the following questions to investigate and answer, or come up with one of your own!\n",
    "\n",
    "* Which powers have the highest chance of co-occurring in a hero (e.g. super strength and flight), and does this differ by gender?\n",
    "* Is there a relationship between a hero's height and weight and their powerset?\n",
    "* What is the distribution of skin colors amongst alien heroes?\n",
    "\n",
    "Explain your question below this line:\n",
    "____________________________________________________________________________________________________________________________\n",
    "\n",
    "\n",
    "\n",
    "Some sample cells have been provided to give you room to work. If you need to create more cells, you can do this easily by:\n",
    "\n",
    "1. Highlighting a cell and then pressing `esc` to enter command mode.\n",
    "1. Pressing `b` to add a cell below the currently highlighted cell, or `a` to add one above it.  \n",
    "\n",
    "Be sure to include thoughtful, well-labeled visualizations to back up your analysis!"
   ]
  },
  {
   "cell_type": "markdown",
   "metadata": {},
   "source": [
    "Which powers have the highest chance of co-occurring in a hero (e.g. super strength and flight), \n",
    "and does this differ by gender?"
   ]
  },
  {
   "cell_type": "code",
   "execution_count": 42,
   "metadata": {},
   "outputs": [],
   "source": [
    "# create new column that is an array of all the powers that a particular superhero has\n",
    "joined['co_powers'] = joined.apply(lambda x: list(combinations(x.index[x == True].values, 2)), axis = 1)"
   ]
  },
  {
   "cell_type": "code",
   "execution_count": 50,
   "metadata": {},
   "outputs": [
    {
     "data": {
      "image/png": "[encoded data removed]",
      "text/plain": [
       "<Figure size 864x864 with 1 Axes>"
      ]
     },
     "metadata": {
      "needs_background": "light"
     },
     "output_type": "display_data"
    }
   ],
   "source": [
    "# Create counter to count frequency of each combination of powers\n",
    "c = Counter([f'{co_power_pair[0]}/{co_power_pair[1]}' for row in joined['co_powers'] for co_power_pair in row])\n",
    "\n",
    "# Return 20 most common co-power pairs and plot\n",
    "most_common = c.most_common(20)\n",
    "x = [x[0] for x in most_common]\n",
    "y = [x[1] for x in most_common]\n",
    "plt.figure(figsize=(12, 12))\n",
    "plt.xlabel('Frequencies')\n",
    "plt.ylabel('Co-power Pairs')\n",
    "plt.title('Top 20 Most Common Superpower Combinations')\n",
    "plt.barh(x, y);"
   ]
  },
  {
   "cell_type": "markdown",
   "metadata": {},
   "source": [
    "## Summary\n",
    "\n",
    "In this lab, we demonstrated our mastery of:\n",
    "* Using all of our Pandas knowledge to date to clean the dataset and deal with null values\n",
    "* Using Queries and aggregations to group the data into interesting subsets as needed\n",
    "* Using descriptive statistics and data visualization to find answers to questions we may have about the data"
   ]
  }
 ],
 "metadata": {
  "kernelspec": {
   "display_name": "Python 3",
   "language": "python",
   "name": "python3"
  },
  "language_info": {
   "codemirror_mode": {
    "name": "ipython",
    "version": 3
   },
   "file_extension": ".py",
   "mimetype": "text/x-python",
   "name": "python",
   "nbconvert_exporter": "python",
   "pygments_lexer": "ipython3",
   "version": "3.7.4"
  }
 },
 "nbformat": 4,
 "nbformat_minor": 2
}
