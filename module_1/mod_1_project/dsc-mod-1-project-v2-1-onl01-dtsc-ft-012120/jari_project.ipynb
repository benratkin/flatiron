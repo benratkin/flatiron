{
 "cells": [
  {
   "cell_type": "markdown",
   "metadata": {},
   "source": [
    "## Final Project Submission\n",
    "\n",
    "Please fill out:\n",
    "* Student name: \n",
    "* Student pace: self paced / part time / full time\n",
    "* Scheduled project review date/time: \n",
    "* Instructor name: \n",
    "* Blog post URL:\n"
   ]
  },
  {
   "cell_type": "markdown",
   "metadata": {},
   "source": [
    "# Importing necessary libraries"
   ]
  },
  {
   "cell_type": "code",
   "execution_count": 31,
   "metadata": {},
   "outputs": [],
   "source": [
    "import pandas as pd\n",
    "import os\n",
    "import sqlite3\n",
    "import matplotlib as plt\n",
    "import seaborn as sns\n",
    "%matplotlib inline\n"
   ]
  },
  {
   "cell_type": "markdown",
   "metadata": {},
   "source": [
    "# Checking that I am working in the correct directory "
   ]
  },
  {
   "cell_type": "code",
   "execution_count": 2,
   "metadata": {},
   "outputs": [
    {
     "data": {
      "text/plain": [
       "'/home/ben/flatiron/module_1/mod_1_project/dsc-mod-1-project-v2-1-onl01-dtsc-ft-012120'"
      ]
     },
     "execution_count": 2,
     "metadata": {},
     "output_type": "execute_result"
    }
   ],
   "source": [
    "pwd"
   ]
  },
  {
   "cell_type": "code",
   "execution_count": 3,
   "metadata": {},
   "outputs": [],
   "source": [
    "#df = pd.read_csv('zippedData/bom.movie_gross.csv.gz')"
   ]
  },
  {
   "cell_type": "code",
   "execution_count": 4,
   "metadata": {},
   "outputs": [],
   "source": [
    "#df.head()"
   ]
  },
  {
   "cell_type": "markdown",
   "metadata": {},
   "source": [
    "# Putting all the data sets together (Come up with something better)"
   ]
  },
  {
   "cell_type": "code",
   "execution_count": 5,
   "metadata": {},
   "outputs": [],
   "source": [
    "from glob import glob"
   ]
  },
  {
   "cell_type": "markdown",
   "metadata": {},
   "source": [
    "## Puts all data sets into a list (I believe)"
   ]
  },
  {
   "cell_type": "code",
   "execution_count": 6,
   "metadata": {},
   "outputs": [
    {
     "data": {
      "text/plain": [
       "['./zippedData/imdb.title.akas.csv.gz',\n",
       " './zippedData/imdb.title.principals.csv.gz',\n",
       " './zippedData/imdb.title.basics.csv.gz',\n",
       " './zippedData/tmdb.movies.csv.gz',\n",
       " './zippedData/imdb.title.crew.csv.gz',\n",
       " './zippedData/tn.movie_budgets.csv.gz',\n",
       " './zippedData/imdb.name.basics.csv.gz',\n",
       " './zippedData/bom.movie_gross.csv.gz',\n",
       " './zippedData/imdb.title.ratings.csv.gz']"
      ]
     },
     "execution_count": 6,
     "metadata": {},
     "output_type": "execute_result"
    }
   ],
   "source": [
    "csv_files = glob(\"./zippedData/*.csv.gz\")\n",
    "csv_files"
   ]
  },
  {
   "cell_type": "markdown",
   "metadata": {},
   "source": [
    "## Using a for loop to iterate through the list of data sets (better markdown here)"
   ]
  },
  {
   "cell_type": "code",
   "execution_count": 7,
   "metadata": {},
   "outputs": [],
   "source": [
    "d = {} #Why is d = to a dictionary but makes a list?\n",
    "for file in csv_files:\n",
    "    d[file] = pd.read_csv(file)"
   ]
  },
  {
   "cell_type": "markdown",
   "metadata": {},
   "source": [
    "## (Put something describing what is going on below)"
   ]
  },
  {
   "cell_type": "markdown",
   "metadata": {},
   "source": [
    "## Cleaning the data sets names to ger rid of the extra \".csv\" & \".\" before \"gz\""
   ]
  },
  {
   "cell_type": "code",
   "execution_count": 8,
   "metadata": {},
   "outputs": [],
   "source": [
    "csv_files_dict = {}\n",
    "for filename in csv_files:\n",
    "    filename_cleaned = os.path.basename(filename).replace(\".csv\", \"\").replace(\".\", \"_\") # cleaning the filenames\n",
    "    filename_df = pd.read_csv(filename, index_col=0)\n",
    "    csv_files_dict[filename_cleaned] = filename_df"
   ]
  },
  {
   "cell_type": "code",
   "execution_count": 9,
   "metadata": {},
   "outputs": [
    {
     "data": {
      "text/plain": [
       "dict_keys(['imdb_title_akas_gz', 'imdb_title_principals_gz', 'imdb_title_basics_gz', 'tmdb_movies_gz', 'imdb_title_crew_gz', 'tn_movie_budgets_gz', 'imdb_name_basics_gz', 'bom_movie_gross_gz', 'imdb_title_ratings_gz'])"
      ]
     },
     "execution_count": 9,
     "metadata": {},
     "output_type": "execute_result"
    }
   ],
   "source": [
    "csv_files_dict.keys()"
   ]
  },
  {
   "cell_type": "code",
   "execution_count": 10,
   "metadata": {},
   "outputs": [
    {
     "data": {
      "text/plain": [
       "dict_values([           ordering                                    title region language  \\\n",
       "title_id                                                                       \n",
       "tt0369610        10                            Джурасик свят     BG       bg   \n",
       "tt0369610        11                        Jurashikku warudo     JP      NaN   \n",
       "tt0369610        12  Jurassic World: O Mundo dos Dinossauros     BR      NaN   \n",
       "tt0369610        13                  O Mundo dos Dinossauros     BR      NaN   \n",
       "tt0369610        14                           Jurassic World     FR      NaN   \n",
       "...             ...                                      ...    ...      ...   \n",
       "tt9827784         2                       Sayonara kuchibiru    NaN      NaN   \n",
       "tt9827784         3                            Farewell Song    XWW       en   \n",
       "tt9880178         1                              La atención    NaN      NaN   \n",
       "tt9880178         2                              La atención     ES      NaN   \n",
       "tt9880178         3                            The Attention    XWW       en   \n",
       "\n",
       "                 types   attributes  is_original_title  \n",
       "title_id                                                \n",
       "tt0369610          NaN          NaN                0.0  \n",
       "tt0369610  imdbDisplay          NaN                0.0  \n",
       "tt0369610  imdbDisplay          NaN                0.0  \n",
       "tt0369610          NaN  short title                0.0  \n",
       "tt0369610  imdbDisplay          NaN                0.0  \n",
       "...                ...          ...                ...  \n",
       "tt9827784     original          NaN                1.0  \n",
       "tt9827784  imdbDisplay          NaN                0.0  \n",
       "tt9880178     original          NaN                1.0  \n",
       "tt9880178          NaN          NaN                0.0  \n",
       "tt9880178  imdbDisplay          NaN                0.0  \n",
       "\n",
       "[331703 rows x 7 columns],            ordering      nconst  category       job            characters\n",
       "tconst                                                                   \n",
       "tt0111414         1   nm0246005     actor       NaN           [\"The Man\"]\n",
       "tt0111414         2   nm0398271  director       NaN                   NaN\n",
       "tt0111414         3   nm3739909  producer  producer                   NaN\n",
       "tt0323808        10   nm0059247    editor       NaN                   NaN\n",
       "tt0323808         1   nm3579312   actress       NaN      [\"Beth Boothby\"]\n",
       "...             ...         ...       ...       ...                   ...\n",
       "tt9692684         1   nm0186469     actor       NaN  [\"Ebenezer Scrooge\"]\n",
       "tt9692684         2   nm4929530      self       NaN   [\"Herself\",\"Regan\"]\n",
       "tt9692684         3  nm10441594  director       NaN                   NaN\n",
       "tt9692684         4   nm6009913    writer    writer                   NaN\n",
       "tt9692684         5  nm10441595  producer  producer                   NaN\n",
       "\n",
       "[1028186 rows x 5 columns],                                          primary_title  \\\n",
       "tconst                                                   \n",
       "tt0063540                                    Sunghursh   \n",
       "tt0066787              One Day Before the Rainy Season   \n",
       "tt0069049                   The Other Side of the Wind   \n",
       "tt0069204                              Sabse Bada Sukh   \n",
       "tt0100275                     The Wandering Soap Opera   \n",
       "...                                                ...   \n",
       "tt9916538                          Kuambil Lagi Hatiku   \n",
       "tt9916622  Rodolpho Teóphilo - O Legado de um Pioneiro   \n",
       "tt9916706                              Dankyavar Danka   \n",
       "tt9916730                                       6 Gunn   \n",
       "tt9916754               Chico Albuquerque - Revelações   \n",
       "\n",
       "                                        original_title  start_year  \\\n",
       "tconst                                                               \n",
       "tt0063540                                    Sunghursh        2013   \n",
       "tt0066787                              Ashad Ka Ek Din        2019   \n",
       "tt0069049                   The Other Side of the Wind        2018   \n",
       "tt0069204                              Sabse Bada Sukh        2018   \n",
       "tt0100275                        La Telenovela Errante        2017   \n",
       "...                                                ...         ...   \n",
       "tt9916538                          Kuambil Lagi Hatiku        2019   \n",
       "tt9916622  Rodolpho Teóphilo - O Legado de um Pioneiro        2015   \n",
       "tt9916706                              Dankyavar Danka        2013   \n",
       "tt9916730                                       6 Gunn        2017   \n",
       "tt9916754               Chico Albuquerque - Revelações        2013   \n",
       "\n",
       "           runtime_minutes                genres  \n",
       "tconst                                            \n",
       "tt0063540            175.0    Action,Crime,Drama  \n",
       "tt0066787            114.0       Biography,Drama  \n",
       "tt0069049            122.0                 Drama  \n",
       "tt0069204              NaN          Comedy,Drama  \n",
       "tt0100275             80.0  Comedy,Drama,Fantasy  \n",
       "...                    ...                   ...  \n",
       "tt9916538            123.0                 Drama  \n",
       "tt9916622              NaN           Documentary  \n",
       "tt9916706              NaN                Comedy  \n",
       "tt9916730            116.0                   NaN  \n",
       "tt9916754              NaN           Documentary  \n",
       "\n",
       "[146144 rows x 5 columns],                  genre_ids      id original_language  \\\n",
       "0          [12, 14, 10751]   12444                en   \n",
       "1      [14, 12, 16, 10751]   10191                en   \n",
       "2            [12, 28, 878]   10138                en   \n",
       "3          [16, 35, 10751]     862                en   \n",
       "4            [28, 878, 12]   27205                en   \n",
       "...                    ...     ...               ...   \n",
       "26512             [27, 18]  488143                en   \n",
       "26513             [18, 53]  485975                en   \n",
       "26514         [14, 28, 12]  381231                en   \n",
       "26515      [10751, 12, 28]  366854                en   \n",
       "26516             [53, 27]  309885                en   \n",
       "\n",
       "                                     original_title  popularity release_date  \\\n",
       "0      Harry Potter and the Deathly Hallows: Part 1      33.533   2010-11-19   \n",
       "1                          How to Train Your Dragon      28.734   2010-03-26   \n",
       "2                                        Iron Man 2      28.515   2010-05-07   \n",
       "3                                         Toy Story      28.005   1995-11-22   \n",
       "4                                         Inception      27.920   2010-07-16   \n",
       "...                                             ...         ...          ...   \n",
       "26512                         Laboratory Conditions       0.600   2018-10-13   \n",
       "26513                               _EXHIBIT_84xxx_       0.600   2018-05-01   \n",
       "26514                                  The Last One       0.600   2018-10-01   \n",
       "26515                                  Trailer Made       0.600   2018-06-22   \n",
       "26516                                    The Church       0.600   2018-10-05   \n",
       "\n",
       "                                              title  vote_average  vote_count  \n",
       "0      Harry Potter and the Deathly Hallows: Part 1           7.7       10788  \n",
       "1                          How to Train Your Dragon           7.7        7610  \n",
       "2                                        Iron Man 2           6.8       12368  \n",
       "3                                         Toy Story           7.9       10174  \n",
       "4                                         Inception           8.3       22186  \n",
       "...                                             ...           ...         ...  \n",
       "26512                         Laboratory Conditions           0.0           1  \n",
       "26513                               _EXHIBIT_84xxx_           0.0           1  \n",
       "26514                                  The Last One           0.0           1  \n",
       "26515                                  Trailer Made           0.0           1  \n",
       "26516                                    The Church           0.0           1  \n",
       "\n",
       "[26517 rows x 9 columns],                                directors              writers\n",
       "tconst                                                       \n",
       "tt0285252                      nm0899854            nm0899854\n",
       "tt0438973                            NaN  nm0175726,nm1802864\n",
       "tt0462036                      nm1940585            nm1940585\n",
       "tt0835418                      nm0151540  nm0310087,nm0841532\n",
       "tt0878654  nm0089502,nm2291498,nm2292011            nm0284943\n",
       "...                                  ...                  ...\n",
       "tt8999974                     nm10122357           nm10122357\n",
       "tt9001390                      nm6711477            nm6711477\n",
       "tt9001494          nm10123242,nm10123248                  NaN\n",
       "tt9004986                      nm4993825            nm4993825\n",
       "tt9010172                            NaN            nm8352242\n",
       "\n",
       "[146144 rows x 2 columns],     release_date                                        movie  \\\n",
       "id                                                              \n",
       "1   Dec 18, 2009                                       Avatar   \n",
       "2   May 20, 2011  Pirates of the Caribbean: On Stranger Tides   \n",
       "3    Jun 7, 2019                                 Dark Phoenix   \n",
       "4    May 1, 2015                      Avengers: Age of Ultron   \n",
       "5   Dec 15, 2017            Star Wars Ep. VIII: The Last Jedi   \n",
       "..           ...                                          ...   \n",
       "78  Dec 31, 2018                                       Red 11   \n",
       "79   Apr 2, 1999                                    Following   \n",
       "80  Jul 13, 2005                Return to the Land of Wonders   \n",
       "81  Sep 29, 2015                         A Plague So Pleasant   \n",
       "82   Aug 5, 2005                            My Date With Drew   \n",
       "\n",
       "   production_budget domestic_gross worldwide_gross  \n",
       "id                                                   \n",
       "1       $425,000,000   $760,507,625  $2,776,345,279  \n",
       "2       $410,600,000   $241,063,875  $1,045,663,875  \n",
       "3       $350,000,000    $42,762,350    $149,762,350  \n",
       "4       $330,600,000   $459,005,868  $1,403,013,963  \n",
       "5       $317,000,000   $620,181,382  $1,316,721,747  \n",
       "..               ...            ...             ...  \n",
       "78            $7,000             $0              $0  \n",
       "79            $6,000        $48,482        $240,495  \n",
       "80            $5,000         $1,338          $1,338  \n",
       "81            $1,400             $0              $0  \n",
       "82            $1,100       $181,041        $181,041  \n",
       "\n",
       "[5782 rows x 5 columns],                   primary_name  birth_year  death_year  \\\n",
       "nconst                                                   \n",
       "nm0061671    Mary Ellen Bauder         NaN         NaN   \n",
       "nm0061865         Joseph Bauer         NaN         NaN   \n",
       "nm0062070           Bruce Baum         NaN         NaN   \n",
       "nm0062195         Axel Baumann         NaN         NaN   \n",
       "nm0062798          Pete Baxter         NaN         NaN   \n",
       "...                        ...         ...         ...   \n",
       "nm9990381         Susan Grobes         NaN         NaN   \n",
       "nm9990690          Joo Yeon So         NaN         NaN   \n",
       "nm9991320       Madeline Smith         NaN         NaN   \n",
       "nm9991786  Michelle Modigliani         NaN         NaN   \n",
       "nm9993380       Pegasus Envoyé         NaN         NaN   \n",
       "\n",
       "                                         primary_profession  \\\n",
       "nconst                                                        \n",
       "nm0061671         miscellaneous,production_manager,producer   \n",
       "nm0061865        composer,music_department,sound_department   \n",
       "nm0062070                        miscellaneous,actor,writer   \n",
       "nm0062195  camera_department,cinematographer,art_department   \n",
       "nm0062798  production_designer,art_department,set_decorator   \n",
       "...                                                     ...   \n",
       "nm9990381                                           actress   \n",
       "nm9990690                                           actress   \n",
       "nm9991320                                           actress   \n",
       "nm9991786                                          producer   \n",
       "nm9993380                             director,actor,writer   \n",
       "\n",
       "                                  known_for_titles  \n",
       "nconst                                              \n",
       "nm0061671  tt0837562,tt2398241,tt0844471,tt0118553  \n",
       "nm0061865  tt0896534,tt6791238,tt0287072,tt1682940  \n",
       "nm0062070  tt1470654,tt0363631,tt0104030,tt0102898  \n",
       "nm0062195  tt0114371,tt2004304,tt1618448,tt1224387  \n",
       "nm0062798  tt0452644,tt0452692,tt3458030,tt2178256  \n",
       "...                                            ...  \n",
       "nm9990381                                      NaN  \n",
       "nm9990690                      tt9090932,tt8737130  \n",
       "nm9991320                      tt8734436,tt9615610  \n",
       "nm9991786                                      NaN  \n",
       "nm9993380                                tt8743182  \n",
       "\n",
       "[606648 rows x 5 columns],                                                  studio  domestic_gross  \\\n",
       "title                                                                     \n",
       "Toy Story 3                                          BV     415000000.0   \n",
       "Alice in Wonderland (2010)                           BV     334200000.0   \n",
       "Harry Potter and the Deathly Hallows Part 1          WB     296000000.0   \n",
       "Inception                                            WB     292600000.0   \n",
       "Shrek Forever After                                P/DW     238700000.0   \n",
       "...                                                 ...             ...   \n",
       "The Quake                                         Magn.          6200.0   \n",
       "Edward II (2018 re-release)                          FM          4800.0   \n",
       "El Pacto                                           Sony          2500.0   \n",
       "The Swan                                     Synergetic          2400.0   \n",
       "An Actor Prepares                                 Grav.          1700.0   \n",
       "\n",
       "                                            foreign_gross  year  \n",
       "title                                                            \n",
       "Toy Story 3                                     652000000  2010  \n",
       "Alice in Wonderland (2010)                      691300000  2010  \n",
       "Harry Potter and the Deathly Hallows Part 1     664300000  2010  \n",
       "Inception                                       535700000  2010  \n",
       "Shrek Forever After                             513900000  2010  \n",
       "...                                                   ...   ...  \n",
       "The Quake                                             NaN  2018  \n",
       "Edward II (2018 re-release)                           NaN  2018  \n",
       "El Pacto                                              NaN  2018  \n",
       "The Swan                                              NaN  2018  \n",
       "An Actor Prepares                                     NaN  2018  \n",
       "\n",
       "[3387 rows x 4 columns],             averagerating  numvotes\n",
       "tconst                             \n",
       "tt10356526            8.3        31\n",
       "tt10384606            8.9       559\n",
       "tt1042974             6.4        20\n",
       "tt1043726             4.2     50352\n",
       "tt1060240             6.5        21\n",
       "...                   ...       ...\n",
       "tt9805820             8.1        25\n",
       "tt9844256             7.5        24\n",
       "tt9851050             4.7        14\n",
       "tt9886934             7.0         5\n",
       "tt9894098             6.3       128\n",
       "\n",
       "[73856 rows x 2 columns]])"
      ]
     },
     "execution_count": 10,
     "metadata": {},
     "output_type": "execute_result"
    }
   ],
   "source": [
    "csv_files_dict.values()"
   ]
  },
  {
   "cell_type": "code",
   "execution_count": 11,
   "metadata": {
    "scrolled": true
   },
   "outputs": [
    {
     "name": "stdout",
     "output_type": "stream",
     "text": [
      "<class 'pandas.core.frame.DataFrame'>\n",
      "Index: 3387 entries, Toy Story 3 to An Actor Prepares\n",
      "Data columns (total 4 columns):\n",
      "studio            3382 non-null object\n",
      "domestic_gross    3359 non-null float64\n",
      "foreign_gross     2037 non-null object\n",
      "year              3387 non-null int64\n",
      "dtypes: float64(1), int64(1), object(2)\n",
      "memory usage: 132.3+ KB\n"
     ]
    }
   ],
   "source": [
    "csv_files_dict['bom_movie_gross_gz'].info()"
   ]
  },
  {
   "cell_type": "markdown",
   "metadata": {},
   "source": [
    "# Making SQL tables from csv (review)"
   ]
  },
  {
   "cell_type": "markdown",
   "metadata": {},
   "source": [
    "## Making a new "
   ]
  },
  {
   "cell_type": "code",
   "execution_count": 12,
   "metadata": {},
   "outputs": [],
   "source": [
    "conn = sqlite3.connect(\"movies_db.sqlite\")"
   ]
  },
  {
   "cell_type": "markdown",
   "metadata": {},
   "source": [
    "## Making SQL tables from dataframes"
   ]
  },
  {
   "cell_type": "code",
   "execution_count": 13,
   "metadata": {},
   "outputs": [],
   "source": [
    "def create_sql_table_from_df(df, name, conn):\n",
    "    try:  #explain what this does\n",
    "        df.to_sql(name, conn)  #pandas function turning dataframes into sql tables\n",
    "        print(f\"Created table {name}\")\n",
    "    \n",
    "    except Exception as e:  #explain what this does\n",
    "        print(f\"could not make table {name}\")\n",
    "        print(e)"
   ]
  },
  {
   "cell_type": "code",
   "execution_count": 14,
   "metadata": {},
   "outputs": [
    {
     "name": "stdout",
     "output_type": "stream",
     "text": [
      "could not make table imdb_title_akas_gz\n",
      "Table 'imdb_title_akas_gz' already exists.\n",
      "could not make table imdb_title_principals_gz\n",
      "Table 'imdb_title_principals_gz' already exists.\n",
      "could not make table imdb_title_basics_gz\n",
      "Table 'imdb_title_basics_gz' already exists.\n",
      "could not make table tmdb_movies_gz\n",
      "Table 'tmdb_movies_gz' already exists.\n",
      "could not make table imdb_title_crew_gz\n",
      "Table 'imdb_title_crew_gz' already exists.\n",
      "could not make table tn_movie_budgets_gz\n",
      "Table 'tn_movie_budgets_gz' already exists.\n",
      "could not make table imdb_name_basics_gz\n",
      "Table 'imdb_name_basics_gz' already exists.\n",
      "could not make table bom_movie_gross_gz\n",
      "Table 'bom_movie_gross_gz' already exists.\n",
      "could not make table imdb_title_ratings_gz\n",
      "Table 'imdb_title_ratings_gz' already exists.\n"
     ]
    }
   ],
   "source": [
    "for name, table in csv_files_dict.items(): #Dont rerun do this\n",
    "    create_sql_table_from_df(table, name, conn)"
   ]
  },
  {
   "cell_type": "code",
   "execution_count": 15,
   "metadata": {
    "scrolled": true
   },
   "outputs": [
    {
     "data": {
      "text/plain": [
       "[('imdb_title_akas_gz',),\n",
       " ('imdb_title_principals_gz',),\n",
       " ('imdb_title_basics_gz',),\n",
       " ('tmdb_movies_gz',),\n",
       " ('imdb_title_crew_gz',),\n",
       " ('tn_movie_budgets_gz',),\n",
       " ('imdb_name_basics_gz',),\n",
       " ('bom_movie_gross_gz',),\n",
       " ('imdb_title_ratings_gz',)]"
      ]
     },
     "execution_count": 15,
     "metadata": {},
     "output_type": "execute_result"
    }
   ],
   "source": [
    "conn.execute(\"select name from sqlite_master where type='table';\").fetchall() #names of all of the tables"
   ]
  },
  {
   "cell_type": "markdown",
   "metadata": {},
   "source": [
    "## Explain"
   ]
  },
  {
   "cell_type": "code",
   "execution_count": 16,
   "metadata": {},
   "outputs": [
    {
     "name": "stdout",
     "output_type": "stream",
     "text": [
      "===============New DF===============\n",
      "imdb_title_akas_gz\n",
      "<class 'pandas.core.frame.DataFrame'>\n",
      "Index: 331703 entries, tt0369610 to tt9880178\n",
      "Data columns (total 7 columns):\n",
      "ordering             331703 non-null int64\n",
      "title                331703 non-null object\n",
      "region               278410 non-null object\n",
      "language             41715 non-null object\n",
      "types                168447 non-null object\n",
      "attributes           14925 non-null object\n",
      "is_original_title    331678 non-null float64\n",
      "dtypes: float64(1), int64(1), object(5)\n",
      "memory usage: 20.2+ MB\n",
      "None\n",
      "================End DF===============\n",
      "===============New DF===============\n",
      "imdb_title_principals_gz\n",
      "<class 'pandas.core.frame.DataFrame'>\n",
      "Index: 1028186 entries, tt0111414 to tt9692684\n",
      "Data columns (total 5 columns):\n",
      "ordering      1028186 non-null int64\n",
      "nconst        1028186 non-null object\n",
      "category      1028186 non-null object\n",
      "job           177684 non-null object\n",
      "characters    393360 non-null object\n",
      "dtypes: int64(1), object(4)\n",
      "memory usage: 47.1+ MB\n",
      "None\n",
      "================End DF===============\n",
      "===============New DF===============\n",
      "imdb_title_basics_gz\n",
      "<class 'pandas.core.frame.DataFrame'>\n",
      "Index: 146144 entries, tt0063540 to tt9916754\n",
      "Data columns (total 5 columns):\n",
      "primary_title      146144 non-null object\n",
      "original_title     146123 non-null object\n",
      "start_year         146144 non-null int64\n",
      "runtime_minutes    114405 non-null float64\n",
      "genres             140736 non-null object\n",
      "dtypes: float64(1), int64(1), object(3)\n",
      "memory usage: 6.7+ MB\n",
      "None\n",
      "================End DF===============\n",
      "===============New DF===============\n",
      "tmdb_movies_gz\n",
      "<class 'pandas.core.frame.DataFrame'>\n",
      "Int64Index: 26517 entries, 0 to 26516\n",
      "Data columns (total 9 columns):\n",
      "genre_ids            26517 non-null object\n",
      "id                   26517 non-null int64\n",
      "original_language    26517 non-null object\n",
      "original_title       26517 non-null object\n",
      "popularity           26517 non-null float64\n",
      "release_date         26517 non-null object\n",
      "title                26517 non-null object\n",
      "vote_average         26517 non-null float64\n",
      "vote_count           26517 non-null int64\n",
      "dtypes: float64(2), int64(2), object(5)\n",
      "memory usage: 2.0+ MB\n",
      "None\n",
      "================End DF===============\n",
      "===============New DF===============\n",
      "imdb_title_crew_gz\n",
      "<class 'pandas.core.frame.DataFrame'>\n",
      "Index: 146144 entries, tt0285252 to tt9010172\n",
      "Data columns (total 2 columns):\n",
      "directors    140417 non-null object\n",
      "writers      110261 non-null object\n",
      "dtypes: object(2)\n",
      "memory usage: 3.3+ MB\n",
      "None\n",
      "================End DF===============\n",
      "===============New DF===============\n",
      "tn_movie_budgets_gz\n",
      "<class 'pandas.core.frame.DataFrame'>\n",
      "Int64Index: 5782 entries, 1 to 82\n",
      "Data columns (total 5 columns):\n",
      "release_date         5782 non-null object\n",
      "movie                5782 non-null object\n",
      "production_budget    5782 non-null object\n",
      "domestic_gross       5782 non-null object\n",
      "worldwide_gross      5782 non-null object\n",
      "dtypes: object(5)\n",
      "memory usage: 271.0+ KB\n",
      "None\n",
      "================End DF===============\n",
      "===============New DF===============\n",
      "imdb_name_basics_gz\n",
      "<class 'pandas.core.frame.DataFrame'>\n",
      "Index: 606648 entries, nm0061671 to nm9993380\n",
      "Data columns (total 5 columns):\n",
      "primary_name          606648 non-null object\n",
      "birth_year            82736 non-null float64\n",
      "death_year            6783 non-null float64\n",
      "primary_profession    555308 non-null object\n",
      "known_for_titles      576444 non-null object\n",
      "dtypes: float64(2), object(3)\n",
      "memory usage: 27.8+ MB\n",
      "None\n",
      "================End DF===============\n",
      "===============New DF===============\n",
      "bom_movie_gross_gz\n",
      "<class 'pandas.core.frame.DataFrame'>\n",
      "Index: 3387 entries, Toy Story 3 to An Actor Prepares\n",
      "Data columns (total 4 columns):\n",
      "studio            3382 non-null object\n",
      "domestic_gross    3359 non-null float64\n",
      "foreign_gross     2037 non-null object\n",
      "year              3387 non-null int64\n",
      "dtypes: float64(1), int64(1), object(2)\n",
      "memory usage: 132.3+ KB\n",
      "None\n",
      "================End DF===============\n",
      "===============New DF===============\n",
      "imdb_title_ratings_gz\n",
      "<class 'pandas.core.frame.DataFrame'>\n",
      "Index: 73856 entries, tt10356526 to tt9894098\n",
      "Data columns (total 2 columns):\n",
      "averagerating    73856 non-null float64\n",
      "numvotes         73856 non-null int64\n",
      "dtypes: float64(1), int64(1)\n",
      "memory usage: 1.7+ MB\n",
      "None\n",
      "================End DF===============\n"
     ]
    }
   ],
   "source": [
    "for item in csv_files_dict.items():\n",
    "        print(\"===============New DF===============\")\n",
    "        print(item[0])\n",
    "        print(item[1].info())\n",
    "        print(\"================End DF===============\")"
   ]
  },
  {
   "cell_type": "code",
   "execution_count": 17,
   "metadata": {},
   "outputs": [],
   "source": [
    "cur = conn.cursor()"
   ]
  },
  {
   "cell_type": "markdown",
   "metadata": {},
   "source": [
    "## Question 1: Top 25 genres by greatest domestic gross."
   ]
  },
  {
   "cell_type": "code",
   "execution_count": 18,
   "metadata": {},
   "outputs": [
    {
     "data": {
      "text/html": [
       "<div>\n",
       "<style scoped>\n",
       "    .dataframe tbody tr th:only-of-type {\n",
       "        vertical-align: middle;\n",
       "    }\n",
       "\n",
       "    .dataframe tbody tr th {\n",
       "        vertical-align: top;\n",
       "    }\n",
       "\n",
       "    .dataframe thead th {\n",
       "        text-align: right;\n",
       "    }\n",
       "</style>\n",
       "<table border=\"1\" class=\"dataframe\">\n",
       "  <thead>\n",
       "    <tr style=\"text-align: right;\">\n",
       "      <th></th>\n",
       "      <th>title</th>\n",
       "      <th>studio</th>\n",
       "      <th>domestic_gross</th>\n",
       "      <th>foreign_gross</th>\n",
       "      <th>year</th>\n",
       "    </tr>\n",
       "  </thead>\n",
       "  <tbody>\n",
       "    <tr>\n",
       "      <th>0</th>\n",
       "      <td>Alice in Wonderland (2010)</td>\n",
       "      <td>BV</td>\n",
       "      <td>334200000.0</td>\n",
       "      <td>691300000</td>\n",
       "      <td>2010</td>\n",
       "    </tr>\n",
       "    <tr>\n",
       "      <th>1</th>\n",
       "      <td>Harry Potter and the Deathly Hallows Part 1</td>\n",
       "      <td>WB</td>\n",
       "      <td>296000000.0</td>\n",
       "      <td>664300000</td>\n",
       "      <td>2010</td>\n",
       "    </tr>\n",
       "    <tr>\n",
       "      <th>2</th>\n",
       "      <td>Inception</td>\n",
       "      <td>WB</td>\n",
       "      <td>292600000.0</td>\n",
       "      <td>535700000</td>\n",
       "      <td>2010</td>\n",
       "    </tr>\n",
       "    <tr>\n",
       "      <th>3</th>\n",
       "      <td>Shrek Forever After</td>\n",
       "      <td>P/DW</td>\n",
       "      <td>238700000.0</td>\n",
       "      <td>513900000</td>\n",
       "      <td>2010</td>\n",
       "    </tr>\n",
       "    <tr>\n",
       "      <th>4</th>\n",
       "      <td>The Twilight Saga: Eclipse</td>\n",
       "      <td>Sum.</td>\n",
       "      <td>300500000.0</td>\n",
       "      <td>398000000</td>\n",
       "      <td>2010</td>\n",
       "    </tr>\n",
       "  </tbody>\n",
       "</table>\n",
       "</div>"
      ],
      "text/plain": [
       "                                         title studio  domestic_gross  \\\n",
       "0                   Alice in Wonderland (2010)     BV     334200000.0   \n",
       "1  Harry Potter and the Deathly Hallows Part 1     WB     296000000.0   \n",
       "2                                    Inception     WB     292600000.0   \n",
       "3                          Shrek Forever After   P/DW     238700000.0   \n",
       "4                   The Twilight Saga: Eclipse   Sum.     300500000.0   \n",
       "\n",
       "  foreign_gross  year  \n",
       "0     691300000  2010  \n",
       "1     664300000  2010  \n",
       "2     535700000  2010  \n",
       "3     513900000  2010  \n",
       "4     398000000  2010  "
      ]
     },
     "execution_count": 18,
     "metadata": {},
     "output_type": "execute_result"
    }
   ],
   "source": [
    "# print([description[0] for description in cur.description])\n",
    "cur.execute(\"\"\"SELECT * FROM bom_movie_gross_gz;\"\"\").fetchone() #why do I get an error when I put fetchall()?\n",
    "gross_movie_df = pd.DataFrame(cur.fetchall())\n",
    "gross_movie_df.columns = [i[0] for i in cur.description]\n",
    "gross_movie_df.head()\n"
   ]
  },
  {
   "cell_type": "code",
   "execution_count": 19,
   "metadata": {},
   "outputs": [
    {
     "ename": "NameError",
     "evalue": "name 'genre_and_revenue_df' is not defined",
     "output_type": "error",
     "traceback": [
      "\u001b[0;31m----------------------------------------------------------------------\u001b[0m",
      "\u001b[0;31mNameError\u001b[0m                            Traceback (most recent call last)",
      "\u001b[0;32m<ipython-input-19-0d455b2f0ff9>\u001b[0m in \u001b[0;36m<module>\u001b[0;34m\u001b[0m\n\u001b[0;32m----> 1\u001b[0;31m \u001b[0mgenre_and_revenue_df\u001b[0m\u001b[0;34m.\u001b[0m\u001b[0mfillna\u001b[0m\u001b[0;34m(\u001b[0m\u001b[0;34m)\u001b[0m\u001b[0;34m\u001b[0m\u001b[0;34m\u001b[0m\u001b[0m\n\u001b[0m",
      "\u001b[0;31mNameError\u001b[0m: name 'genre_and_revenue_df' is not defined"
     ]
    }
   ],
   "source": [
    "genre_and_revenue_df.fillna()"
   ]
  },
  {
   "cell_type": "code",
   "execution_count": null,
   "metadata": {
    "scrolled": true
   },
   "outputs": [],
   "source": [
    "#all of the columns from the sql tables\n",
    "cur.execute(\"\"\"SELECT * FROM imdb_title_basics_gz \n",
    "                        JOIN tmdb_movies_gz \n",
    "                        USING(original_title) \n",
    "                        JOIN bom_movie_gross_gz \n",
    "                        USING(title);\"\"\")\n",
    "genre_and_revenue_df = pd.DataFrame(cur.fetchall())\n",
    "genre_and_revenue_df.columns = [i[0] for i in cur.description]\n",
    "genre_and_revenue_df.head()"
   ]
  },
  {
   "cell_type": "code",
   "execution_count": 21,
   "metadata": {
    "scrolled": true
   },
   "outputs": [
    {
     "data": {
      "text/html": [
       "<div>\n",
       "<style scoped>\n",
       "    .dataframe tbody tr th:only-of-type {\n",
       "        vertical-align: middle;\n",
       "    }\n",
       "\n",
       "    .dataframe tbody tr th {\n",
       "        vertical-align: top;\n",
       "    }\n",
       "\n",
       "    .dataframe thead th {\n",
       "        text-align: right;\n",
       "    }\n",
       "</style>\n",
       "<table border=\"1\" class=\"dataframe\">\n",
       "  <thead>\n",
       "    <tr style=\"text-align: right;\">\n",
       "      <th></th>\n",
       "      <th>primary_title</th>\n",
       "      <th>genres</th>\n",
       "      <th>domestic_gross</th>\n",
       "      <th>foreign_gross</th>\n",
       "    </tr>\n",
       "  </thead>\n",
       "  <tbody>\n",
       "    <tr>\n",
       "      <th>0</th>\n",
       "      <td>How to Train Your Dragon</td>\n",
       "      <td>Action,Adventure,Animation</td>\n",
       "      <td>217600000.0</td>\n",
       "      <td>277300000</td>\n",
       "    </tr>\n",
       "    <tr>\n",
       "      <th>1</th>\n",
       "      <td>Iron Man 2</td>\n",
       "      <td>Action,Adventure,Sci-Fi</td>\n",
       "      <td>312400000.0</td>\n",
       "      <td>311500000</td>\n",
       "    </tr>\n",
       "    <tr>\n",
       "      <th>2</th>\n",
       "      <td>Inception</td>\n",
       "      <td>Action,Adventure,Sci-Fi</td>\n",
       "      <td>292600000.0</td>\n",
       "      <td>535700000</td>\n",
       "    </tr>\n",
       "    <tr>\n",
       "      <th>3</th>\n",
       "      <td>Toy Story 3</td>\n",
       "      <td>Adventure,Animation,Comedy</td>\n",
       "      <td>415000000.0</td>\n",
       "      <td>652000000</td>\n",
       "    </tr>\n",
       "    <tr>\n",
       "      <th>4</th>\n",
       "      <td>Despicable Me</td>\n",
       "      <td>Animation,Comedy,Family</td>\n",
       "      <td>251500000.0</td>\n",
       "      <td>291600000</td>\n",
       "    </tr>\n",
       "  </tbody>\n",
       "</table>\n",
       "</div>"
      ],
      "text/plain": [
       "              primary_title                      genres  domestic_gross  \\\n",
       "0  How to Train Your Dragon  Action,Adventure,Animation     217600000.0   \n",
       "1                Iron Man 2     Action,Adventure,Sci-Fi     312400000.0   \n",
       "2                 Inception     Action,Adventure,Sci-Fi     292600000.0   \n",
       "3               Toy Story 3  Adventure,Animation,Comedy     415000000.0   \n",
       "4             Despicable Me     Animation,Comedy,Family     251500000.0   \n",
       "\n",
       "  foreign_gross  \n",
       "0     277300000  \n",
       "1     311500000  \n",
       "2     535700000  \n",
       "3     652000000  \n",
       "4     291600000  "
      ]
     },
     "execution_count": 21,
     "metadata": {},
     "output_type": "execute_result"
    }
   ],
   "source": [
    "#selecting columns needed out of sql tables and making them a pandas df\n",
    "cur.execute(\"\"\"SELECT primary_title, genres, domestic_gross, foreign_gross \n",
    "                        FROM imdb_title_basics_gz \n",
    "                        JOIN tmdb_movies_gz \n",
    "                        USING(original_title) \n",
    "                        JOIN bom_movie_gross_gz \n",
    "                        USING(title);\"\"\")\n",
    "genre_and_revenue_df = pd.DataFrame(cur.fetchall())\n",
    "genre_and_revenue_df.columns = [i[0] for i in cur.description]\n",
    "genre_and_revenue_df.head()"
   ]
  },
  {
   "cell_type": "code",
   "execution_count": 22,
   "metadata": {},
   "outputs": [
    {
     "data": {
      "text/plain": [
       "0"
      ]
     },
     "execution_count": 22,
     "metadata": {},
     "output_type": "execute_result"
    }
   ],
   "source": [
    "# Fill the nan values in domestic_gross with the median\n",
    "median_domestic = genre_and_revenue_df.domestic_gross.median()\n",
    "genre_and_revenue_df.domestic_gross.fillna(median_domestic, inplace=True)\n",
    "genre_and_revenue_df.domestic_gross.isna().sum()"
   ]
  },
  {
   "cell_type": "code",
   "execution_count": 23,
   "metadata": {},
   "outputs": [
    {
     "data": {
      "text/plain": [
       "primary_title        0\n",
       "genres              46\n",
       "domestic_gross       0\n",
       "foreign_gross     1133\n",
       "dtype: int64"
      ]
     },
     "execution_count": 23,
     "metadata": {},
     "output_type": "execute_result"
    }
   ],
   "source": [
    "genre_and_revenue_df.isna().sum()"
   ]
  },
  {
   "cell_type": "code",
   "execution_count": null,
   "metadata": {},
   "outputs": [],
   "source": [
    "# convert domestic_gross from float to int\n",
    "genre_and_revenue_df.domestic_gross.astype('int64')"
   ]
  },
  {
   "cell_type": "code",
   "execution_count": 34,
   "metadata": {},
   "outputs": [
    {
     "ename": "Exception",
     "evalue": "Data must be 1-dimensional",
     "output_type": "error",
     "traceback": [
      "\u001b[0;31m----------------------------------------------------------------------\u001b[0m",
      "\u001b[0;31mException\u001b[0m                            Traceback (most recent call last)",
      "\u001b[0;32m<ipython-input-34-345cd67d6d5c>\u001b[0m in \u001b[0;36m<module>\u001b[0;34m\u001b[0m\n\u001b[1;32m      1\u001b[0m \u001b[0mdata\u001b[0m \u001b[0;34m=\u001b[0m \u001b[0mgenre_and_revenue_df\u001b[0m\u001b[0;34m.\u001b[0m\u001b[0mgroupby\u001b[0m\u001b[0;34m(\u001b[0m\u001b[0;34m'genres'\u001b[0m\u001b[0;34m)\u001b[0m\u001b[0;34m.\u001b[0m\u001b[0mmean\u001b[0m\u001b[0;34m(\u001b[0m\u001b[0;34m)\u001b[0m\u001b[0;34m.\u001b[0m\u001b[0msort_values\u001b[0m\u001b[0;34m(\u001b[0m\u001b[0mby\u001b[0m\u001b[0;34m=\u001b[0m\u001b[0;34m'domestic_gross'\u001b[0m\u001b[0;34m,\u001b[0m \u001b[0mascending\u001b[0m\u001b[0;34m=\u001b[0m\u001b[0;32mFalse\u001b[0m\u001b[0;34m)\u001b[0m\u001b[0;34m\u001b[0m\u001b[0;34m\u001b[0m\u001b[0m\n\u001b[0;32m----> 2\u001b[0;31m \u001b[0msns\u001b[0m\u001b[0;34m.\u001b[0m\u001b[0mbarplot\u001b[0m\u001b[0;34m(\u001b[0m\u001b[0mdata\u001b[0m\u001b[0;34m.\u001b[0m\u001b[0mindex\u001b[0m\u001b[0;34m,\u001b[0m \u001b[0mdata\u001b[0m\u001b[0;34m.\u001b[0m\u001b[0mvalues\u001b[0m\u001b[0;34m)\u001b[0m\u001b[0;34m\u001b[0m\u001b[0;34m\u001b[0m\u001b[0m\n\u001b[0m",
      "\u001b[0;32m~/anaconda3/envs/learn-env/lib/python3.6/site-packages/seaborn/categorical.py\u001b[0m in \u001b[0;36mbarplot\u001b[0;34m(x, y, hue, data, order, hue_order, estimator, ci, n_boot, units, orient, color, palette, saturation, errcolor, errwidth, capsize, dodge, ax, **kwargs)\u001b[0m\n\u001b[1;32m   3147\u001b[0m                           \u001b[0mestimator\u001b[0m\u001b[0;34m,\u001b[0m \u001b[0mci\u001b[0m\u001b[0;34m,\u001b[0m \u001b[0mn_boot\u001b[0m\u001b[0;34m,\u001b[0m \u001b[0munits\u001b[0m\u001b[0;34m,\u001b[0m\u001b[0;34m\u001b[0m\u001b[0;34m\u001b[0m\u001b[0m\n\u001b[1;32m   3148\u001b[0m                           \u001b[0morient\u001b[0m\u001b[0;34m,\u001b[0m \u001b[0mcolor\u001b[0m\u001b[0;34m,\u001b[0m \u001b[0mpalette\u001b[0m\u001b[0;34m,\u001b[0m \u001b[0msaturation\u001b[0m\u001b[0;34m,\u001b[0m\u001b[0;34m\u001b[0m\u001b[0;34m\u001b[0m\u001b[0m\n\u001b[0;32m-> 3149\u001b[0;31m                           errcolor, errwidth, capsize, dodge)\n\u001b[0m\u001b[1;32m   3150\u001b[0m \u001b[0;34m\u001b[0m\u001b[0m\n\u001b[1;32m   3151\u001b[0m     \u001b[0;32mif\u001b[0m \u001b[0max\u001b[0m \u001b[0;32mis\u001b[0m \u001b[0;32mNone\u001b[0m\u001b[0;34m:\u001b[0m\u001b[0;34m\u001b[0m\u001b[0;34m\u001b[0m\u001b[0m\n",
      "\u001b[0;32m~/anaconda3/envs/learn-env/lib/python3.6/site-packages/seaborn/categorical.py\u001b[0m in \u001b[0;36m__init__\u001b[0;34m(self, x, y, hue, data, order, hue_order, estimator, ci, n_boot, units, orient, color, palette, saturation, errcolor, errwidth, capsize, dodge)\u001b[0m\n\u001b[1;32m   1605\u001b[0m         \u001b[0;34m\"\"\"Initialize the plotter.\"\"\"\u001b[0m\u001b[0;34m\u001b[0m\u001b[0;34m\u001b[0m\u001b[0m\n\u001b[1;32m   1606\u001b[0m         self.establish_variables(x, y, hue, data, orient,\n\u001b[0;32m-> 1607\u001b[0;31m                                  order, hue_order, units)\n\u001b[0m\u001b[1;32m   1608\u001b[0m         \u001b[0mself\u001b[0m\u001b[0;34m.\u001b[0m\u001b[0mestablish_colors\u001b[0m\u001b[0;34m(\u001b[0m\u001b[0mcolor\u001b[0m\u001b[0;34m,\u001b[0m \u001b[0mpalette\u001b[0m\u001b[0;34m,\u001b[0m \u001b[0msaturation\u001b[0m\u001b[0;34m)\u001b[0m\u001b[0;34m\u001b[0m\u001b[0;34m\u001b[0m\u001b[0m\n\u001b[1;32m   1609\u001b[0m         \u001b[0mself\u001b[0m\u001b[0;34m.\u001b[0m\u001b[0mestimate_statistic\u001b[0m\u001b[0;34m(\u001b[0m\u001b[0mestimator\u001b[0m\u001b[0;34m,\u001b[0m \u001b[0mci\u001b[0m\u001b[0;34m,\u001b[0m \u001b[0mn_boot\u001b[0m\u001b[0;34m)\u001b[0m\u001b[0;34m\u001b[0m\u001b[0;34m\u001b[0m\u001b[0m\n",
      "\u001b[0;32m~/anaconda3/envs/learn-env/lib/python3.6/site-packages/seaborn/categorical.py\u001b[0m in \u001b[0;36mestablish_variables\u001b[0;34m(self, x, y, hue, data, orient, order, hue_order, units)\u001b[0m\n\u001b[1;32m    205\u001b[0m                 \u001b[0;31m# Group the numeric data\u001b[0m\u001b[0;34m\u001b[0m\u001b[0;34m\u001b[0m\u001b[0;34m\u001b[0m\u001b[0m\n\u001b[1;32m    206\u001b[0m                 plot_data, value_label = self._group_longform(vals, groups,\n\u001b[0;32m--> 207\u001b[0;31m                                                               group_names)\n\u001b[0m\u001b[1;32m    208\u001b[0m \u001b[0;34m\u001b[0m\u001b[0m\n\u001b[1;32m    209\u001b[0m                 \u001b[0;31m# Now handle the hue levels for nested ordering\u001b[0m\u001b[0;34m\u001b[0m\u001b[0;34m\u001b[0m\u001b[0;34m\u001b[0m\u001b[0m\n",
      "\u001b[0;32m~/anaconda3/envs/learn-env/lib/python3.6/site-packages/seaborn/categorical.py\u001b[0m in \u001b[0;36m_group_longform\u001b[0;34m(self, vals, grouper, order)\u001b[0m\n\u001b[1;32m    244\u001b[0m         \u001b[0;31m# Ensure that the groupby will work\u001b[0m\u001b[0;34m\u001b[0m\u001b[0;34m\u001b[0m\u001b[0;34m\u001b[0m\u001b[0m\n\u001b[1;32m    245\u001b[0m         \u001b[0;32mif\u001b[0m \u001b[0;32mnot\u001b[0m \u001b[0misinstance\u001b[0m\u001b[0;34m(\u001b[0m\u001b[0mvals\u001b[0m\u001b[0;34m,\u001b[0m \u001b[0mpd\u001b[0m\u001b[0;34m.\u001b[0m\u001b[0mSeries\u001b[0m\u001b[0;34m)\u001b[0m\u001b[0;34m:\u001b[0m\u001b[0;34m\u001b[0m\u001b[0;34m\u001b[0m\u001b[0m\n\u001b[0;32m--> 246\u001b[0;31m             \u001b[0mvals\u001b[0m \u001b[0;34m=\u001b[0m \u001b[0mpd\u001b[0m\u001b[0;34m.\u001b[0m\u001b[0mSeries\u001b[0m\u001b[0;34m(\u001b[0m\u001b[0mvals\u001b[0m\u001b[0;34m)\u001b[0m\u001b[0;34m\u001b[0m\u001b[0;34m\u001b[0m\u001b[0m\n\u001b[0m\u001b[1;32m    247\u001b[0m \u001b[0;34m\u001b[0m\u001b[0m\n\u001b[1;32m    248\u001b[0m         \u001b[0;31m# Group the val data\u001b[0m\u001b[0;34m\u001b[0m\u001b[0;34m\u001b[0m\u001b[0;34m\u001b[0m\u001b[0m\n",
      "\u001b[0;32m~/.local/lib/python3.6/site-packages/pandas/core/series.py\u001b[0m in \u001b[0;36m__init__\u001b[0;34m(self, data, index, dtype, name, copy, fastpath)\u001b[0m\n\u001b[1;32m    309\u001b[0m                     \u001b[0mdata\u001b[0m \u001b[0;34m=\u001b[0m \u001b[0mdata\u001b[0m\u001b[0;34m.\u001b[0m\u001b[0mcopy\u001b[0m\u001b[0;34m(\u001b[0m\u001b[0;34m)\u001b[0m\u001b[0;34m\u001b[0m\u001b[0;34m\u001b[0m\u001b[0m\n\u001b[1;32m    310\u001b[0m             \u001b[0;32melse\u001b[0m\u001b[0;34m:\u001b[0m\u001b[0;34m\u001b[0m\u001b[0;34m\u001b[0m\u001b[0m\n\u001b[0;32m--> 311\u001b[0;31m                 \u001b[0mdata\u001b[0m \u001b[0;34m=\u001b[0m \u001b[0msanitize_array\u001b[0m\u001b[0;34m(\u001b[0m\u001b[0mdata\u001b[0m\u001b[0;34m,\u001b[0m \u001b[0mindex\u001b[0m\u001b[0;34m,\u001b[0m \u001b[0mdtype\u001b[0m\u001b[0;34m,\u001b[0m \u001b[0mcopy\u001b[0m\u001b[0;34m,\u001b[0m \u001b[0mraise_cast_failure\u001b[0m\u001b[0;34m=\u001b[0m\u001b[0;32mTrue\u001b[0m\u001b[0;34m)\u001b[0m\u001b[0;34m\u001b[0m\u001b[0;34m\u001b[0m\u001b[0m\n\u001b[0m\u001b[1;32m    312\u001b[0m \u001b[0;34m\u001b[0m\u001b[0m\n\u001b[1;32m    313\u001b[0m                 \u001b[0mdata\u001b[0m \u001b[0;34m=\u001b[0m \u001b[0mSingleBlockManager\u001b[0m\u001b[0;34m(\u001b[0m\u001b[0mdata\u001b[0m\u001b[0;34m,\u001b[0m \u001b[0mindex\u001b[0m\u001b[0;34m,\u001b[0m \u001b[0mfastpath\u001b[0m\u001b[0;34m=\u001b[0m\u001b[0;32mTrue\u001b[0m\u001b[0;34m)\u001b[0m\u001b[0;34m\u001b[0m\u001b[0;34m\u001b[0m\u001b[0m\n",
      "\u001b[0;32m~/.local/lib/python3.6/site-packages/pandas/core/internals/construction.py\u001b[0m in \u001b[0;36msanitize_array\u001b[0;34m(data, index, dtype, copy, raise_cast_failure)\u001b[0m\n\u001b[1;32m    727\u001b[0m     \u001b[0;32melif\u001b[0m \u001b[0msubarr\u001b[0m\u001b[0;34m.\u001b[0m\u001b[0mndim\u001b[0m \u001b[0;34m>\u001b[0m \u001b[0;36m1\u001b[0m\u001b[0;34m:\u001b[0m\u001b[0;34m\u001b[0m\u001b[0;34m\u001b[0m\u001b[0m\n\u001b[1;32m    728\u001b[0m         \u001b[0;32mif\u001b[0m \u001b[0misinstance\u001b[0m\u001b[0;34m(\u001b[0m\u001b[0mdata\u001b[0m\u001b[0;34m,\u001b[0m \u001b[0mnp\u001b[0m\u001b[0;34m.\u001b[0m\u001b[0mndarray\u001b[0m\u001b[0;34m)\u001b[0m\u001b[0;34m:\u001b[0m\u001b[0;34m\u001b[0m\u001b[0;34m\u001b[0m\u001b[0m\n\u001b[0;32m--> 729\u001b[0;31m             \u001b[0;32mraise\u001b[0m \u001b[0mException\u001b[0m\u001b[0;34m(\u001b[0m\u001b[0;34m\"Data must be 1-dimensional\"\u001b[0m\u001b[0;34m)\u001b[0m\u001b[0;34m\u001b[0m\u001b[0;34m\u001b[0m\u001b[0m\n\u001b[0m\u001b[1;32m    730\u001b[0m         \u001b[0;32melse\u001b[0m\u001b[0;34m:\u001b[0m\u001b[0;34m\u001b[0m\u001b[0;34m\u001b[0m\u001b[0m\n\u001b[1;32m    731\u001b[0m             \u001b[0msubarr\u001b[0m \u001b[0;34m=\u001b[0m \u001b[0mcom\u001b[0m\u001b[0;34m.\u001b[0m\u001b[0masarray_tuplesafe\u001b[0m\u001b[0;34m(\u001b[0m\u001b[0mdata\u001b[0m\u001b[0;34m,\u001b[0m \u001b[0mdtype\u001b[0m\u001b[0;34m=\u001b[0m\u001b[0mdtype\u001b[0m\u001b[0;34m)\u001b[0m\u001b[0;34m\u001b[0m\u001b[0;34m\u001b[0m\u001b[0m\n",
      "\u001b[0;31mException\u001b[0m: Data must be 1-dimensional"
     ]
    }
   ],
   "source": [
    "data = genre_and_revenue_df.groupby('genres').mean().sort_values(by='domestic_gross', ascending=False)\n",
    "sns.barplot(data.index, data.values)"
   ]
  },
  {
   "cell_type": "code",
   "execution_count": null,
   "metadata": {},
   "outputs": [],
   "source": [
    "cur.execute(\"\"\"SELECT genres, domestic_gross, worldwide_gross\n",
    "                    FROM imdb_name_basics_gz\n",
    "                    JOIN imdb_title_basics_gz \n",
    "                         ON primary_name = title\n",
    "                    JOIN tn_movie_budgets_gz\n",
    "                        ON movie = title;\"\"\").fetchall()"
   ]
  },
  {
   "cell_type": "code",
   "execution_count": null,
   "metadata": {},
   "outputs": [],
   "source": [
    "conn.execute(\"select name from sqlite_master where type='table';\").fetchall() "
   ]
  },
  {
   "cell_type": "code",
   "execution_count": null,
   "metadata": {},
   "outputs": [],
   "source": [
    "for item in csv_files_dict.items():\n",
    "        print(\"===============New DF===============\")\n",
    "        print(item[0])\n",
    "        print(item[1].info())\n",
    "        print(\"================End DF===============\")"
   ]
  },
  {
   "cell_type": "code",
   "execution_count": null,
   "metadata": {},
   "outputs": [],
   "source": []
  }
 ],
 "metadata": {
  "kernelspec": {
   "display_name": "Python 3",
   "language": "python",
   "name": "python3"
  },
  "language_info": {
   "codemirror_mode": {
    "name": "ipython",
    "version": 3
   },
   "file_extension": ".py",
   "mimetype": "text/x-python",
   "name": "python",
   "nbconvert_exporter": "python",
   "pygments_lexer": "ipython3",
   "version": "3.6.9"
  },
  "toc": {
   "base_numbering": 1,
   "nav_menu": {},
   "number_sections": true,
   "sideBar": true,
   "skip_h1_title": false,
   "title_cell": "Table of Contents",
   "title_sidebar": "Contents",
   "toc_cell": false,
   "toc_position": {
    "height": "calc(100% - 180px)",
    "left": "10px",
    "top": "150px",
    "width": "288px"
   },
   "toc_section_display": true,
   "toc_window_display": false
  },
  "varInspector": {
   "cols": {
    "lenName": 16,
    "lenType": 16,
    "lenVar": 40
   },
   "kernels_config": {
    "python": {
     "delete_cmd_postfix": "",
     "delete_cmd_prefix": "del ",
     "library": "var_list.py",
     "varRefreshCmd": "print(var_dic_list())"
    },
    "r": {
     "delete_cmd_postfix": ") ",
     "delete_cmd_prefix": "rm(",
     "library": "var_list.r",
     "varRefreshCmd": "cat(var_dic_list()) "
    }
   },
   "position": {
    "height": "340px",
    "left": "1073px",
    "right": "20px",
    "top": "107px",
    "width": "350px"
   },
   "types_to_exclude": [
    "module",
    "function",
    "builtin_function_or_method",
    "instance",
    "_Feature"
   ],
   "window_display": false
  }
 },
 "nbformat": 4,
 "nbformat_minor": 2
}
