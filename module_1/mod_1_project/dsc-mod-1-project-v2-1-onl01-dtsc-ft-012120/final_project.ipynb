{
 "cells": [
  {
   "cell_type": "markdown",
   "metadata": {},
   "source": [
    "Student name: Ben Atkin\n",
    "\n",
    "Student pace: Full time\n",
    "\n",
    "Scheduled project review date/time: --\n",
    "\n",
    "Instructor name: Abhineet Kulkarni\n",
    "\n",
    "Blog post URL: None"
   ]
  },
  {
   "cell_type": "markdown",
   "metadata": {},
   "source": [
    "# What type of films are currently doing the best at the box office?"
   ]
  },
  {
   "cell_type": "markdown",
   "metadata": {},
   "source": [
    "My employer sees all the big companies creating original video content, and they want to get in on the fun. They have decided to create a new movie studio, but the problem is they don’t know anything about creating movies. They have hired me to help them better understand the movie industry. My team is charged with doing data analysis and creating a presentation that explores what type of films are currently doing the best at the box office. I must then translate those findings into actionable insights that the CEO can use when deciding what type of films they should be creating."
   ]
  },
  {
   "cell_type": "markdown",
   "metadata": {},
   "source": [
    "# Notebook setup:"
   ]
  },
  {
   "cell_type": "code",
   "execution_count": 1,
   "metadata": {},
   "outputs": [],
   "source": [
    "import matplotlib.pyplot as plt\n",
    "import numpy as np\n",
    "from pandasql import sqldf\n",
    "import pandas as pd\n",
    "import re\n",
    "import seaborn as sns"
   ]
  },
  {
   "cell_type": "code",
   "execution_count": 2,
   "metadata": {},
   "outputs": [],
   "source": [
    "# Define some helpful functions\n",
    "\n",
    "def get_dataframes(regex='.*'):\n",
    "    \"\"\"Find all dataframes in global namespace\n",
    "    \n",
    "    Excludes stored Jupyter output\n",
    "    Returns dict with df_name: df\n",
    "    \"\"\"\n",
    "    dataframe_dict = {}\n",
    "    for k in globals().keys():\n",
    "        if (isinstance(eval(k), pd.core.frame.DataFrame) \n",
    "            and not k.startswith('_') \n",
    "            and re.search(regex, k)):\n",
    "            dataframe_dict[k] = eval(k)\n",
    "    return dataframe_dict\n",
    "\n",
    "def print_df_stats(df_dict):\n",
    "    \"\"\"Print .info(), .head(), .describe() for dataframes\n",
    "\n",
    "    use get_dataframes() to get df_dict\n",
    "    \"\"\"\n",
    "    for name, df in df_dict.items():\n",
    "        print('=' * 100)\n",
    "        print(name)\n",
    "        print(df.info(), '\\n')\n",
    "        print(df.head(), '\\n')\n",
    "        print(df.describe(include='all'), '\\n\\n')\n",
    "        \n",
    "pysqldf = lambda x: sqldf(x, globals())"
   ]
  },
  {
   "cell_type": "code",
   "execution_count": 3,
   "metadata": {},
   "outputs": [],
   "source": [
    "# Read in only necessary csv files explicitly\n",
    "bom_movie_gross_df = pd.read_csv('./unzipped_data/bom.movie_gross.csv')\n",
    "imdb_name_basics_df = pd.read_csv('./unzipped_data/imdb.name.basics.csv')\n",
    "# imdb_title_akas_df = pd.read_csv('./unzipped_data/imdb.title.akas.csv')\n",
    "imdb_title_basics_df = pd.read_csv('./unzipped_data/imdb.title.basics.csv')\n",
    "# imdb_title_crew_df = pd.read_csv('./unzipped_data/imdb.title.crew.csv')\n",
    "imdb_title_principals_df = pd.read_csv('./unzipped_data/imdb.title.principals.csv')\n",
    "# imdb_title_ratings_df = pd.read_csv('./unzipped_data/imdb.title.ratings.csv')\n",
    "# tmdb_movies_df = pd.read_csv('./unzipped_data/tmdb.movies.csv')\n",
    "tn_movie_budgets_df = pd.read_csv('./unzipped_data/tn.movie_budgets.csv')"
   ]
  },
  {
   "cell_type": "markdown",
   "metadata": {},
   "source": [
    "# Initial exploration:"
   ]
  },
  {
   "cell_type": "code",
   "execution_count": 4,
   "metadata": {
    "scrolled": true
   },
   "outputs": [
    {
     "name": "stdout",
     "output_type": "stream",
     "text": [
      "====================================================================================================\n",
      "bom_movie_gross_df\n",
      "<class 'pandas.core.frame.DataFrame'>\n",
      "RangeIndex: 3387 entries, 0 to 3386\n",
      "Data columns (total 5 columns):\n",
      "title             3387 non-null object\n",
      "studio            3382 non-null object\n",
      "domestic_gross    3359 non-null float64\n",
      "foreign_gross     2037 non-null object\n",
      "year              3387 non-null int64\n",
      "dtypes: float64(1), int64(1), object(3)\n",
      "memory usage: 132.4+ KB\n",
      "None \n",
      "\n",
      "                                         title studio  domestic_gross  \\\n",
      "0                                  Toy Story 3     BV     415000000.0   \n",
      "1                   Alice in Wonderland (2010)     BV     334200000.0   \n",
      "2  Harry Potter and the Deathly Hallows Part 1     WB     296000000.0   \n",
      "3                                    Inception     WB     292600000.0   \n",
      "4                          Shrek Forever After   P/DW     238700000.0   \n",
      "\n",
      "  foreign_gross  year  \n",
      "0     652000000  2010  \n",
      "1     691300000  2010  \n",
      "2     664300000  2010  \n",
      "3     535700000  2010  \n",
      "4     513900000  2010   \n",
      "\n",
      "            title studio  domestic_gross foreign_gross         year\n",
      "count        3387   3382    3.359000e+03          2037  3387.000000\n",
      "unique       3386    257             NaN          1204          NaN\n",
      "top     Bluebeard    IFC             NaN       1200000          NaN\n",
      "freq            2    166             NaN            23          NaN\n",
      "mean          NaN    NaN    2.874585e+07           NaN  2013.958075\n",
      "std           NaN    NaN    6.698250e+07           NaN     2.478141\n",
      "min           NaN    NaN    1.000000e+02           NaN  2010.000000\n",
      "25%           NaN    NaN    1.200000e+05           NaN  2012.000000\n",
      "50%           NaN    NaN    1.400000e+06           NaN  2014.000000\n",
      "75%           NaN    NaN    2.790000e+07           NaN  2016.000000\n",
      "max           NaN    NaN    9.367000e+08           NaN  2018.000000 \n",
      "\n",
      "\n",
      "====================================================================================================\n",
      "imdb_name_basics_df\n",
      "<class 'pandas.core.frame.DataFrame'>\n",
      "RangeIndex: 606648 entries, 0 to 606647\n",
      "Data columns (total 6 columns):\n",
      "nconst                606648 non-null object\n",
      "primary_name          606648 non-null object\n",
      "birth_year            82736 non-null float64\n",
      "death_year            6783 non-null float64\n",
      "primary_profession    555308 non-null object\n",
      "known_for_titles      576444 non-null object\n",
      "dtypes: float64(2), object(4)\n",
      "memory usage: 27.8+ MB\n",
      "None \n",
      "\n",
      "      nconst       primary_name  birth_year  death_year  \\\n",
      "0  nm0061671  Mary Ellen Bauder         NaN         NaN   \n",
      "1  nm0061865       Joseph Bauer         NaN         NaN   \n",
      "2  nm0062070         Bruce Baum         NaN         NaN   \n",
      "3  nm0062195       Axel Baumann         NaN         NaN   \n",
      "4  nm0062798        Pete Baxter         NaN         NaN   \n",
      "\n",
      "                                 primary_profession  \\\n",
      "0         miscellaneous,production_manager,producer   \n",
      "1        composer,music_department,sound_department   \n",
      "2                        miscellaneous,actor,writer   \n",
      "3  camera_department,cinematographer,art_department   \n",
      "4  production_designer,art_department,set_decorator   \n",
      "\n",
      "                          known_for_titles  \n",
      "0  tt0837562,tt2398241,tt0844471,tt0118553  \n",
      "1  tt0896534,tt6791238,tt0287072,tt1682940  \n",
      "2  tt1470654,tt0363631,tt0104030,tt0102898  \n",
      "3  tt0114371,tt2004304,tt1618448,tt1224387  \n",
      "4  tt0452644,tt0452692,tt3458030,tt2178256   \n",
      "\n",
      "           nconst   primary_name    birth_year   death_year  \\\n",
      "count      606648         606648  82736.000000  6783.000000   \n",
      "unique     606648         577203           NaN          NaN   \n",
      "top     nm9284441  Michael Brown           NaN          NaN   \n",
      "freq            1             16           NaN          NaN   \n",
      "mean          NaN            NaN   1967.043826  2000.523367   \n",
      "std           NaN            NaN     22.122190    43.951530   \n",
      "min           NaN            NaN      1.000000    17.000000   \n",
      "25%           NaN            NaN   1957.000000  2001.000000   \n",
      "50%           NaN            NaN   1971.000000  2013.000000   \n",
      "75%           NaN            NaN   1981.000000  2016.000000   \n",
      "max           NaN            NaN   2014.000000  2019.000000   \n",
      "\n",
      "       primary_profession known_for_titles  \n",
      "count              555308           576444  \n",
      "unique               8647           482207  \n",
      "top                 actor        tt4773466  \n",
      "freq                88306               45  \n",
      "mean                  NaN              NaN  \n",
      "std                   NaN              NaN  \n",
      "min                   NaN              NaN  \n",
      "25%                   NaN              NaN  \n",
      "50%                   NaN              NaN  \n",
      "75%                   NaN              NaN  \n",
      "max                   NaN              NaN   \n",
      "\n",
      "\n",
      "====================================================================================================\n",
      "imdb_title_basics_df\n",
      "<class 'pandas.core.frame.DataFrame'>\n",
      "RangeIndex: 146144 entries, 0 to 146143\n",
      "Data columns (total 6 columns):\n",
      "tconst             146144 non-null object\n",
      "primary_title      146144 non-null object\n",
      "original_title     146123 non-null object\n",
      "start_year         146144 non-null int64\n",
      "runtime_minutes    114405 non-null float64\n",
      "genres             140736 non-null object\n",
      "dtypes: float64(1), int64(1), object(4)\n",
      "memory usage: 6.7+ MB\n",
      "None \n",
      "\n",
      "      tconst                    primary_title              original_title  \\\n",
      "0  tt0063540                        Sunghursh                   Sunghursh   \n",
      "1  tt0066787  One Day Before the Rainy Season             Ashad Ka Ek Din   \n",
      "2  tt0069049       The Other Side of the Wind  The Other Side of the Wind   \n",
      "3  tt0069204                  Sabse Bada Sukh             Sabse Bada Sukh   \n",
      "4  tt0100275         The Wandering Soap Opera       La Telenovela Errante   \n",
      "\n",
      "   start_year  runtime_minutes                genres  \n",
      "0        2013            175.0    Action,Crime,Drama  \n",
      "1        2019            114.0       Biography,Drama  \n",
      "2        2018            122.0                 Drama  \n",
      "3        2018              NaN          Comedy,Drama  \n",
      "4        2017             80.0  Comedy,Drama,Fantasy   \n",
      "\n",
      "           tconst primary_title original_title     start_year  \\\n",
      "count      146144        146144         146123  146144.000000   \n",
      "unique     146144        136071         137773            NaN   \n",
      "top     tt6631872          Home         Broken            NaN   \n",
      "freq            1            24             19            NaN   \n",
      "mean          NaN           NaN            NaN    2014.621798   \n",
      "std           NaN           NaN            NaN       2.733583   \n",
      "min           NaN           NaN            NaN    2010.000000   \n",
      "25%           NaN           NaN            NaN    2012.000000   \n",
      "50%           NaN           NaN            NaN    2015.000000   \n",
      "75%           NaN           NaN            NaN    2017.000000   \n",
      "max           NaN           NaN            NaN    2115.000000   \n",
      "\n",
      "        runtime_minutes       genres  \n",
      "count     114405.000000       140736  \n",
      "unique              NaN         1085  \n",
      "top                 NaN  Documentary  \n",
      "freq                NaN        32185  \n",
      "mean          86.187247          NaN  \n",
      "std          166.360590          NaN  \n",
      "min            1.000000          NaN  \n",
      "25%           70.000000          NaN  \n",
      "50%           87.000000          NaN  \n",
      "75%           99.000000          NaN  \n",
      "max        51420.000000          NaN   \n",
      "\n",
      "\n",
      "====================================================================================================\n",
      "imdb_title_principals_df\n",
      "<class 'pandas.core.frame.DataFrame'>\n",
      "RangeIndex: 1028186 entries, 0 to 1028185\n",
      "Data columns (total 6 columns):\n",
      "tconst        1028186 non-null object\n",
      "ordering      1028186 non-null int64\n",
      "nconst        1028186 non-null object\n",
      "category      1028186 non-null object\n",
      "job           177684 non-null object\n",
      "characters    393360 non-null object\n",
      "dtypes: int64(1), object(5)\n",
      "memory usage: 47.1+ MB\n",
      "None \n",
      "\n",
      "      tconst  ordering     nconst  category       job        characters\n",
      "0  tt0111414         1  nm0246005     actor       NaN       [\"The Man\"]\n",
      "1  tt0111414         2  nm0398271  director       NaN               NaN\n",
      "2  tt0111414         3  nm3739909  producer  producer               NaN\n",
      "3  tt0323808        10  nm0059247    editor       NaN               NaN\n",
      "4  tt0323808         1  nm3579312   actress       NaN  [\"Beth Boothby\"] \n",
      "\n"
     ]
    },
    {
     "name": "stdout",
     "output_type": "stream",
     "text": [
      "           tconst      ordering     nconst category       job   characters\n",
      "count     1028186  1.028186e+06    1028186  1028186    177684       393360\n",
      "unique     143454           NaN     604546       12      2965       174762\n",
      "top     tt2034742           NaN  nm1930572    actor  producer  [\"Himself\"]\n",
      "freq           10           NaN        378   256718    108168        43584\n",
      "mean          NaN  4.739847e+00        NaN      NaN       NaN          NaN\n",
      "std           NaN  2.747446e+00        NaN      NaN       NaN          NaN\n",
      "min           NaN  1.000000e+00        NaN      NaN       NaN          NaN\n",
      "25%           NaN  2.000000e+00        NaN      NaN       NaN          NaN\n",
      "50%           NaN  4.000000e+00        NaN      NaN       NaN          NaN\n",
      "75%           NaN  7.000000e+00        NaN      NaN       NaN          NaN\n",
      "max           NaN  1.000000e+01        NaN      NaN       NaN          NaN \n",
      "\n",
      "\n",
      "====================================================================================================\n",
      "tn_movie_budgets_df\n",
      "<class 'pandas.core.frame.DataFrame'>\n",
      "RangeIndex: 5782 entries, 0 to 5781\n",
      "Data columns (total 6 columns):\n",
      "id                   5782 non-null int64\n",
      "release_date         5782 non-null object\n",
      "movie                5782 non-null object\n",
      "production_budget    5782 non-null object\n",
      "domestic_gross       5782 non-null object\n",
      "worldwide_gross      5782 non-null object\n",
      "dtypes: int64(1), object(5)\n",
      "memory usage: 271.2+ KB\n",
      "None \n",
      "\n",
      "   id  release_date                                        movie  \\\n",
      "0   1  Dec 18, 2009                                       Avatar   \n",
      "1   2  May 20, 2011  Pirates of the Caribbean: On Stranger Tides   \n",
      "2   3   Jun 7, 2019                                 Dark Phoenix   \n",
      "3   4   May 1, 2015                      Avengers: Age of Ultron   \n",
      "4   5  Dec 15, 2017            Star Wars Ep. VIII: The Last Jedi   \n",
      "\n",
      "  production_budget domestic_gross worldwide_gross  \n",
      "0      $425,000,000   $760,507,625  $2,776,345,279  \n",
      "1      $410,600,000   $241,063,875  $1,045,663,875  \n",
      "2      $350,000,000    $42,762,350    $149,762,350  \n",
      "3      $330,600,000   $459,005,868  $1,403,013,963  \n",
      "4      $317,000,000   $620,181,382  $1,316,721,747   \n",
      "\n",
      "                 id  release_date movie production_budget domestic_gross  \\\n",
      "count   5782.000000          5782  5782              5782           5782   \n",
      "unique          NaN          2418  5698               509           5164   \n",
      "top             NaN  Dec 31, 2014  Home       $20,000,000             $0   \n",
      "freq            NaN            24     3               231            548   \n",
      "mean      50.372363           NaN   NaN               NaN            NaN   \n",
      "std       28.821076           NaN   NaN               NaN            NaN   \n",
      "min        1.000000           NaN   NaN               NaN            NaN   \n",
      "25%       25.000000           NaN   NaN               NaN            NaN   \n",
      "50%       50.000000           NaN   NaN               NaN            NaN   \n",
      "75%       75.000000           NaN   NaN               NaN            NaN   \n",
      "max      100.000000           NaN   NaN               NaN            NaN   \n",
      "\n",
      "       worldwide_gross  \n",
      "count             5782  \n",
      "unique            5356  \n",
      "top                 $0  \n",
      "freq               367  \n",
      "mean               NaN  \n",
      "std                NaN  \n",
      "min                NaN  \n",
      "25%                NaN  \n",
      "50%                NaN  \n",
      "75%                NaN  \n",
      "max                NaN   \n",
      "\n",
      "\n"
     ]
    }
   ],
   "source": [
    "print_df_stats(get_dataframes('.*'))"
   ]
  },
  {
   "cell_type": "markdown",
   "metadata": {},
   "source": [
    "tn_movie_budgets and bom_movie_gross are the only datasets provided that have any revenue numbers yet those datasets don't have foreign keys to imdb data. I want to see if there's a correlation between some imdb features (runtime_in_minutes, rating, genre) and the revenue numbers, so I'll have to join tables. Since there is no integer-type foreign key between the datasets I'll have to join tables on a string-type column that contains the movie name. "
   ]
  },
  {
   "cell_type": "code",
   "execution_count": 5,
   "metadata": {},
   "outputs": [],
   "source": [
    "join_query = '''\n",
    "select \n",
    "    title,\n",
    "    studio,\n",
    "    year,\n",
    "    tconst,\n",
    "    primary_title,\n",
    "    original_title,\n",
    "    start_year,\n",
    "    runtime_minutes,\n",
    "    genres,\n",
    "    id,\n",
    "    release_date,\n",
    "    movie,\n",
    "    production_budget,\n",
    "    tn_movie_budgets_df.domestic_gross,\n",
    "    worldwide_gross\n",
    "from bom_movie_gross_df \n",
    "join imdb_title_basics_df\n",
    "    on original_title = title\n",
    "join tn_movie_budgets_df\n",
    "    on movie = title;\n",
    "'''\n",
    "\n",
    "joined = pysqldf(join_query)"
   ]
  },
  {
   "cell_type": "markdown",
   "metadata": {},
   "source": [
    "In my opinion, joining tables like this is poor practice because movies that have the same title but are actually different movies will end up with duplicated data from the joined table. I'll have to arbitrarily drop all but one of the duplicate rows with no guarantee that I dropped the correct row. A great example of this issue is Adam Green's movie \"Frozen\" (2010) and the Disney movie \"Frozen\" (2013) having duplicate financial data from the bom_movie_gross table. However, because this is a school project with pre-provided data and the scope of the project doesn't include sourcing better data, I'll proceed with my analysis as if the data were reliable."
   ]
  },
  {
   "cell_type": "code",
   "execution_count": 6,
   "metadata": {
    "scrolled": true
   },
   "outputs": [
    {
     "name": "stdout",
     "output_type": "stream",
     "text": [
      "====================================================================================================\n",
      "joined\n",
      "<class 'pandas.core.frame.DataFrame'>\n",
      "RangeIndex: 1531 entries, 0 to 1530\n",
      "Data columns (total 15 columns):\n",
      "title                1531 non-null object\n",
      "studio               1531 non-null object\n",
      "year                 1531 non-null int64\n",
      "tconst               1531 non-null object\n",
      "primary_title        1531 non-null object\n",
      "original_title       1531 non-null object\n",
      "start_year           1531 non-null int64\n",
      "runtime_minutes      1431 non-null float64\n",
      "genres               1508 non-null object\n",
      "id                   1531 non-null int64\n",
      "release_date         1531 non-null object\n",
      "movie                1531 non-null object\n",
      "production_budget    1531 non-null object\n",
      "domestic_gross       1531 non-null object\n",
      "worldwide_gross      1531 non-null object\n",
      "dtypes: float64(1), int64(3), object(11)\n",
      "memory usage: 179.5+ KB\n",
      "None \n",
      "\n",
      "                        title studio  year     tconst  \\\n",
      "0                 Toy Story 3     BV  2010  tt0435761   \n",
      "1                   Inception     WB  2010  tt1375666   \n",
      "2         Shrek Forever After   P/DW  2010  tt0892791   \n",
      "3  The Twilight Saga: Eclipse   Sum.  2010  tt1325004   \n",
      "4                  Iron Man 2   Par.  2010  tt1228705   \n",
      "\n",
      "                primary_title              original_title  start_year  \\\n",
      "0                 Toy Story 3                 Toy Story 3        2010   \n",
      "1                   Inception                   Inception        2010   \n",
      "2         Shrek Forever After         Shrek Forever After        2010   \n",
      "3  The Twilight Saga: Eclipse  The Twilight Saga: Eclipse        2010   \n",
      "4                  Iron Man 2                  Iron Man 2        2010   \n",
      "\n",
      "   runtime_minutes                      genres  id  release_date  \\\n",
      "0            103.0  Adventure,Animation,Comedy  47  Jun 18, 2010   \n",
      "1            148.0     Action,Adventure,Sci-Fi  38  Jul 16, 2010   \n",
      "2             93.0  Adventure,Animation,Comedy  27  May 21, 2010   \n",
      "3            124.0     Adventure,Drama,Fantasy  53  Jun 30, 2010   \n",
      "4            124.0     Action,Adventure,Sci-Fi  15   May 7, 2010   \n",
      "\n",
      "                        movie production_budget domestic_gross worldwide_gross  \n",
      "0                 Toy Story 3      $200,000,000   $415,004,880  $1,068,879,522  \n",
      "1                   Inception      $160,000,000   $292,576,195    $835,524,642  \n",
      "2         Shrek Forever After      $165,000,000   $238,736,787    $756,244,673  \n",
      "3  The Twilight Saga: Eclipse       $68,000,000   $300,531,751    $706,102,828  \n",
      "4                  Iron Man 2      $170,000,000   $312,433,331    $621,156,389   \n",
      "\n",
      "              title studio         year     tconst primary_title  \\\n",
      "count          1531   1531  1531.000000       1531          1531   \n",
      "unique         1147     88          NaN       1505          1156   \n",
      "top     The Journey   Uni.          NaN  tt3555036   The Journey   \n",
      "freq             11    176          NaN          2            11   \n",
      "mean            NaN    NaN  2013.729589        NaN           NaN   \n",
      "std             NaN    NaN     2.517916        NaN           NaN   \n",
      "min             NaN    NaN  2010.000000        NaN           NaN   \n",
      "25%             NaN    NaN  2011.000000        NaN           NaN   \n",
      "50%             NaN    NaN  2014.000000        NaN           NaN   \n",
      "75%             NaN    NaN  2016.000000        NaN           NaN   \n",
      "max             NaN    NaN  2018.000000        NaN           NaN   \n",
      "\n",
      "       original_title   start_year  runtime_minutes genres           id  \\\n",
      "count            1531  1531.000000      1431.000000   1508  1531.000000   \n",
      "unique           1147          NaN              NaN    231          NaN   \n",
      "top       The Journey          NaN              NaN  Drama          NaN   \n",
      "freq               11          NaN              NaN    116          NaN   \n",
      "mean              NaN  2013.869366       104.447240    NaN    51.581973   \n",
      "std               NaN     2.598626        23.407455    NaN    28.583469   \n",
      "min               NaN  2010.000000         3.000000    NaN     1.000000   \n",
      "25%               NaN  2012.000000        93.000000    NaN    27.000000   \n",
      "50%               NaN  2014.000000       104.000000    NaN    52.000000   \n",
      "75%               NaN  2016.000000       117.000000    NaN    76.000000   \n",
      "max               NaN  2020.000000       180.000000    NaN   100.000000   \n",
      "\n",
      "        release_date        movie production_budget domestic_gross  \\\n",
      "count           1531         1531              1531           1531   \n",
      "unique           528         1147               217           1148   \n",
      "top     May 12, 2017  The Journey       $25,000,000             $0   \n",
      "freq              13           11                65             26   \n",
      "mean             NaN          NaN               NaN            NaN   \n",
      "std              NaN          NaN               NaN            NaN   \n",
      "min              NaN          NaN               NaN            NaN   \n",
      "25%              NaN          NaN               NaN            NaN   \n",
      "50%              NaN          NaN               NaN            NaN   \n",
      "75%              NaN          NaN               NaN            NaN   \n",
      "max              NaN          NaN               NaN            NaN   \n",
      "\n",
      "       worldwide_gross  \n",
      "count             1531  \n",
      "unique            1153  \n",
      "top                 $0  \n",
      "freq                14  \n",
      "mean               NaN  \n",
      "std                NaN  \n",
      "min                NaN  \n",
      "25%                NaN  \n",
      "50%                NaN  \n",
      "75%                NaN  \n",
      "max                NaN   \n",
      "\n",
      "\n"
     ]
    }
   ],
   "source": [
    "# Exploring the new table\n",
    "print_df_stats(get_dataframes('.*joined.*'))"
   ]
  },
  {
   "cell_type": "markdown",
   "metadata": {},
   "source": [
    "There are 1531 movies that were successfully joined on the text columns; bom_movie_gross.title, imdb_title_basics.original_title, and tn_movie_budgets.movie. Though I would prefer to be provided with a more reliable joined dataset we'll use these ~1500 as our sample."
   ]
  },
  {
   "cell_type": "markdown",
   "metadata": {},
   "source": [
    "# Data cleaning and processing"
   ]
  },
  {
   "cell_type": "code",
   "execution_count": 7,
   "metadata": {},
   "outputs": [],
   "source": [
    "# Drop movies that don't have a genre, domestic_gross or runtime_minutes\n",
    "joined.dropna(subset=['genres', 'runtime_minutes'], inplace=True)"
   ]
  },
  {
   "cell_type": "code",
   "execution_count": 8,
   "metadata": {},
   "outputs": [],
   "source": [
    "# Cleaning production_budget, domestic_gross and worldwide_gross columns\n",
    "joined.production_budget = joined.production_budget.map(lambda x: re.sub('[$,]', '', x))\n",
    "joined.worldwide_gross = joined.worldwide_gross.map(lambda x: re.sub('[$,]', '', x))\n",
    "joined.domestic_gross = joined.domestic_gross.map(lambda x: re.sub('[$,]', '', x))"
   ]
  },
  {
   "cell_type": "code",
   "execution_count": 9,
   "metadata": {},
   "outputs": [],
   "source": [
    "# Convert production_budget, domestic_gross, worldwide_gross to int64\n",
    "joined.production_budget = joined.production_budget.astype('int64')\n",
    "joined.domestic_gross = joined.domestic_gross.astype('int64')\n",
    "joined.worldwide_gross = joined.worldwide_gross.astype('int64')"
   ]
  },
  {
   "cell_type": "code",
   "execution_count": 10,
   "metadata": {},
   "outputs": [],
   "source": [
    "# Convert release_date to datetime\n",
    "joined.release_date = pd.to_datetime(joined.release_date)"
   ]
  },
  {
   "cell_type": "code",
   "execution_count": 11,
   "metadata": {},
   "outputs": [],
   "source": [
    "# Adding new column to calculate profit, profit percentage\n",
    "joined['total_profit'] = joined.worldwide_gross - joined.production_budget\n",
    "joined['gross_margin'] = joined.total_profit / joined.worldwide_gross"
   ]
  },
  {
   "cell_type": "code",
   "execution_count": 12,
   "metadata": {},
   "outputs": [],
   "source": [
    "# Adding new column to indicate if movie was profitable or not\n",
    "joined['profitable'] = joined.gross_margin > 0"
   ]
  },
  {
   "cell_type": "code",
   "execution_count": 13,
   "metadata": {},
   "outputs": [],
   "source": [
    "# Adding new column to imdb_name_basics\n",
    "imdb_name_basics_df.known_for_titles.fillna(value='', inplace=True)\n",
    "imdb_name_basics_df['movie_count'] = imdb_name_basics_df.known_for_titles.map(lambda x: len(x.split(',')))"
   ]
  },
  {
   "cell_type": "code",
   "execution_count": 14,
   "metadata": {},
   "outputs": [],
   "source": [
    "# There are some nan value in our movie_count column\n",
    "imdb_name_basics_df.movie_count.fillna(0, inplace=True)"
   ]
  },
  {
   "cell_type": "code",
   "execution_count": 15,
   "metadata": {},
   "outputs": [
    {
     "data": {
      "text/html": [
       "<div>\n",
       "<style scoped>\n",
       "    .dataframe tbody tr th:only-of-type {\n",
       "        vertical-align: middle;\n",
       "    }\n",
       "\n",
       "    .dataframe tbody tr th {\n",
       "        vertical-align: top;\n",
       "    }\n",
       "\n",
       "    .dataframe thead th {\n",
       "        text-align: right;\n",
       "    }\n",
       "</style>\n",
       "<table border=\"1\" class=\"dataframe\">\n",
       "  <thead>\n",
       "    <tr style=\"text-align: right;\">\n",
       "      <th></th>\n",
       "      <th>title</th>\n",
       "      <th>studio</th>\n",
       "      <th>year</th>\n",
       "      <th>tconst</th>\n",
       "      <th>primary_title</th>\n",
       "      <th>original_title</th>\n",
       "      <th>start_year</th>\n",
       "      <th>runtime_minutes</th>\n",
       "      <th>genres</th>\n",
       "      <th>id</th>\n",
       "      <th>release_date</th>\n",
       "      <th>movie</th>\n",
       "      <th>production_budget</th>\n",
       "      <th>domestic_gross</th>\n",
       "      <th>worldwide_gross</th>\n",
       "      <th>total_profit</th>\n",
       "      <th>gross_margin</th>\n",
       "      <th>profitable</th>\n",
       "    </tr>\n",
       "  </thead>\n",
       "  <tbody>\n",
       "    <tr>\n",
       "      <th>655</th>\n",
       "      <td>Snitch</td>\n",
       "      <td>LG/S</td>\n",
       "      <td>2013</td>\n",
       "      <td>tt0882977</td>\n",
       "      <td>Snitch</td>\n",
       "      <td>Snitch</td>\n",
       "      <td>2013</td>\n",
       "      <td>112.0</td>\n",
       "      <td>Action,Drama,Thriller</td>\n",
       "      <td>52</td>\n",
       "      <td>2012-12-31</td>\n",
       "      <td>Snitch</td>\n",
       "      <td>850000</td>\n",
       "      <td>0</td>\n",
       "      <td>0</td>\n",
       "      <td>-850000</td>\n",
       "      <td>-inf</td>\n",
       "      <td>False</td>\n",
       "    </tr>\n",
       "    <tr>\n",
       "      <th>670</th>\n",
       "      <td>Trance</td>\n",
       "      <td>FoxS</td>\n",
       "      <td>2013</td>\n",
       "      <td>tt1111235</td>\n",
       "      <td>Trance</td>\n",
       "      <td>Trance</td>\n",
       "      <td>2010</td>\n",
       "      <td>83.0</td>\n",
       "      <td>Horror</td>\n",
       "      <td>31</td>\n",
       "      <td>2012-12-31</td>\n",
       "      <td>Trance</td>\n",
       "      <td>950000</td>\n",
       "      <td>0</td>\n",
       "      <td>0</td>\n",
       "      <td>-950000</td>\n",
       "      <td>-inf</td>\n",
       "      <td>False</td>\n",
       "    </tr>\n",
       "    <tr>\n",
       "      <th>672</th>\n",
       "      <td>Trance</td>\n",
       "      <td>FoxS</td>\n",
       "      <td>2013</td>\n",
       "      <td>tt1924429</td>\n",
       "      <td>Trance</td>\n",
       "      <td>Trance</td>\n",
       "      <td>2013</td>\n",
       "      <td>101.0</td>\n",
       "      <td>Crime,Drama,Mystery</td>\n",
       "      <td>31</td>\n",
       "      <td>2012-12-31</td>\n",
       "      <td>Trance</td>\n",
       "      <td>950000</td>\n",
       "      <td>0</td>\n",
       "      <td>0</td>\n",
       "      <td>-950000</td>\n",
       "      <td>-inf</td>\n",
       "      <td>False</td>\n",
       "    </tr>\n",
       "    <tr>\n",
       "      <th>1084</th>\n",
       "      <td>Eden</td>\n",
       "      <td>BG</td>\n",
       "      <td>2015</td>\n",
       "      <td>tt1734433</td>\n",
       "      <td>Eden</td>\n",
       "      <td>Eden</td>\n",
       "      <td>2012</td>\n",
       "      <td>98.0</td>\n",
       "      <td>Crime,Drama</td>\n",
       "      <td>66</td>\n",
       "      <td>2016-01-19</td>\n",
       "      <td>Eden</td>\n",
       "      <td>2300000</td>\n",
       "      <td>0</td>\n",
       "      <td>0</td>\n",
       "      <td>-2300000</td>\n",
       "      <td>-inf</td>\n",
       "      <td>False</td>\n",
       "    </tr>\n",
       "    <tr>\n",
       "      <th>1085</th>\n",
       "      <td>Eden</td>\n",
       "      <td>BG</td>\n",
       "      <td>2015</td>\n",
       "      <td>tt2063641</td>\n",
       "      <td>Eden</td>\n",
       "      <td>Eden</td>\n",
       "      <td>2012</td>\n",
       "      <td>101.0</td>\n",
       "      <td>Comedy,Drama</td>\n",
       "      <td>66</td>\n",
       "      <td>2016-01-19</td>\n",
       "      <td>Eden</td>\n",
       "      <td>2300000</td>\n",
       "      <td>0</td>\n",
       "      <td>0</td>\n",
       "      <td>-2300000</td>\n",
       "      <td>-inf</td>\n",
       "      <td>False</td>\n",
       "    </tr>\n",
       "    <tr>\n",
       "      <th>1086</th>\n",
       "      <td>Eden</td>\n",
       "      <td>BG</td>\n",
       "      <td>2015</td>\n",
       "      <td>tt2132321</td>\n",
       "      <td>Eden</td>\n",
       "      <td>Eden</td>\n",
       "      <td>2016</td>\n",
       "      <td>71.0</td>\n",
       "      <td>Drama</td>\n",
       "      <td>66</td>\n",
       "      <td>2016-01-19</td>\n",
       "      <td>Eden</td>\n",
       "      <td>2300000</td>\n",
       "      <td>0</td>\n",
       "      <td>0</td>\n",
       "      <td>-2300000</td>\n",
       "      <td>-inf</td>\n",
       "      <td>False</td>\n",
       "    </tr>\n",
       "    <tr>\n",
       "      <th>1087</th>\n",
       "      <td>Eden</td>\n",
       "      <td>BG</td>\n",
       "      <td>2015</td>\n",
       "      <td>tt3032282</td>\n",
       "      <td>Eden</td>\n",
       "      <td>Eden</td>\n",
       "      <td>2014</td>\n",
       "      <td>90.0</td>\n",
       "      <td>Drama,Thriller</td>\n",
       "      <td>66</td>\n",
       "      <td>2016-01-19</td>\n",
       "      <td>Eden</td>\n",
       "      <td>2300000</td>\n",
       "      <td>0</td>\n",
       "      <td>0</td>\n",
       "      <td>-2300000</td>\n",
       "      <td>-inf</td>\n",
       "      <td>False</td>\n",
       "    </tr>\n",
       "    <tr>\n",
       "      <th>1088</th>\n",
       "      <td>Eden</td>\n",
       "      <td>BG</td>\n",
       "      <td>2015</td>\n",
       "      <td>tt3090634</td>\n",
       "      <td>Eden</td>\n",
       "      <td>Eden</td>\n",
       "      <td>2014</td>\n",
       "      <td>131.0</td>\n",
       "      <td>Biography,Drama,Music</td>\n",
       "      <td>66</td>\n",
       "      <td>2016-01-19</td>\n",
       "      <td>Eden</td>\n",
       "      <td>2300000</td>\n",
       "      <td>0</td>\n",
       "      <td>0</td>\n",
       "      <td>-2300000</td>\n",
       "      <td>-inf</td>\n",
       "      <td>False</td>\n",
       "    </tr>\n",
       "    <tr>\n",
       "      <th>1089</th>\n",
       "      <td>Eden</td>\n",
       "      <td>BG</td>\n",
       "      <td>2015</td>\n",
       "      <td>tt5975878</td>\n",
       "      <td>Eden</td>\n",
       "      <td>Eden</td>\n",
       "      <td>2015</td>\n",
       "      <td>90.0</td>\n",
       "      <td>Animation</td>\n",
       "      <td>66</td>\n",
       "      <td>2016-01-19</td>\n",
       "      <td>Eden</td>\n",
       "      <td>2300000</td>\n",
       "      <td>0</td>\n",
       "      <td>0</td>\n",
       "      <td>-2300000</td>\n",
       "      <td>-inf</td>\n",
       "      <td>False</td>\n",
       "    </tr>\n",
       "    <tr>\n",
       "      <th>1090</th>\n",
       "      <td>Eden</td>\n",
       "      <td>BG</td>\n",
       "      <td>2015</td>\n",
       "      <td>tt7539088</td>\n",
       "      <td>Eden</td>\n",
       "      <td>Eden</td>\n",
       "      <td>2019</td>\n",
       "      <td>85.0</td>\n",
       "      <td>Crime,Drama</td>\n",
       "      <td>66</td>\n",
       "      <td>2016-01-19</td>\n",
       "      <td>Eden</td>\n",
       "      <td>2300000</td>\n",
       "      <td>0</td>\n",
       "      <td>0</td>\n",
       "      <td>-2300000</td>\n",
       "      <td>-inf</td>\n",
       "      <td>False</td>\n",
       "    </tr>\n",
       "    <tr>\n",
       "      <th>1091</th>\n",
       "      <td>Eden</td>\n",
       "      <td>BG</td>\n",
       "      <td>2015</td>\n",
       "      <td>tt9174880</td>\n",
       "      <td>Eden</td>\n",
       "      <td>Eden</td>\n",
       "      <td>2018</td>\n",
       "      <td>97.0</td>\n",
       "      <td>Drama</td>\n",
       "      <td>66</td>\n",
       "      <td>2016-01-19</td>\n",
       "      <td>Eden</td>\n",
       "      <td>2300000</td>\n",
       "      <td>0</td>\n",
       "      <td>0</td>\n",
       "      <td>-2300000</td>\n",
       "      <td>-inf</td>\n",
       "      <td>False</td>\n",
       "    </tr>\n",
       "  </tbody>\n",
       "</table>\n",
       "</div>"
      ],
      "text/plain": [
       "       title studio  year     tconst primary_title original_title  start_year  \\\n",
       "655   Snitch   LG/S  2013  tt0882977        Snitch         Snitch        2013   \n",
       "670   Trance   FoxS  2013  tt1111235        Trance         Trance        2010   \n",
       "672   Trance   FoxS  2013  tt1924429        Trance         Trance        2013   \n",
       "1084    Eden     BG  2015  tt1734433          Eden           Eden        2012   \n",
       "1085    Eden     BG  2015  tt2063641          Eden           Eden        2012   \n",
       "1086    Eden     BG  2015  tt2132321          Eden           Eden        2016   \n",
       "1087    Eden     BG  2015  tt3032282          Eden           Eden        2014   \n",
       "1088    Eden     BG  2015  tt3090634          Eden           Eden        2014   \n",
       "1089    Eden     BG  2015  tt5975878          Eden           Eden        2015   \n",
       "1090    Eden     BG  2015  tt7539088          Eden           Eden        2019   \n",
       "1091    Eden     BG  2015  tt9174880          Eden           Eden        2018   \n",
       "\n",
       "      runtime_minutes                 genres  id release_date   movie  \\\n",
       "655             112.0  Action,Drama,Thriller  52   2012-12-31  Snitch   \n",
       "670              83.0                 Horror  31   2012-12-31  Trance   \n",
       "672             101.0    Crime,Drama,Mystery  31   2012-12-31  Trance   \n",
       "1084             98.0            Crime,Drama  66   2016-01-19    Eden   \n",
       "1085            101.0           Comedy,Drama  66   2016-01-19    Eden   \n",
       "1086             71.0                  Drama  66   2016-01-19    Eden   \n",
       "1087             90.0         Drama,Thriller  66   2016-01-19    Eden   \n",
       "1088            131.0  Biography,Drama,Music  66   2016-01-19    Eden   \n",
       "1089             90.0              Animation  66   2016-01-19    Eden   \n",
       "1090             85.0            Crime,Drama  66   2016-01-19    Eden   \n",
       "1091             97.0                  Drama  66   2016-01-19    Eden   \n",
       "\n",
       "      production_budget  domestic_gross  worldwide_gross  total_profit  \\\n",
       "655              850000               0                0       -850000   \n",
       "670              950000               0                0       -950000   \n",
       "672              950000               0                0       -950000   \n",
       "1084            2300000               0                0      -2300000   \n",
       "1085            2300000               0                0      -2300000   \n",
       "1086            2300000               0                0      -2300000   \n",
       "1087            2300000               0                0      -2300000   \n",
       "1088            2300000               0                0      -2300000   \n",
       "1089            2300000               0                0      -2300000   \n",
       "1090            2300000               0                0      -2300000   \n",
       "1091            2300000               0                0      -2300000   \n",
       "\n",
       "      gross_margin  profitable  \n",
       "655           -inf       False  \n",
       "670           -inf       False  \n",
       "672           -inf       False  \n",
       "1084          -inf       False  \n",
       "1085          -inf       False  \n",
       "1086          -inf       False  \n",
       "1087          -inf       False  \n",
       "1088          -inf       False  \n",
       "1089          -inf       False  \n",
       "1090          -inf       False  \n",
       "1091          -inf       False  "
      ]
     },
     "execution_count": 15,
     "metadata": {},
     "output_type": "execute_result"
    }
   ],
   "source": [
    "# Some worldwide_gross numbers are 0 so profit / worldwide_gross is div zero == -inf\n",
    "joined.loc[joined.gross_margin == joined.gross_margin.min()]"
   ]
  },
  {
   "cell_type": "code",
   "execution_count": 23,
   "metadata": {},
   "outputs": [],
   "source": [
    "# Drop the 2 rows with 0 in worldwide gross\n",
    "joined.drop(joined.loc[joined.worldwide_gross == 0].index, axis=0, inplace=True)"
   ]
  },
  {
   "cell_type": "code",
   "execution_count": 24,
   "metadata": {},
   "outputs": [],
   "source": [
    "# Drop duplicate rows based on title\n",
    "joined.drop_duplicates(subset=['title'], inplace=True)"
   ]
  },
  {
   "cell_type": "markdown",
   "metadata": {},
   "source": [
    "After cleaning columns we end up with 1143 unique movies between 2010 and 2018 to analyze."
   ]
  },
  {
   "cell_type": "code",
   "execution_count": 25,
   "metadata": {
    "scrolled": true
   },
   "outputs": [
    {
     "name": "stdout",
     "output_type": "stream",
     "text": [
      "====================================================================================================\n",
      "joined\n",
      "<class 'pandas.core.frame.DataFrame'>\n",
      "Int64Index: 1142 entries, 0 to 1530\n",
      "Data columns (total 18 columns):\n",
      "title                1142 non-null object\n",
      "studio               1142 non-null object\n",
      "year                 1142 non-null int64\n",
      "tconst               1142 non-null object\n",
      "primary_title        1142 non-null object\n",
      "original_title       1142 non-null object\n",
      "start_year           1142 non-null int64\n",
      "runtime_minutes      1142 non-null float64\n",
      "genres               1142 non-null object\n",
      "id                   1142 non-null int64\n",
      "release_date         1142 non-null datetime64[ns]\n",
      "movie                1142 non-null object\n",
      "production_budget    1142 non-null int64\n",
      "domestic_gross       1142 non-null int64\n",
      "worldwide_gross      1142 non-null int64\n",
      "total_profit         1142 non-null int64\n",
      "gross_margin         1142 non-null float64\n",
      "profitable           1142 non-null bool\n",
      "dtypes: bool(1), datetime64[ns](1), float64(2), int64(7), object(7)\n",
      "memory usage: 161.7+ KB\n",
      "None \n",
      "\n",
      "                        title studio  year     tconst  \\\n",
      "0                 Toy Story 3     BV  2010  tt0435761   \n",
      "1                   Inception     WB  2010  tt1375666   \n",
      "2         Shrek Forever After   P/DW  2010  tt0892791   \n",
      "3  The Twilight Saga: Eclipse   Sum.  2010  tt1325004   \n",
      "4                  Iron Man 2   Par.  2010  tt1228705   \n",
      "\n",
      "                primary_title              original_title  start_year  \\\n",
      "0                 Toy Story 3                 Toy Story 3        2010   \n",
      "1                   Inception                   Inception        2010   \n",
      "2         Shrek Forever After         Shrek Forever After        2010   \n",
      "3  The Twilight Saga: Eclipse  The Twilight Saga: Eclipse        2010   \n",
      "4                  Iron Man 2                  Iron Man 2        2010   \n",
      "\n",
      "   runtime_minutes                      genres  id release_date  \\\n",
      "0            103.0  Adventure,Animation,Comedy  47   2010-06-18   \n",
      "1            148.0     Action,Adventure,Sci-Fi  38   2010-07-16   \n",
      "2             93.0  Adventure,Animation,Comedy  27   2010-05-21   \n",
      "3            124.0     Adventure,Drama,Fantasy  53   2010-06-30   \n",
      "4            124.0     Action,Adventure,Sci-Fi  15   2010-05-07   \n",
      "\n",
      "                        movie  production_budget  domestic_gross  \\\n",
      "0                 Toy Story 3          200000000       415004880   \n",
      "1                   Inception          160000000       292576195   \n",
      "2         Shrek Forever After          165000000       238736787   \n",
      "3  The Twilight Saga: Eclipse           68000000       300531751   \n",
      "4                  Iron Man 2          170000000       312433331   \n",
      "\n",
      "   worldwide_gross  total_profit  gross_margin  profitable  \n",
      "0       1068879522     868879522      0.812888        True  \n",
      "1        835524642     675524642      0.808504        True  \n",
      "2        756244673     591244673      0.781817        True  \n",
      "3        706102828     638102828      0.903697        True  \n",
      "4        621156389     451156389      0.726317        True   \n",
      "\n",
      "           title studio         year     tconst primary_title original_title  \\\n",
      "count       1142   1142  1142.000000       1142          1142           1142   \n",
      "unique      1142     88          NaN       1142          1142           1142   \n",
      "top     Sex Tape   Uni.          NaN  tt1213641      Sex Tape       Sex Tape   \n",
      "freq           1    114          NaN          1             1              1   \n",
      "first        NaN    NaN          NaN        NaN           NaN            NaN   \n",
      "last         NaN    NaN          NaN        NaN           NaN            NaN   \n",
      "mean         NaN    NaN  2013.655867        NaN           NaN            NaN   \n",
      "std          NaN    NaN     2.518252        NaN           NaN            NaN   \n",
      "min          NaN    NaN  2010.000000        NaN           NaN            NaN   \n",
      "25%          NaN    NaN  2011.000000        NaN           NaN            NaN   \n",
      "50%          NaN    NaN  2014.000000        NaN           NaN            NaN   \n",
      "75%          NaN    NaN  2016.000000        NaN           NaN            NaN   \n",
      "max          NaN    NaN  2018.000000        NaN           NaN            NaN   \n",
      "\n",
      "         start_year  runtime_minutes                      genres           id  \\\n",
      "count   1142.000000      1142.000000                        1142  1142.000000   \n",
      "unique          NaN              NaN                         195          NaN   \n",
      "top             NaN              NaN  Adventure,Animation,Comedy          NaN   \n",
      "freq            NaN              NaN                          58          NaN   \n",
      "first           NaN              NaN                         NaN          NaN   \n",
      "last            NaN              NaN                         NaN          NaN   \n",
      "mean    2013.476357       108.190018                         NaN    50.967601   \n",
      "std        2.518444        19.224851                         NaN    28.299385   \n",
      "min     2010.000000         6.000000                         NaN     1.000000   \n",
      "25%     2011.000000        96.000000                         NaN    27.000000   \n",
      "50%     2013.000000       106.000000                         NaN    51.000000   \n",
      "75%     2016.000000       118.750000                         NaN    74.000000   \n",
      "max     2019.000000       180.000000                         NaN   100.000000   \n",
      "\n",
      "               release_date     movie  production_budget  domestic_gross  \\\n",
      "count                  1142      1142       1.142000e+03    1.142000e+03   \n",
      "unique                  522      1142                NaN             NaN   \n",
      "top     2010-10-08 00:00:00  Sex Tape                NaN             NaN   \n",
      "freq                      8         1                NaN             NaN   \n",
      "first   1984-06-22 00:00:00       NaN                NaN             NaN   \n",
      "last    2018-12-25 00:00:00       NaN                NaN             NaN   \n",
      "mean                    NaN       NaN       4.819553e+07    6.223262e+07   \n",
      "std                     NaN       NaN       5.653047e+07    8.445051e+07   \n",
      "min                     NaN       NaN       5.000000e+04    0.000000e+00   \n",
      "25%                     NaN       NaN       1.032500e+07    9.291413e+06   \n",
      "50%                     NaN       NaN       2.800000e+07    3.508150e+07   \n",
      "75%                     NaN       NaN       6.000000e+07    7.717717e+07   \n",
      "max                     NaN       NaN       4.106000e+08    7.000596e+08   \n",
      "\n",
      "        worldwide_gross  total_profit  gross_margin profitable  \n",
      "count      1.142000e+03  1.142000e+03   1142.000000       1142  \n",
      "unique              NaN           NaN           NaN          2  \n",
      "top                 NaN           NaN           NaN       True  \n",
      "freq                NaN           NaN           NaN        911  \n",
      "first               NaN           NaN           NaN        NaN  \n",
      "last                NaN           NaN           NaN        NaN  \n",
      "mean       1.560091e+08  1.078136e+08     -7.533735        NaN  \n",
      "std        2.333316e+08  1.923678e+08    214.884322        NaN  \n",
      "min        1.242000e+03 -1.104502e+08  -7245.376812        NaN  \n",
      "25%        2.041794e+07  3.430498e+06      0.167634        NaN  \n",
      "50%        6.934152e+07  3.523680e+07      0.596590        NaN  \n",
      "75%        1.801236e+08  1.223046e+08      0.768665        NaN  \n",
      "max        2.048134e+09  1.748134e+09      0.997599        NaN   \n",
      "\n",
      "\n"
     ]
    }
   ],
   "source": [
    "print_df_stats(get_dataframes('.*joined.*'))"
   ]
  },
  {
   "cell_type": "markdown",
   "metadata": {},
   "source": [
    "# How many films are actually profitable?"
   ]
  },
  {
   "cell_type": "markdown",
   "metadata": {},
   "source": [
    "The gross_margin field has a range of (-inf to 1) and is very sensitive to extremely low values so I'm going to limit the visualization to movies that lost \\\\$3 for every \\\\$1 they made in revenue. There are only 62  observations (~5%) that are filtered out."
   ]
  },
  {
   "cell_type": "code",
   "execution_count": 26,
   "metadata": {},
   "outputs": [],
   "source": [
    "# Creating new df to show limited scope of gross_margin variable\n",
    "margin_limit_df = joined.loc[joined.gross_margin > -3]"
   ]
  },
  {
   "cell_type": "code",
   "execution_count": 27,
   "metadata": {},
   "outputs": [
    {
     "data": {
      "image/png": "[encoded data removed]",
      "text/plain": [
       "<Figure size 1152x720 with 1 Axes>"
      ]
     },
     "metadata": {
      "needs_background": "light"
     },
     "output_type": "display_data"
    }
   ],
   "source": [
    "# Plot frequency of gross_margins\n",
    "fig1, ax1 = plt.subplots(figsize=(16, 10))\n",
    "plt.title('Distribution of Gross Margins\\n (excludes 5% of data < -300% gross margin)')\n",
    "plt.ylabel('Frequency')\n",
    "plt.xlabel('Gross Margin Percent')\n",
    "plt.xticks(np.arange(-3, 1, .2))\n",
    "mean=margin_limit_df.gross_margin.mean()\n",
    "median=margin_limit_df.gross_margin.median()\n",
    "ax1.axvline(mean, color='r', linestyle='--')\n",
    "ax1.axvline(median, color='g', linestyle='--')\n",
    "ax1.axvline(0, color='b', linestyle='-')\n",
    "plt.legend({'Mean':mean,'Median':median, 'Breakeven':0})\n",
    "sns.distplot(margin_limit_df.gross_margin, bins=20, kde=False, ax=ax1, axlabel='Gross Margin Percent');"
   ]
  },
  {
   "cell_type": "markdown",
   "metadata": {},
   "source": [
    "# Which directors have the most profitable films?"
   ]
  },
  {
   "cell_type": "code",
   "execution_count": 28,
   "metadata": {},
   "outputs": [],
   "source": [
    "join_query = '''\n",
    "with directors as (\n",
    "    select \n",
    "        tconst, \n",
    "        movie_count, \n",
    "        group_concat(primary_name, '/') as director_names\n",
    "    from imdb_title_principals_df\n",
    "        join imdb_name_basics_df using (nconst)\n",
    "    where category = 'director'\n",
    "    group by tconst)\n",
    "select\n",
    "    joined.*,\n",
    "    director_names,\n",
    "    movie_count\n",
    "from joined\n",
    "left join directors using ('tconst')\n",
    "'''\n",
    "\n",
    "director_joined = pysqldf(join_query)"
   ]
  },
  {
   "cell_type": "markdown",
   "metadata": {},
   "source": [
    "Now that we have the director_joined dataframe we can see which director had the most profitable films."
   ]
  },
  {
   "cell_type": "code",
   "execution_count": 29,
   "metadata": {},
   "outputs": [],
   "source": [
    "total_profit_by_director = director_joined.groupby('director_names')['total_profit'].mean()\n",
    "gross_margin_by_director = director_joined.groupby('director_names')['gross_margin'].mean()"
   ]
  },
  {
   "cell_type": "code",
   "execution_count": 30,
   "metadata": {},
   "outputs": [
    {
     "data": {
      "text/plain": [
       "director_names\n",
       "Travis Cluff/Chris Lofing     0.997599\n",
       "William Brent Bell            0.990173\n",
       "Levan Gabriadze               0.984463\n",
       "Tod Williams                  0.983100\n",
       "Jamie Buckner                 0.982077\n",
       "Jordan Peele                  0.980420\n",
       "Bradley Parker                0.976422\n",
       "Henry Joost/Ariel Schulman    0.970420\n",
       "Nitesh Tiwari                 0.967759\n",
       "Robert Heath                  0.963207\n",
       "Name: gross_margin, dtype: float64"
      ]
     },
     "execution_count": 30,
     "metadata": {},
     "output_type": "execute_result"
    }
   ],
   "source": [
    "top_10_gross_margin = gross_margin_by_director.sort_values(ascending=False).head(10)\n",
    "top_10_gross_margin"
   ]
  },
  {
   "cell_type": "code",
   "execution_count": 31,
   "metadata": {},
   "outputs": [
    {
     "data": {
      "text/plain": [
       "director_names\n",
       "Kyle Balda                               1.086336e+09\n",
       "Joss Whedon                              1.072414e+09\n",
       "Anthony Russo/Joe Russo                  1.060869e+09\n",
       "Kyle Balda/Pierre Coffin/Eric Guillon    9.597278e+08\n",
       "Byron Howard/Rich Moore/Jared Bush       8.694296e+08\n",
       "Lee Unkrich                              8.688795e+08\n",
       "Andrew Stanton/Angus MacLane             8.212152e+08\n",
       "Yarrow Cheney/Chris Renaud               8.117505e+08\n",
       "Steve Martino/Mike Thurmeier             7.847651e+08\n",
       "Sam Mendes                               7.450740e+08\n",
       "Name: total_profit, dtype: float64"
      ]
     },
     "execution_count": 31,
     "metadata": {},
     "output_type": "execute_result"
    }
   ],
   "source": [
    "top_10_total_profit = total_profit_by_director.sort_values(ascending=False).head(10)\n",
    "top_10_total_profit"
   ]
  },
  {
   "cell_type": "code",
   "execution_count": 32,
   "metadata": {},
   "outputs": [
    {
     "data": {
      "image/png": "[encoded data removed]",
      "text/plain": [
       "<Figure size 1152x576 with 1 Axes>"
      ]
     },
     "metadata": {
      "needs_background": "light"
     },
     "output_type": "display_data"
    }
   ],
   "source": [
    "fig2, ax2 = plt.subplots(figsize=(16, 8))\n",
    "plt.title('Directors with the most profitable average movie')\n",
    "plt.ylabel('Directors')\n",
    "plt.xlabel('Average Profit Earned')\n",
    "ax2.set(ylabel='Directors')\n",
    "sns.barplot(top_10_total_profit.values, top_10_total_profit.index);"
   ]
  },
  {
   "cell_type": "markdown",
   "metadata": {},
   "source": [
    "# When is the best time of year to release a movie?"
   ]
  },
  {
   "cell_type": "markdown",
   "metadata": {},
   "source": [
    "To answer this question I will need to:\n",
    "\n",
    "Pick a sufficiently large subset of my data that is most recent and won't be affected by inflation, or other time-sensitive variables.\n",
    "\n",
    "I will use the gross_margin variable instead of the total_profit variable because gross_margin is a relative statistic comparing expense to revenue and will not be affected by inflation as much as the total_profit variable will be.\n",
    "\n",
    "I'll then group the data by month and plot observations on a bar plot/line plot using the gross_margin mean or median OR use scatter plot."
   ]
  },
  {
   "cell_type": "code",
   "execution_count": 128,
   "metadata": {},
   "outputs": [
    {
     "data": {
      "text/plain": [
       "release_date\n",
       "1984      1\n",
       "1986      1\n",
       "2001      1\n",
       "2003      2\n",
       "2005      1\n",
       "2010    140\n",
       "2011    155\n",
       "2012    137\n",
       "2013    125\n",
       "2014    123\n",
       "2015    136\n",
       "2016    133\n",
       "2017     96\n",
       "2018     92\n",
       "Name: title, dtype: int64"
      ]
     },
     "execution_count": 128,
     "metadata": {},
     "output_type": "execute_result"
    }
   ],
   "source": [
    "# How many movies per year are in my sample?\n",
    "joined.groupby(joined.release_date.map(lambda x: x.strftime('%Y'))).title.count()"
   ]
  },
  {
   "cell_type": "code",
   "execution_count": 129,
   "metadata": {},
   "outputs": [],
   "source": [
    "# Create new df with only the last 5 years of observations\n",
    "last_5 = joined.loc[joined.release_date.map(lambda x: int(x.strftime('%Y'))) >= 2014]"
   ]
  },
  {
   "cell_type": "code",
   "execution_count": 130,
   "metadata": {},
   "outputs": [
    {
     "name": "stderr",
     "output_type": "stream",
     "text": [
      "/home/ben/.local/lib/python3.6/site-packages/ipykernel_launcher.py:2: SettingWithCopyWarning: \n",
      "A value is trying to be set on a copy of a slice from a DataFrame.\n",
      "Try using .loc[row_indexer,col_indexer] = value instead\n",
      "\n",
      "See the caveats in the documentation: http://pandas.pydata.org/pandas-docs/stable/user_guide/indexing.html#returning-a-view-versus-a-copy\n",
      "  \n"
     ]
    }
   ],
   "source": [
    "# Create new column called release_month\n",
    "last_5['release_month'] = last_5.release_date.map(lambda x: x.strftime('%b'))"
   ]
  },
  {
   "cell_type": "code",
   "execution_count": 131,
   "metadata": {},
   "outputs": [
    {
     "data": {
      "image/png": "[encoded data removed]",
      "text/plain": [
       "<Figure size 1152x720 with 1 Axes>"
      ]
     },
     "metadata": {
      "needs_background": "light"
     },
     "output_type": "display_data"
    }
   ],
   "source": [
    "# Group by month and plot\n",
    "last_5_grouped = last_5.groupby('release_month')\n",
    "fig3, ax3 = plt.subplots(figsize=(16, 10))\n",
    "plt.title('Median gross margin all movies released last 5 years by month')\n",
    "plt.ylabel('Median Gross Margin')\n",
    "plt.xlabel('Gross Margin Percent')\n",
    "order = ('Jan', 'Feb', 'Mar', 'Apr', 'May', 'Jun', 'Jul', 'Aug', 'Sep', 'Oct', 'Nov', 'Dec')\n",
    "sns.barplot(last_5_grouped.gross_margin.median().index, \n",
    "            last_5_grouped.gross_margin.median().values, \n",
    "            order=order);"
   ]
  },
  {
   "cell_type": "markdown",
   "metadata": {},
   "source": [
    "According to the graph the best time to release a movie with regard to gross margin would be in the months of July, January, or November. One caveat: the difference between high gross margin months and low is so miniscule that release_month may not be a statistically significant variable. Other variables like, the quality of the film, the popularity of the cast and directors will probably affect the gross margins much more."
   ]
  },
  {
   "cell_type": "markdown",
   "metadata": {},
   "source": [
    "# For how many films are the directors \"known for\"? Could this be used as a predictor of a director's popularity?"
   ]
  },
  {
   "cell_type": "markdown",
   "metadata": {},
   "source": [
    "The imdb data has an interesting column called \"known_for_titles\" which is a list of the directors' most popular films that they are associated with. I'm interested to see what the frequency distribution of the count of those films is. Are there directors who are known for many more films than their counterparts? Perhaps those directors with higher counts of known_for_titles are most popular and their reputation will help the films success."
   ]
  },
  {
   "cell_type": "code",
   "execution_count": 100,
   "metadata": {},
   "outputs": [
    {
     "data": {
      "image/png": "[encoded data removed]",
      "text/plain": [
       "<Figure size 1152x720 with 1 Axes>"
      ]
     },
     "metadata": {
      "needs_background": "light"
     },
     "output_type": "display_data"
    }
   ],
   "source": [
    "fig4, ax4 = plt.subplots(figsize=(16, 10))\n",
    "plt.title('Frequency of \"known_for_titles\" counts for directors')\n",
    "plt.ylabel('Frequency')\n",
    "plt.xlabel('Number of titles direcor is know for')\n",
    "plt.xticks(np.arange(0, 5, 1))\n",
    "plt.legend({'Mean':mean,'Median':median, 'Breakeven':0})\n",
    "sns.distplot(director_joined.sort_values(by='movie_count', ascending=False).movie_count, kde=False);"
   ]
  },
  {
   "cell_type": "markdown",
   "metadata": {},
   "source": [
    "The vast majority of directors only have 4 titles listed in the known_for_titles column which seems to indicate that the originators of the data truncated the number of titles in that column to 4 and therefore using the known_for_titles column as an indication of popularity of the director isn't possible."
   ]
  }
 ],
 "metadata": {
  "kernelspec": {
   "display_name": "Python [conda env:learn-env] *",
   "language": "python",
   "name": "conda-env-learn-env-py"
  },
  "language_info": {
   "codemirror_mode": {
    "name": "ipython",
    "version": 3
   },
   "file_extension": ".py",
   "mimetype": "text/x-python",
   "name": "python",
   "nbconvert_exporter": "python",
   "pygments_lexer": "ipython3",
   "version": "3.6.9"
  },
  "toc": {
   "base_numbering": 1,
   "nav_menu": {
    "height": "303px",
    "width": "809px"
   },
   "number_sections": true,
   "sideBar": true,
   "skip_h1_title": false,
   "title_cell": "Table of Contents",
   "title_sidebar": "Contents",
   "toc_cell": false,
   "toc_position": {},
   "toc_section_display": true,
   "toc_window_display": false
  }
 },
 "nbformat": 4,
 "nbformat_minor": 2
}
