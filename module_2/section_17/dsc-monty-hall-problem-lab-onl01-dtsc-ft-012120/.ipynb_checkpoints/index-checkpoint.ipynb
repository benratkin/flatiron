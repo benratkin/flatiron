{
 "cells": [
  {
   "cell_type": "markdown",
   "metadata": {},
   "source": [
    "# The Monty Hall Problem\n",
    "\n",
    "## Introduction\n",
    "\n",
    "The Monty Hall problem is a famous little puzzle from a game show. It goes like this: you are presented with 3 doors. Behind two are goats and behind the third is a car. You are asked to select a door; if you select the door with the car, you win! After selecting, the host then opens one of the remaining two doors, revealing a goat. The host then asks if you would like to switch doors or stick with your original choice. What would you do? Does it matter?\n",
    "\n",
    "<img src=\"images/Image_58_MontyHall.png\">\n",
    "\n",
    "## Objectives\n",
    "\n",
    "In this lab you will:\n",
    "\n",
    "- Use Bayes' theorem along with a simulation to solve the Monty Hall problem"
   ]
  },
  {
   "cell_type": "code",
   "execution_count": 2,
   "metadata": {},
   "outputs": [],
   "source": [
    "import numpy as np\n",
    "import matplotlib.pyplot as plt"
   ]
  },
  {
   "cell_type": "markdown",
   "metadata": {},
   "source": [
    "## Run a simulation\n",
    "\n",
    "This is not a traditional application of Bayes' theorem, so trying to formulate the problem as such is tricky at best. That said, the scenario does capture the motivating conception behind Bayesian statistics: updating our beliefs in the face of additional evidence. With this, you'll employ another frequently used tool Bayesians frequently employ, running simulations. To do this, generate a random integer between one and three to represent the door hiding the car. Then, generate a second integer between one and three representing the player's selection. Then, of those the contestant did not choose, select a door concealing a goat to reveal. Record the results of the simulated game if they changed versus if they did not. Repeat this process a thousand (or more) times. Finally, plot the results of your simulation as a line graph. The x-axis should be the number of simulations, and the y-axis should be the probability of winning. (There should be two lines on the graph, one for switching doors, and the other for keeping the original selection.)"
   ]
  },
  {
   "cell_type": "code",
   "execution_count": 19,
   "metadata": {},
   "outputs": [
    {
     "data": {
      "image/png": "[encoded data removed]",
      "text/plain": [
       "<Figure size 432x288 with 1 Axes>"
      ]
     },
     "metadata": {
      "needs_background": "light"
     },
     "output_type": "display_data"
    }
   ],
   "source": [
    "# Your code here\n",
    "n_tests = 10**4\n",
    "no_changed_doors = []\n",
    "changed_doors = []\n",
    "\n",
    "for x in range(n_tests):\n",
    "    # generate a random integer between one and three to represent the door hiding the car.\n",
    "    car_door = np.random.randint(1,4)\n",
    "    # Then, generate a second integer between one and three representing the player's selection.\n",
    "    p_sel = np.random.randint(1,4)\n",
    "    # Then, of those the contestant did not choose, select a door concealing a goat to reveal.\n",
    "    remaining_goat_door = [x for x in [1,2,3] if x not in [car_door, p_sel]]\n",
    "    reveal_goat_door = np.random.choice(remaining_goat_door)\n",
    "    # Record the results of the simulated game if they changed versus if they did not.\n",
    "    change_door = [door for door in [1,2,3] if door not in [p_sel, reveal_goat_door]][0]\n",
    "    if p_sel == car_door:\n",
    "        no_changed_doors.append(1)\n",
    "    else:\n",
    "        no_changed_doors.append(0)\n",
    "    if change_door == car_door:\n",
    "        changed_doors.append(1)\n",
    "    else:\n",
    "        changed_doors.append(0)\n",
    "\n",
    "# Repeat this process a thousand (or more) times. \n",
    "# Finally, plot the results of your simulation as a line graph.\n",
    "\n",
    "# Plot for the changers\n",
    "xs_c = np.linspace(1, n_tests, n_tests)\n",
    "xs_nc = xs_c\n",
    "# Because the mean of binomial data is the proportion of successes!\n",
    "ys_c = [np.mean(changed_doors[:i]) for i in range(1,n_tests+1)]\n",
    "ys_nc = [np.mean(no_changed_doors[:i]) for i in range(1,n_tests+1)]\n",
    "plt.plot(xs_c, ys_c, label='Changers')\n",
    "plt.plot(xs_nc, ys_nc, label='No Changers')\n",
    "plt.ylabel('Probability of Winning')\n",
    "plt.xlabel('Number of Simulations')\n",
    "plt.title('Simulated Probability of Winning the Monty Hall Game')\n",
    "plt.legend();"
   ]
  },
  {
   "cell_type": "markdown",
   "metadata": {},
   "source": [
    "## Summary\n",
    "\n",
    "In this lab, you further investigated the idea of Bayes' theorem and Bayesian statistics in general through the Monty Hall problem. Hopefully, this was an entertaining little experience! "
   ]
  }
 ],
 "metadata": {
  "kernelspec": {
   "display_name": "Python 3",
   "language": "python",
   "name": "python3"
  },
  "language_info": {
   "codemirror_mode": {
    "name": "ipython",
    "version": 3
   },
   "file_extension": ".py",
   "mimetype": "text/x-python",
   "name": "python",
   "nbconvert_exporter": "python",
   "pygments_lexer": "ipython3",
   "version": "3.6.9"
  },
  "toc": {
   "base_numbering": 1,
   "nav_menu": {},
   "number_sections": true,
   "sideBar": true,
   "skip_h1_title": false,
   "title_cell": "Table of Contents",
   "title_sidebar": "Contents",
   "toc_cell": false,
   "toc_position": {},
   "toc_section_display": true,
   "toc_window_display": false
  }
 },
 "nbformat": 4,
 "nbformat_minor": 2
}
